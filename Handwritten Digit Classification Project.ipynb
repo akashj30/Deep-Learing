{
  "nbformat": 4,
  "nbformat_minor": 0,
  "metadata": {
    "colab": {
      "provenance": [],
      "gpuType": "T4",
      "authorship_tag": "ABX9TyOvc7hMjlG1uvP1YpYZZbDk",
      "include_colab_link": true
    },
    "kernelspec": {
      "name": "python3",
      "display_name": "Python 3"
    },
    "language_info": {
      "name": "python"
    },
    "accelerator": "GPU"
  },
  "cells": [
    {
      "cell_type": "markdown",
      "metadata": {
        "id": "view-in-github",
        "colab_type": "text"
      },
      "source": [
        "<a href=\"https://colab.research.google.com/github/akashj30/Deep-Learing/blob/main/Handwritten%20Digit%20Classification%20Project.ipynb\" target=\"_parent\"><img src=\"https://colab.research.google.com/assets/colab-badge.svg\" alt=\"Open In Colab\"/></a>"
      ]
    },
    {
      "cell_type": "code",
      "execution_count": null,
      "metadata": {
        "id": "lEMry2hEZ5TK"
      },
      "outputs": [],
      "source": []
    },
    {
      "cell_type": "markdown",
      "source": [
        "### Handwritten Digit Classification Project - Akash Jagdale"
      ],
      "metadata": {
        "id": "LIfgDxGci06H"
      }
    },
    {
      "cell_type": "code",
      "source": [
        "from warnings import filterwarnings\n",
        "filterwarnings('ignore')"
      ],
      "metadata": {
        "id": "Zilb6hf0Z6Ub"
      },
      "execution_count": 1,
      "outputs": []
    },
    {
      "cell_type": "markdown",
      "source": [
        "Load MNIST dataset"
      ],
      "metadata": {
        "id": "IlmWp7zbjJPb"
      }
    },
    {
      "cell_type": "code",
      "source": [
        "from keras.datasets import mnist\n",
        "(xtrain,ytrain),(xtest,ytest)=mnist.load_data()"
      ],
      "metadata": {
        "colab": {
          "base_uri": "https://localhost:8080/"
        },
        "id": "LFe4TrbZZ6Xu",
        "outputId": "aada973f-430a-4d01-f954-8c28e36aa758"
      },
      "execution_count": 2,
      "outputs": [
        {
          "output_type": "stream",
          "name": "stdout",
          "text": [
            "Downloading data from https://storage.googleapis.com/tensorflow/tf-keras-datasets/mnist.npz\n",
            "11490434/11490434 [==============================] - 0s 0us/step\n"
          ]
        }
      ]
    },
    {
      "cell_type": "code",
      "source": [
        "xtrain.shape"
      ],
      "metadata": {
        "colab": {
          "base_uri": "https://localhost:8080/"
        },
        "id": "GD6RCc2HZ6a7",
        "outputId": "c28cb95f-d6e0-442b-bf00-e9e77c28256d"
      },
      "execution_count": 3,
      "outputs": [
        {
          "output_type": "execute_result",
          "data": {
            "text/plain": [
              "(60000, 28, 28)"
            ]
          },
          "metadata": {},
          "execution_count": 3
        }
      ]
    },
    {
      "cell_type": "code",
      "source": [
        "xtrain"
      ],
      "metadata": {
        "colab": {
          "base_uri": "https://localhost:8080/"
        },
        "id": "63NTm695Z6d8",
        "outputId": "d1def005-da80-4f61-cf12-04bff344c871"
      },
      "execution_count": 4,
      "outputs": [
        {
          "output_type": "execute_result",
          "data": {
            "text/plain": [
              "array([[[0, 0, 0, ..., 0, 0, 0],\n",
              "        [0, 0, 0, ..., 0, 0, 0],\n",
              "        [0, 0, 0, ..., 0, 0, 0],\n",
              "        ...,\n",
              "        [0, 0, 0, ..., 0, 0, 0],\n",
              "        [0, 0, 0, ..., 0, 0, 0],\n",
              "        [0, 0, 0, ..., 0, 0, 0]],\n",
              "\n",
              "       [[0, 0, 0, ..., 0, 0, 0],\n",
              "        [0, 0, 0, ..., 0, 0, 0],\n",
              "        [0, 0, 0, ..., 0, 0, 0],\n",
              "        ...,\n",
              "        [0, 0, 0, ..., 0, 0, 0],\n",
              "        [0, 0, 0, ..., 0, 0, 0],\n",
              "        [0, 0, 0, ..., 0, 0, 0]],\n",
              "\n",
              "       [[0, 0, 0, ..., 0, 0, 0],\n",
              "        [0, 0, 0, ..., 0, 0, 0],\n",
              "        [0, 0, 0, ..., 0, 0, 0],\n",
              "        ...,\n",
              "        [0, 0, 0, ..., 0, 0, 0],\n",
              "        [0, 0, 0, ..., 0, 0, 0],\n",
              "        [0, 0, 0, ..., 0, 0, 0]],\n",
              "\n",
              "       ...,\n",
              "\n",
              "       [[0, 0, 0, ..., 0, 0, 0],\n",
              "        [0, 0, 0, ..., 0, 0, 0],\n",
              "        [0, 0, 0, ..., 0, 0, 0],\n",
              "        ...,\n",
              "        [0, 0, 0, ..., 0, 0, 0],\n",
              "        [0, 0, 0, ..., 0, 0, 0],\n",
              "        [0, 0, 0, ..., 0, 0, 0]],\n",
              "\n",
              "       [[0, 0, 0, ..., 0, 0, 0],\n",
              "        [0, 0, 0, ..., 0, 0, 0],\n",
              "        [0, 0, 0, ..., 0, 0, 0],\n",
              "        ...,\n",
              "        [0, 0, 0, ..., 0, 0, 0],\n",
              "        [0, 0, 0, ..., 0, 0, 0],\n",
              "        [0, 0, 0, ..., 0, 0, 0]],\n",
              "\n",
              "       [[0, 0, 0, ..., 0, 0, 0],\n",
              "        [0, 0, 0, ..., 0, 0, 0],\n",
              "        [0, 0, 0, ..., 0, 0, 0],\n",
              "        ...,\n",
              "        [0, 0, 0, ..., 0, 0, 0],\n",
              "        [0, 0, 0, ..., 0, 0, 0],\n",
              "        [0, 0, 0, ..., 0, 0, 0]]], dtype=uint8)"
            ]
          },
          "metadata": {},
          "execution_count": 4
        }
      ]
    },
    {
      "cell_type": "code",
      "source": [
        "ytrain"
      ],
      "metadata": {
        "colab": {
          "base_uri": "https://localhost:8080/"
        },
        "id": "YXjfe7uTZ6hE",
        "outputId": "0b1179e0-4627-4ec5-e646-52d5d3698d60"
      },
      "execution_count": 5,
      "outputs": [
        {
          "output_type": "execute_result",
          "data": {
            "text/plain": [
              "array([5, 0, 4, ..., 5, 6, 8], dtype=uint8)"
            ]
          },
          "metadata": {},
          "execution_count": 5
        }
      ]
    },
    {
      "cell_type": "code",
      "source": [
        "import matplotlib.pyplot as plt\n",
        "plt.imshow(xtrain[0],cmap='gray')"
      ],
      "metadata": {
        "colab": {
          "base_uri": "https://localhost:8080/",
          "height": 447
        },
        "id": "5uxz7T7DZ6kO",
        "outputId": "d99ba4ec-f8bd-4168-bc05-36b525c666cd"
      },
      "execution_count": 7,
      "outputs": [
        {
          "output_type": "execute_result",
          "data": {
            "text/plain": [
              "<matplotlib.image.AxesImage at 0x7f4e22d6c730>"
            ]
          },
          "metadata": {},
          "execution_count": 7
        },
        {
          "output_type": "display_data",
          "data": {
            "text/plain": [
              "<Figure size 640x480 with 1 Axes>"
            ],
            "image/png": "[encoded data removed]"
          },
          "metadata": {}
        }
      ]
    },
    {
      "cell_type": "code",
      "source": [
        "xtest.shape"
      ],
      "metadata": {
        "colab": {
          "base_uri": "https://localhost:8080/"
        },
        "id": "jOMcBhzaZ6nQ",
        "outputId": "b8bf88b3-2e54-4729-cd02-6d35cb379343"
      },
      "execution_count": 8,
      "outputs": [
        {
          "output_type": "execute_result",
          "data": {
            "text/plain": [
              "(10000, 28, 28)"
            ]
          },
          "metadata": {},
          "execution_count": 8
        }
      ]
    },
    {
      "cell_type": "code",
      "source": [
        "ytest"
      ],
      "metadata": {
        "colab": {
          "base_uri": "https://localhost:8080/"
        },
        "id": "z0rCUy5bZ6qN",
        "outputId": "7d0609a0-fddb-43f7-c10e-da55eebcbec9"
      },
      "execution_count": 9,
      "outputs": [
        {
          "output_type": "execute_result",
          "data": {
            "text/plain": [
              "array([7, 2, 1, ..., 4, 5, 6], dtype=uint8)"
            ]
          },
          "metadata": {},
          "execution_count": 9
        }
      ]
    },
    {
      "cell_type": "code",
      "source": [
        "plt.imshow(xtest[0],cmap='gray')"
      ],
      "metadata": {
        "colab": {
          "base_uri": "https://localhost:8080/",
          "height": 447
        },
        "id": "_NdFPXOnZ6tU",
        "outputId": "9c0a52c7-8793-4bec-872b-ea07c1efc779"
      },
      "execution_count": 12,
      "outputs": [
        {
          "output_type": "execute_result",
          "data": {
            "text/plain": [
              "<matplotlib.image.AxesImage at 0x7f4e22b226e0>"
            ]
          },
          "metadata": {},
          "execution_count": 12
        },
        {
          "output_type": "display_data",
          "data": {
            "text/plain": [
              "<Figure size 640x480 with 1 Axes>"
            ],
            "image/png": "[encoded data removed]"
          },
          "metadata": {}
        }
      ]
    },
    {
      "cell_type": "markdown",
      "source": [
        "### Display first 9 Images from train data"
      ],
      "metadata": {
        "id": "oVWoeVLbkavP"
      }
    },
    {
      "cell_type": "code",
      "source": [
        "plt.figure(figsize=(10,10))\n",
        "for i in range(9):\n",
        "    plt.subplot(3,3,i+1)\n",
        "    plt.imshow(xtrain[i],cmap='gray')\n",
        "    plt.title(f\"Lable : {ytrain[i]}\")"
      ],
      "metadata": {
        "colab": {
          "base_uri": "https://localhost:8080/",
          "height": 853
        },
        "id": "9UNHznZ4Z6wZ",
        "outputId": "e17b6f9f-716b-4853-f948-1374c26bb642"
      },
      "execution_count": 14,
      "outputs": [
        {
          "output_type": "display_data",
          "data": {
            "text/plain": [
              "<Figure size 1000x1000 with 9 Axes>"
            ],
            "image/png": "[encoded data removed]"
          },
          "metadata": {}
        }
      ]
    },
    {
      "cell_type": "code",
      "source": [
        "import numpy as np\n",
        "np.unique(ytrain)"
      ],
      "metadata": {
        "colab": {
          "base_uri": "https://localhost:8080/"
        },
        "id": "4AtDKQjaZ6zh",
        "outputId": "a8e1e865-1254-48a0-8562-9361bdce4c73"
      },
      "execution_count": 15,
      "outputs": [
        {
          "output_type": "execute_result",
          "data": {
            "text/plain": [
              "array([0, 1, 2, 3, 4, 5, 6, 7, 8, 9], dtype=uint8)"
            ]
          },
          "metadata": {},
          "execution_count": 15
        }
      ]
    },
    {
      "cell_type": "code",
      "source": [
        "len(np.unique(ytrain))"
      ],
      "metadata": {
        "colab": {
          "base_uri": "https://localhost:8080/"
        },
        "id": "qRdxT_MnZ62o",
        "outputId": "bcd36ce7-0f4f-425d-bf95-ef38ddb7db65"
      },
      "execution_count": 16,
      "outputs": [
        {
          "output_type": "execute_result",
          "data": {
            "text/plain": [
              "10"
            ]
          },
          "metadata": {},
          "execution_count": 16
        }
      ]
    },
    {
      "cell_type": "markdown",
      "source": [
        "### Multiclass Classification Problem"
      ],
      "metadata": {
        "id": "YPlhRTJGlWRY"
      }
    },
    {
      "cell_type": "markdown",
      "source": [
        "Preprocessing Image Data\n",
        "\n",
        "Pixel Value - 0-255"
      ],
      "metadata": {
        "id": "8VF_SFoPlh6S"
      }
    },
    {
      "cell_type": "code",
      "source": [
        "xtrain_scl = xtrain.astype('float32')/255\n",
        "xtest_scl = xtest.astype('float32')/255"
      ],
      "metadata": {
        "id": "eMZhFjWMlShe"
      },
      "execution_count": 17,
      "outputs": []
    },
    {
      "cell_type": "code",
      "source": [
        "xtrain_scl[0]"
      ],
      "metadata": {
        "colab": {
          "base_uri": "https://localhost:8080/"
        },
        "id": "lOSDSm2jZ65w",
        "outputId": "ce88e2e2-084a-4bfd-a30d-a617fc20d9f5"
      },
      "execution_count": 18,
      "outputs": [
        {
          "output_type": "execute_result",
          "data": {
            "text/plain": [
              "array([[0.        , 0.        , 0.        , 0.        , 0.        ,\n",
              "        0.        , 0.        , 0.        , 0.        , 0.        ,\n",
              "        0.        , 0.        , 0.        , 0.        , 0.        ,\n",
              "        0.        , 0.        , 0.        , 0.        , 0.        ,\n",
              "        0.        , 0.        , 0.        , 0.        , 0.        ,\n",
              "        0.        , 0.        , 0.        ],\n",
              "       [0.        , 0.        , 0.        , 0.        , 0.        ,\n",
              "        0.        , 0.        , 0.        , 0.        , 0.        ,\n",
              "        0.        , 0.        , 0.        , 0.        , 0.        ,\n",
              "        0.        , 0.        , 0.        , 0.        , 0.        ,\n",
              "        0.        , 0.        , 0.        , 0.        , 0.        ,\n",
              "        0.        , 0.        , 0.        ],\n",
              "       [0.        , 0.        , 0.        , 0.        , 0.        ,\n",
              "        0.        , 0.        , 0.        , 0.        , 0.        ,\n",
              "        0.        , 0.        , 0.        , 0.        , 0.        ,\n",
              "        0.        , 0.        , 0.        , 0.        , 0.        ,\n",
              "        0.        , 0.        , 0.        , 0.        , 0.        ,\n",
              "        0.        , 0.        , 0.        ],\n",
              "       [0.        , 0.        , 0.        , 0.        , 0.        ,\n",
              "        0.        , 0.        , 0.        , 0.        , 0.        ,\n",
              "        0.        , 0.        , 0.        , 0.        , 0.        ,\n",
              "        0.        , 0.        , 0.        , 0.        , 0.        ,\n",
              "        0.        , 0.        , 0.        , 0.        , 0.        ,\n",
              "        0.        , 0.        , 0.        ],\n",
              "       [0.        , 0.        , 0.        , 0.        , 0.        ,\n",
              "        0.        , 0.        , 0.        , 0.        , 0.        ,\n",
              "        0.        , 0.        , 0.        , 0.        , 0.        ,\n",
              "        0.        , 0.        , 0.        , 0.        , 0.        ,\n",
              "        0.        , 0.        , 0.        , 0.        , 0.        ,\n",
              "        0.        , 0.        , 0.        ],\n",
              "       [0.        , 0.        , 0.        , 0.        , 0.        ,\n",
              "        0.        , 0.        , 0.        , 0.        , 0.        ,\n",
              "        0.        , 0.        , 0.01176471, 0.07058824, 0.07058824,\n",
              "        0.07058824, 0.49411765, 0.53333336, 0.6862745 , 0.10196079,\n",
              "        0.6509804 , 1.        , 0.96862745, 0.49803922, 0.        ,\n",
              "        0.        , 0.        , 0.        ],\n",
              "       [0.        , 0.        , 0.        , 0.        , 0.        ,\n",
              "        0.        , 0.        , 0.        , 0.11764706, 0.14117648,\n",
              "        0.36862746, 0.6039216 , 0.6666667 , 0.99215686, 0.99215686,\n",
              "        0.99215686, 0.99215686, 0.99215686, 0.88235295, 0.6745098 ,\n",
              "        0.99215686, 0.9490196 , 0.7647059 , 0.2509804 , 0.        ,\n",
              "        0.        , 0.        , 0.        ],\n",
              "       [0.        , 0.        , 0.        , 0.        , 0.        ,\n",
              "        0.        , 0.        , 0.19215687, 0.93333334, 0.99215686,\n",
              "        0.99215686, 0.99215686, 0.99215686, 0.99215686, 0.99215686,\n",
              "        0.99215686, 0.99215686, 0.9843137 , 0.3647059 , 0.32156864,\n",
              "        0.32156864, 0.21960784, 0.15294118, 0.        , 0.        ,\n",
              "        0.        , 0.        , 0.        ],\n",
              "       [0.        , 0.        , 0.        , 0.        , 0.        ,\n",
              "        0.        , 0.        , 0.07058824, 0.85882354, 0.99215686,\n",
              "        0.99215686, 0.99215686, 0.99215686, 0.99215686, 0.7764706 ,\n",
              "        0.7137255 , 0.96862745, 0.94509804, 0.        , 0.        ,\n",
              "        0.        , 0.        , 0.        , 0.        , 0.        ,\n",
              "        0.        , 0.        , 0.        ],\n",
              "       [0.        , 0.        , 0.        , 0.        , 0.        ,\n",
              "        0.        , 0.        , 0.        , 0.3137255 , 0.6117647 ,\n",
              "        0.41960785, 0.99215686, 0.99215686, 0.8039216 , 0.04313726,\n",
              "        0.        , 0.16862746, 0.6039216 , 0.        , 0.        ,\n",
              "        0.        , 0.        , 0.        , 0.        , 0.        ,\n",
              "        0.        , 0.        , 0.        ],\n",
              "       [0.        , 0.        , 0.        , 0.        , 0.        ,\n",
              "        0.        , 0.        , 0.        , 0.        , 0.05490196,\n",
              "        0.00392157, 0.6039216 , 0.99215686, 0.3529412 , 0.        ,\n",
              "        0.        , 0.        , 0.        , 0.        , 0.        ,\n",
              "        0.        , 0.        , 0.        , 0.        , 0.        ,\n",
              "        0.        , 0.        , 0.        ],\n",
              "       [0.        , 0.        , 0.        , 0.        , 0.        ,\n",
              "        0.        , 0.        , 0.        , 0.        , 0.        ,\n",
              "        0.        , 0.54509807, 0.99215686, 0.74509805, 0.00784314,\n",
              "        0.        , 0.        , 0.        , 0.        , 0.        ,\n",
              "        0.        , 0.        , 0.        , 0.        , 0.        ,\n",
              "        0.        , 0.        , 0.        ],\n",
              "       [0.        , 0.        , 0.        , 0.        , 0.        ,\n",
              "        0.        , 0.        , 0.        , 0.        , 0.        ,\n",
              "        0.        , 0.04313726, 0.74509805, 0.99215686, 0.27450982,\n",
              "        0.        , 0.        , 0.        , 0.        , 0.        ,\n",
              "        0.        , 0.        , 0.        , 0.        , 0.        ,\n",
              "        0.        , 0.        , 0.        ],\n",
              "       [0.        , 0.        , 0.        , 0.        , 0.        ,\n",
              "        0.        , 0.        , 0.        , 0.        , 0.        ,\n",
              "        0.        , 0.        , 0.13725491, 0.94509804, 0.88235295,\n",
              "        0.627451  , 0.42352942, 0.00392157, 0.        , 0.        ,\n",
              "        0.        , 0.        , 0.        , 0.        , 0.        ,\n",
              "        0.        , 0.        , 0.        ],\n",
              "       [0.        , 0.        , 0.        , 0.        , 0.        ,\n",
              "        0.        , 0.        , 0.        , 0.        , 0.        ,\n",
              "        0.        , 0.        , 0.        , 0.31764707, 0.9411765 ,\n",
              "        0.99215686, 0.99215686, 0.46666667, 0.09803922, 0.        ,\n",
              "        0.        , 0.        , 0.        , 0.        , 0.        ,\n",
              "        0.        , 0.        , 0.        ],\n",
              "       [0.        , 0.        , 0.        , 0.        , 0.        ,\n",
              "        0.        , 0.        , 0.        , 0.        , 0.        ,\n",
              "        0.        , 0.        , 0.        , 0.        , 0.1764706 ,\n",
              "        0.7294118 , 0.99215686, 0.99215686, 0.5882353 , 0.10588235,\n",
              "        0.        , 0.        , 0.        , 0.        , 0.        ,\n",
              "        0.        , 0.        , 0.        ],\n",
              "       [0.        , 0.        , 0.        , 0.        , 0.        ,\n",
              "        0.        , 0.        , 0.        , 0.        , 0.        ,\n",
              "        0.        , 0.        , 0.        , 0.        , 0.        ,\n",
              "        0.0627451 , 0.3647059 , 0.9882353 , 0.99215686, 0.73333335,\n",
              "        0.        , 0.        , 0.        , 0.        , 0.        ,\n",
              "        0.        , 0.        , 0.        ],\n",
              "       [0.        , 0.        , 0.        , 0.        , 0.        ,\n",
              "        0.        , 0.        , 0.        , 0.        , 0.        ,\n",
              "        0.        , 0.        , 0.        , 0.        , 0.        ,\n",
              "        0.        , 0.        , 0.9764706 , 0.99215686, 0.9764706 ,\n",
              "        0.2509804 , 0.        , 0.        , 0.        , 0.        ,\n",
              "        0.        , 0.        , 0.        ],\n",
              "       [0.        , 0.        , 0.        , 0.        , 0.        ,\n",
              "        0.        , 0.        , 0.        , 0.        , 0.        ,\n",
              "        0.        , 0.        , 0.        , 0.        , 0.18039216,\n",
              "        0.50980395, 0.7176471 , 0.99215686, 0.99215686, 0.8117647 ,\n",
              "        0.00784314, 0.        , 0.        , 0.        , 0.        ,\n",
              "        0.        , 0.        , 0.        ],\n",
              "       [0.        , 0.        , 0.        , 0.        , 0.        ,\n",
              "        0.        , 0.        , 0.        , 0.        , 0.        ,\n",
              "        0.        , 0.        , 0.15294118, 0.5803922 , 0.8980392 ,\n",
              "        0.99215686, 0.99215686, 0.99215686, 0.98039216, 0.7137255 ,\n",
              "        0.        , 0.        , 0.        , 0.        , 0.        ,\n",
              "        0.        , 0.        , 0.        ],\n",
              "       [0.        , 0.        , 0.        , 0.        , 0.        ,\n",
              "        0.        , 0.        , 0.        , 0.        , 0.        ,\n",
              "        0.09411765, 0.44705883, 0.8666667 , 0.99215686, 0.99215686,\n",
              "        0.99215686, 0.99215686, 0.7882353 , 0.30588236, 0.        ,\n",
              "        0.        , 0.        , 0.        , 0.        , 0.        ,\n",
              "        0.        , 0.        , 0.        ],\n",
              "       [0.        , 0.        , 0.        , 0.        , 0.        ,\n",
              "        0.        , 0.        , 0.        , 0.09019608, 0.25882354,\n",
              "        0.8352941 , 0.99215686, 0.99215686, 0.99215686, 0.99215686,\n",
              "        0.7764706 , 0.31764707, 0.00784314, 0.        , 0.        ,\n",
              "        0.        , 0.        , 0.        , 0.        , 0.        ,\n",
              "        0.        , 0.        , 0.        ],\n",
              "       [0.        , 0.        , 0.        , 0.        , 0.        ,\n",
              "        0.        , 0.07058824, 0.67058825, 0.85882354, 0.99215686,\n",
              "        0.99215686, 0.99215686, 0.99215686, 0.7647059 , 0.3137255 ,\n",
              "        0.03529412, 0.        , 0.        , 0.        , 0.        ,\n",
              "        0.        , 0.        , 0.        , 0.        , 0.        ,\n",
              "        0.        , 0.        , 0.        ],\n",
              "       [0.        , 0.        , 0.        , 0.        , 0.21568628,\n",
              "        0.6745098 , 0.8862745 , 0.99215686, 0.99215686, 0.99215686,\n",
              "        0.99215686, 0.95686275, 0.52156866, 0.04313726, 0.        ,\n",
              "        0.        , 0.        , 0.        , 0.        , 0.        ,\n",
              "        0.        , 0.        , 0.        , 0.        , 0.        ,\n",
              "        0.        , 0.        , 0.        ],\n",
              "       [0.        , 0.        , 0.        , 0.        , 0.53333336,\n",
              "        0.99215686, 0.99215686, 0.99215686, 0.83137256, 0.5294118 ,\n",
              "        0.5176471 , 0.0627451 , 0.        , 0.        , 0.        ,\n",
              "        0.        , 0.        , 0.        , 0.        , 0.        ,\n",
              "        0.        , 0.        , 0.        , 0.        , 0.        ,\n",
              "        0.        , 0.        , 0.        ],\n",
              "       [0.        , 0.        , 0.        , 0.        , 0.        ,\n",
              "        0.        , 0.        , 0.        , 0.        , 0.        ,\n",
              "        0.        , 0.        , 0.        , 0.        , 0.        ,\n",
              "        0.        , 0.        , 0.        , 0.        , 0.        ,\n",
              "        0.        , 0.        , 0.        , 0.        , 0.        ,\n",
              "        0.        , 0.        , 0.        ],\n",
              "       [0.        , 0.        , 0.        , 0.        , 0.        ,\n",
              "        0.        , 0.        , 0.        , 0.        , 0.        ,\n",
              "        0.        , 0.        , 0.        , 0.        , 0.        ,\n",
              "        0.        , 0.        , 0.        , 0.        , 0.        ,\n",
              "        0.        , 0.        , 0.        , 0.        , 0.        ,\n",
              "        0.        , 0.        , 0.        ],\n",
              "       [0.        , 0.        , 0.        , 0.        , 0.        ,\n",
              "        0.        , 0.        , 0.        , 0.        , 0.        ,\n",
              "        0.        , 0.        , 0.        , 0.        , 0.        ,\n",
              "        0.        , 0.        , 0.        , 0.        , 0.        ,\n",
              "        0.        , 0.        , 0.        , 0.        , 0.        ,\n",
              "        0.        , 0.        , 0.        ]], dtype=float32)"
            ]
          },
          "metadata": {},
          "execution_count": 18
        }
      ]
    },
    {
      "cell_type": "markdown",
      "source": [
        "OneHot Encode the y Features"
      ],
      "metadata": {
        "id": "2rv5T6_SmNp0"
      }
    },
    {
      "cell_type": "code",
      "source": [
        "from keras.utils import to_categorical\n",
        "ytrain_cat = to_categorical(ytrain)\n",
        "ytest_cat = to_categorical(ytest)"
      ],
      "metadata": {
        "id": "wBekZxAEZ684"
      },
      "execution_count": 19,
      "outputs": []
    },
    {
      "cell_type": "code",
      "source": [
        "ytrain[0:5]"
      ],
      "metadata": {
        "colab": {
          "base_uri": "https://localhost:8080/"
        },
        "id": "KRfUE8a1Z7Ai",
        "outputId": "0cad96f9-f4be-4f98-b874-5881ccddebf2"
      },
      "execution_count": 20,
      "outputs": [
        {
          "output_type": "execute_result",
          "data": {
            "text/plain": [
              "array([5, 0, 4, 1, 9], dtype=uint8)"
            ]
          },
          "metadata": {},
          "execution_count": 20
        }
      ]
    },
    {
      "cell_type": "code",
      "source": [
        "ytrain_cat[0:5]"
      ],
      "metadata": {
        "colab": {
          "base_uri": "https://localhost:8080/"
        },
        "id": "YyODcD_zZ7D4",
        "outputId": "8a61ea5a-4015-443a-cc06-884493e4af9c"
      },
      "execution_count": 21,
      "outputs": [
        {
          "output_type": "execute_result",
          "data": {
            "text/plain": [
              "array([[0., 0., 0., 0., 0., 1., 0., 0., 0., 0.],\n",
              "       [1., 0., 0., 0., 0., 0., 0., 0., 0., 0.],\n",
              "       [0., 0., 0., 0., 1., 0., 0., 0., 0., 0.],\n",
              "       [0., 1., 0., 0., 0., 0., 0., 0., 0., 0.],\n",
              "       [0., 0., 0., 0., 0., 0., 0., 0., 0., 1.]], dtype=float32)"
            ]
          },
          "metadata": {},
          "execution_count": 21
        }
      ]
    },
    {
      "cell_type": "code",
      "source": [
        "ytest[0:5]"
      ],
      "metadata": {
        "colab": {
          "base_uri": "https://localhost:8080/"
        },
        "id": "W87-tPPgZ7Gz",
        "outputId": "a29f94e3-07d2-4504-b050-96af37c3fb12"
      },
      "execution_count": 22,
      "outputs": [
        {
          "output_type": "execute_result",
          "data": {
            "text/plain": [
              "array([7, 2, 1, 0, 4], dtype=uint8)"
            ]
          },
          "metadata": {},
          "execution_count": 22
        }
      ]
    },
    {
      "cell_type": "code",
      "source": [
        "ytest_cat[0:5]"
      ],
      "metadata": {
        "colab": {
          "base_uri": "https://localhost:8080/"
        },
        "id": "P52CAjVrZ7J7",
        "outputId": "5ce0dfab-cb83-41e2-8df8-51142ccd2afb"
      },
      "execution_count": 23,
      "outputs": [
        {
          "output_type": "execute_result",
          "data": {
            "text/plain": [
              "array([[0., 0., 0., 0., 0., 0., 0., 1., 0., 0.],\n",
              "       [0., 0., 1., 0., 0., 0., 0., 0., 0., 0.],\n",
              "       [0., 1., 0., 0., 0., 0., 0., 0., 0., 0.],\n",
              "       [1., 0., 0., 0., 0., 0., 0., 0., 0., 0.],\n",
              "       [0., 0., 0., 0., 1., 0., 0., 0., 0., 0.]], dtype=float32)"
            ]
          },
          "metadata": {},
          "execution_count": 23
        }
      ]
    },
    {
      "cell_type": "markdown",
      "source": [
        "### Build the Neural Network\n",
        "\n",
        "Simple Covnet architecture\n",
        "\n"
      ],
      "metadata": {
        "id": "YXrS_sjbmymv"
      }
    },
    {
      "cell_type": "markdown",
      "source": [
        "![image.png](data:image/png;base64,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)"
      ],
      "metadata": {
        "id": "CTlWD2cYvaZ-"
      }
    },
    {
      "cell_type": "code",
      "source": [
        "from keras.models import Sequential\n",
        "from keras.layers import Input, Dense, Conv2D, MaxPooling2D, Flatten,Dense,Dropout"
      ],
      "metadata": {
        "id": "oS6pXwp7Z7NX"
      },
      "execution_count": 26,
      "outputs": []
    },
    {
      "cell_type": "code",
      "source": [
        "model = Sequential()\n",
        "\n",
        "# Add input layer\n",
        "model.add(Input(shape=(28,28,1)))\n",
        "\n",
        "# Add convolutional layer 1\n",
        "model.add(Conv2D(32, kernel_size=(3,3), activation='relu'))\n",
        "\n",
        "# Add Max pooling 1\n",
        "model.add(MaxPooling2D(pool_size=(2,2)))\n",
        "\n",
        "# Add convolutional layer 2\n",
        "model.add(Conv2D(64, kernel_size=(3,3), activation='relu'))\n",
        "\n",
        "# Add Max pooling 2\n",
        "model.add(MaxPooling2D(pool_size=(2,2)))\n",
        "\n",
        "# Add Flatten layer\n",
        "model.add(Flatten())\n",
        "\n",
        "# Add Dropout layer\n",
        "model.add(Dropout(0.5))\n",
        "\n",
        "# Outer layer\n",
        "model.add(Dense(ytrain_cat.shape[1],activation='softmax'))\n"
      ],
      "metadata": {
        "id": "pXcm0IxVnbzA"
      },
      "execution_count": 28,
      "outputs": []
    },
    {
      "cell_type": "code",
      "source": [
        "model.summary()"
      ],
      "metadata": {
        "colab": {
          "base_uri": "https://localhost:8080/"
        },
        "id": "23h_DThlwJkE",
        "outputId": "9d9faaba-c809-451a-a5b8-e1d4688f1e49"
      },
      "execution_count": 29,
      "outputs": [
        {
          "output_type": "stream",
          "name": "stdout",
          "text": [
            "Model: \"sequential_2\"\n",
            "_________________________________________________________________\n",
            " Layer (type)                Output Shape              Param #   \n",
            "=================================================================\n",
            " conv2d_3 (Conv2D)           (None, 26, 26, 32)        320       \n",
            "                                                                 \n",
            " max_pooling2d_2 (MaxPoolin  (None, 13, 13, 32)        0         \n",
            " g2D)                                                            \n",
            "                                                                 \n",
            " conv2d_4 (Conv2D)           (None, 11, 11, 64)        18496     \n",
            "                                                                 \n",
            " max_pooling2d_3 (MaxPoolin  (None, 5, 5, 64)          0         \n",
            " g2D)                                                            \n",
            "                                                                 \n",
            " flatten_1 (Flatten)         (None, 1600)              0         \n",
            "                                                                 \n",
            " dropout_1 (Dropout)         (None, 1600)              0         \n",
            "                                                                 \n",
            " dense (Dense)               (None, 10)                16010     \n",
            "                                                                 \n",
            "=================================================================\n",
            "Total params: 34826 (136.04 KB)\n",
            "Trainable params: 34826 (136.04 KB)\n",
            "Non-trainable params: 0 (0.00 Byte)\n",
            "_________________________________________________________________\n"
          ]
        }
      ]
    },
    {
      "cell_type": "code",
      "source": [
        "model.compile(optimizer='adam', loss='categorical_crossentropy', metrics=['accuracy'])"
      ],
      "metadata": {
        "id": "EY1TmE1iwZOV"
      },
      "execution_count": 30,
      "outputs": []
    },
    {
      "cell_type": "code",
      "source": [
        "hist = model.fit(xtrain_scl, ytrain_cat, epochs=15, validation_split=0.1)"
      ],
      "metadata": {
        "colab": {
          "base_uri": "https://localhost:8080/"
        },
        "id": "4E3Ef1J0wg0c",
        "outputId": "27c7f3fb-e87a-4505-fc0a-f86c63f6f429"
      },
      "execution_count": 31,
      "outputs": [
        {
          "output_type": "stream",
          "name": "stdout",
          "text": [
            "Epoch 1/15\n",
            "1688/1688 [==============================] - 47s 27ms/step - loss: 0.2208 - accuracy: 0.9317 - val_loss: 0.0628 - val_accuracy: 0.9832\n",
            "Epoch 2/15\n",
            "1688/1688 [==============================] - 45s 27ms/step - loss: 0.0856 - accuracy: 0.9730 - val_loss: 0.0419 - val_accuracy: 0.9887\n",
            "Epoch 3/15\n",
            "1688/1688 [==============================] - 44s 26ms/step - loss: 0.0655 - accuracy: 0.9800 - val_loss: 0.0388 - val_accuracy: 0.9903\n",
            "Epoch 4/15\n",
            "1688/1688 [==============================] - 46s 27ms/step - loss: 0.0558 - accuracy: 0.9822 - val_loss: 0.0356 - val_accuracy: 0.9890\n",
            "Epoch 5/15\n",
            "1688/1688 [==============================] - 45s 27ms/step - loss: 0.0496 - accuracy: 0.9836 - val_loss: 0.0329 - val_accuracy: 0.9913\n",
            "Epoch 6/15\n",
            "1688/1688 [==============================] - 43s 26ms/step - loss: 0.0458 - accuracy: 0.9852 - val_loss: 0.0339 - val_accuracy: 0.9915\n",
            "Epoch 7/15\n",
            "1688/1688 [==============================] - 44s 26ms/step - loss: 0.0403 - accuracy: 0.9869 - val_loss: 0.0305 - val_accuracy: 0.9930\n",
            "Epoch 8/15\n",
            "1688/1688 [==============================] - 45s 26ms/step - loss: 0.0377 - accuracy: 0.9875 - val_loss: 0.0308 - val_accuracy: 0.9923\n",
            "Epoch 9/15\n",
            "1688/1688 [==============================] - 46s 27ms/step - loss: 0.0368 - accuracy: 0.9883 - val_loss: 0.0299 - val_accuracy: 0.9920\n",
            "Epoch 10/15\n",
            "1688/1688 [==============================] - 43s 25ms/step - loss: 0.0324 - accuracy: 0.9892 - val_loss: 0.0290 - val_accuracy: 0.9918\n",
            "Epoch 11/15\n",
            "1688/1688 [==============================] - 44s 26ms/step - loss: 0.0320 - accuracy: 0.9893 - val_loss: 0.0311 - val_accuracy: 0.9917\n",
            "Epoch 12/15\n",
            "1688/1688 [==============================] - 43s 25ms/step - loss: 0.0297 - accuracy: 0.9902 - val_loss: 0.0264 - val_accuracy: 0.9932\n",
            "Epoch 13/15\n",
            "1688/1688 [==============================] - 43s 25ms/step - loss: 0.0275 - accuracy: 0.9910 - val_loss: 0.0301 - val_accuracy: 0.9927\n",
            "Epoch 14/15\n",
            "1688/1688 [==============================] - 44s 26ms/step - loss: 0.0300 - accuracy: 0.9896 - val_loss: 0.0296 - val_accuracy: 0.9920\n",
            "Epoch 15/15\n",
            "1688/1688 [==============================] - 44s 26ms/step - loss: 0.0266 - accuracy: 0.9911 - val_loss: 0.0300 - val_accuracy: 0.9927\n"
          ]
        }
      ]
    },
    {
      "cell_type": "markdown",
      "source": [
        "### Plot the learning curve\n"
      ],
      "metadata": {
        "id": "LVkzw4l4z5IS"
      }
    },
    {
      "cell_type": "code",
      "source": [
        "plt.figure(figsize=(12,8))\n",
        "plt.plot(hist.history['loss'],label='Train Loss')\n",
        "plt.plot(hist.history['val_loss'],label = 'Validation Loss')\n",
        "plt.title('Learning Curve')\n",
        "plt.ylabel('Categorical Crossentropy loss')\n",
        "plt.xlabel('Epoch')\n",
        "plt.legend()\n",
        "plt.show"
      ],
      "metadata": {
        "colab": {
          "base_uri": "https://localhost:8080/",
          "height": 775
        },
        "id": "YPs1gs5OyKUo",
        "outputId": "f8268367-6eb5-4179-f368-6fd227348edc"
      },
      "execution_count": 33,
      "outputs": [
        {
          "output_type": "execute_result",
          "data": {
            "text/plain": [
              "<function matplotlib.pyplot.show(close=None, block=None)>"
            ],
            "text/html": [
              "<div style=\"max-width:800px; border: 1px solid var(--colab-border-color);\"><style>\n",
              "      pre.function-repr-contents {\n",
              "        overflow-x: auto;\n",
              "        padding: 8px 12px;\n",
              "        max-height: 500px;\n",
              "      }\n",
              "\n",
              "      pre.function-repr-contents.function-repr-contents-collapsed {\n",
              "        cursor: pointer;\n",
              "        max-height: 100px;\n",
              "      }\n",
              "    </style>\n",
              "    <pre style=\"white-space: initial; background:\n",
              "         var(--colab-secondary-surface-color); padding: 8px 12px;\n",
              "         border-bottom: 1px solid var(--colab-border-color);\"><b>matplotlib.pyplot.show</b><br/>def show(*args, **kwargs)</pre><pre class=\"function-repr-contents function-repr-contents-collapsed\" style=\"\"><a class=\"filepath\" style=\"display:none\" href=\"#\">/usr/local/lib/python3.10/dist-packages/matplotlib/pyplot.py</a>Display all open figures.\n",
              "\n",
              "Parameters\n",
              "----------\n",
              "block : bool, optional\n",
              "    Whether to wait for all figures to be closed before returning.\n",
              "\n",
              "    If `True` block and run the GUI main loop until all figure windows\n",
              "    are closed.\n",
              "\n",
              "    If `False` ensure that all figure windows are displayed and return\n",
              "    immediately.  In this case, you are responsible for ensuring\n",
              "    that the event loop is running to have responsive figures.\n",
              "\n",
              "    Defaults to True in non-interactive mode and to False in interactive\n",
              "    mode (see `.pyplot.isinteractive`).\n",
              "\n",
              "See Also\n",
              "--------\n",
              "ion : Enable interactive mode, which shows / updates the figure after\n",
              "      every plotting command, so that calling ``show()`` is not necessary.\n",
              "ioff : Disable interactive mode.\n",
              "savefig : Save the figure to an image file instead of showing it on screen.\n",
              "\n",
              "Notes\n",
              "-----\n",
              "**Saving figures to file and showing a window at the same time**\n",
              "\n",
              "If you want an image file as well as a user interface window, use\n",
              "`.pyplot.savefig` before `.pyplot.show`. At the end of (a blocking)\n",
              "``show()`` the figure is closed and thus unregistered from pyplot. Calling\n",
              "`.pyplot.savefig` afterwards would save a new and thus empty figure. This\n",
              "limitation of command order does not apply if the show is non-blocking or\n",
              "if you keep a reference to the figure and use `.Figure.savefig`.\n",
              "\n",
              "**Auto-show in jupyter notebooks**\n",
              "\n",
              "The jupyter backends (activated via ``%matplotlib inline``,\n",
              "``%matplotlib notebook``, or ``%matplotlib widget``), call ``show()`` at\n",
              "the end of every cell by default. Thus, you usually don&#x27;t have to call it\n",
              "explicitly there.</pre>\n",
              "      <script>\n",
              "      if (google.colab.kernel.accessAllowed && google.colab.files && google.colab.files.view) {\n",
              "        for (const element of document.querySelectorAll('.filepath')) {\n",
              "          element.style.display = 'block'\n",
              "          element.onclick = (event) => {\n",
              "            event.preventDefault();\n",
              "            event.stopPropagation();\n",
              "            google.colab.files.view(element.textContent, 401);\n",
              "          };\n",
              "        }\n",
              "      }\n",
              "      for (const element of document.querySelectorAll('.function-repr-contents')) {\n",
              "        element.onclick = (event) => {\n",
              "          event.preventDefault();\n",
              "          event.stopPropagation();\n",
              "          element.classList.toggle('function-repr-contents-collapsed');\n",
              "        };\n",
              "      }\n",
              "      </script>\n",
              "      </div>"
            ]
          },
          "metadata": {},
          "execution_count": 33
        },
        {
          "output_type": "display_data",
          "data": {
            "text/plain": [
              "<Figure size 1200x800 with 1 Axes>"
            ],
            "image/png": "[encoded data removed]"
          },
          "metadata": {}
        }
      ]
    },
    {
      "cell_type": "markdown",
      "source": [
        "### Evaluate the model in train and test\n"
      ],
      "metadata": {
        "id": "LZIfKOSf05bJ"
      }
    },
    {
      "cell_type": "code",
      "source": [
        "model.evaluate(xtrain_scl, ytrain_cat)"
      ],
      "metadata": {
        "colab": {
          "base_uri": "https://localhost:8080/"
        },
        "id": "1ofZWxZFyKRO",
        "outputId": "cfa76a90-ba7b-4414-bfae-648640220e27"
      },
      "execution_count": 34,
      "outputs": [
        {
          "output_type": "stream",
          "name": "stdout",
          "text": [
            "1875/1875 [==============================] - 16s 9ms/step - loss: 0.0111 - accuracy: 0.9968\n"
          ]
        },
        {
          "output_type": "execute_result",
          "data": {
            "text/plain": [
              "[0.011067040264606476, 0.9968000054359436]"
            ]
          },
          "metadata": {},
          "execution_count": 34
        }
      ]
    },
    {
      "cell_type": "code",
      "source": [
        "model.evaluate(xtest_scl, ytest_cat)"
      ],
      "metadata": {
        "colab": {
          "base_uri": "https://localhost:8080/"
        },
        "id": "Nuu6BRW4yKOG",
        "outputId": "b36924af-8ec7-4406-cea9-dd386cac9e2c"
      },
      "execution_count": 35,
      "outputs": [
        {
          "output_type": "stream",
          "name": "stdout",
          "text": [
            "313/313 [==============================] - 3s 8ms/step - loss: 0.0229 - accuracy: 0.9928\n"
          ]
        },
        {
          "output_type": "execute_result",
          "data": {
            "text/plain": [
              "[0.022899523377418518, 0.9927999973297119]"
            ]
          },
          "metadata": {},
          "execution_count": 35
        }
      ]
    },
    {
      "cell_type": "markdown",
      "source": [
        "### Predict results for train and test\n"
      ],
      "metadata": {
        "id": "nGu99sjL1KhG"
      }
    },
    {
      "cell_type": "code",
      "source": [
        "yprob_train = model.predict(xtrain_scl)\n",
        "yprob_test = model.predict(xtest_scl)"
      ],
      "metadata": {
        "colab": {
          "base_uri": "https://localhost:8080/"
        },
        "id": "HcbIV8re1JmC",
        "outputId": "5dbf91ad-b9a5-42ad-9d67-9d5fcf3e2551"
      },
      "execution_count": 36,
      "outputs": [
        {
          "output_type": "stream",
          "name": "stdout",
          "text": [
            "1875/1875 [==============================] - 17s 9ms/step\n",
            "313/313 [==============================] - 3s 10ms/step\n"
          ]
        }
      ]
    },
    {
      "cell_type": "code",
      "source": [
        "yprob_train[0:5]\n"
      ],
      "metadata": {
        "colab": {
          "base_uri": "https://localhost:8080/"
        },
        "id": "MKdVaXm9yKLP",
        "outputId": "fb93fbf6-fb47-4206-e574-ffbdc6000438"
      },
      "execution_count": 37,
      "outputs": [
        {
          "output_type": "execute_result",
          "data": {
            "text/plain": [
              "array([[4.41066411e-12, 3.49935966e-12, 1.04908533e-10, 5.33415005e-04,\n",
              "        4.98987624e-13, 9.99454379e-01, 5.48985440e-11, 3.42115752e-10,\n",
              "        2.58146520e-06, 9.72769794e-06],\n",
              "       [9.99999702e-01, 7.62790061e-18, 1.42057374e-07, 3.75660657e-12,\n",
              "        1.70682397e-13, 1.67299800e-12, 1.02920204e-07, 3.55708064e-14,\n",
              "        5.02700903e-09, 7.19037185e-09],\n",
              "       [1.53926859e-14, 1.42111361e-07, 2.47675622e-08, 4.44910393e-11,\n",
              "        9.99992430e-01, 8.78019740e-11, 2.02243465e-11, 5.62389459e-07,\n",
              "        2.44749884e-07, 6.54592213e-06],\n",
              "       [1.21611095e-08, 9.99979556e-01, 1.28581064e-07, 8.10964837e-11,\n",
              "        1.53425699e-05, 1.04472775e-09, 6.73129591e-07, 1.71730062e-06,\n",
              "        2.55002033e-06, 8.34883185e-09],\n",
              "       [1.15613803e-11, 1.83884700e-12, 9.80330928e-10, 3.13362603e-09,\n",
              "        6.09789049e-06, 1.94275623e-10, 1.31590729e-13, 6.80564085e-08,\n",
              "        1.02204040e-05, 9.99983490e-01]], dtype=float32)"
            ]
          },
          "metadata": {},
          "execution_count": 37
        }
      ]
    },
    {
      "cell_type": "code",
      "source": [
        "yprob_test[0:5]"
      ],
      "metadata": {
        "colab": {
          "base_uri": "https://localhost:8080/"
        },
        "id": "rcV4Y5WbyKIa",
        "outputId": "59ab7006-7b85-4ea6-8f32-a3a7cdddbec4"
      },
      "execution_count": 38,
      "outputs": [
        {
          "output_type": "execute_result",
          "data": {
            "text/plain": [
              "array([[2.1303226e-10, 4.1686264e-12, 2.4834165e-07, 4.1570743e-08,\n",
              "        3.6493720e-15, 4.8356362e-12, 4.5715923e-17, 9.9999946e-01,\n",
              "        1.8624255e-10, 2.7368617e-07],\n",
              "       [1.5445684e-06, 1.3846504e-06, 9.9999601e-01, 6.4351119e-10,\n",
              "        2.0632605e-10, 4.3070165e-14, 9.7265161e-07, 1.8061438e-11,\n",
              "        4.0358348e-09, 1.4514905e-11],\n",
              "       [2.9244045e-09, 9.9995059e-01, 1.9973665e-08, 2.0400638e-10,\n",
              "        3.9148617e-05, 4.8659943e-09, 3.5197213e-06, 5.2372475e-06,\n",
              "        1.3407397e-06, 3.2390421e-08],\n",
              "       [9.9996060e-01, 2.1701052e-14, 1.4614212e-06, 3.1746414e-10,\n",
              "        4.3355861e-11, 1.9827776e-07, 3.7031088e-05, 2.4945057e-10,\n",
              "        1.8970205e-07, 3.4696438e-07],\n",
              "       [3.5991743e-10, 5.4131602e-14, 1.3603151e-10, 1.7963224e-13,\n",
              "        9.9998218e-01, 1.6951284e-12, 3.1529315e-10, 2.6124053e-11,\n",
              "        1.1061609e-09, 1.7753289e-05]], dtype=float32)"
            ]
          },
          "metadata": {},
          "execution_count": 38
        }
      ]
    },
    {
      "cell_type": "code",
      "source": [
        "import numpy as np\n",
        "ypred_train  = np.argmax(yprob_train, axis=1)\n",
        "ypred_test = np.argmax(yprob_test, axis=1)"
      ],
      "metadata": {
        "id": "-Tj2fdc4yKFW"
      },
      "execution_count": 39,
      "outputs": []
    },
    {
      "cell_type": "code",
      "source": [
        "ypred_train[0:5]\n"
      ],
      "metadata": {
        "colab": {
          "base_uri": "https://localhost:8080/"
        },
        "id": "x9IjLyzqyKCZ",
        "outputId": "76049a8a-85ab-462c-cf2c-af1fffb55526"
      },
      "execution_count": 40,
      "outputs": [
        {
          "output_type": "execute_result",
          "data": {
            "text/plain": [
              "array([5, 0, 4, 1, 9])"
            ]
          },
          "metadata": {},
          "execution_count": 40
        }
      ]
    },
    {
      "cell_type": "code",
      "source": [
        "ytrain[0:5]"
      ],
      "metadata": {
        "colab": {
          "base_uri": "https://localhost:8080/"
        },
        "id": "Xmaq6EV1yJ_g",
        "outputId": "944288da-576e-4467-800a-98fff73dbf73"
      },
      "execution_count": 41,
      "outputs": [
        {
          "output_type": "execute_result",
          "data": {
            "text/plain": [
              "array([5, 0, 4, 1, 9], dtype=uint8)"
            ]
          },
          "metadata": {},
          "execution_count": 41
        }
      ]
    },
    {
      "cell_type": "code",
      "source": [
        "ytrain[0:5]\n"
      ],
      "metadata": {
        "colab": {
          "base_uri": "https://localhost:8080/"
        },
        "id": "6RioOURXyJ8a",
        "outputId": "9ee8a1d1-4260-4a3c-f9df-eee3957b21ce"
      },
      "execution_count": 42,
      "outputs": [
        {
          "output_type": "execute_result",
          "data": {
            "text/plain": [
              "array([5, 0, 4, 1, 9], dtype=uint8)"
            ]
          },
          "metadata": {},
          "execution_count": 42
        }
      ]
    },
    {
      "cell_type": "code",
      "source": [
        "ypred_test[0:5]\n"
      ],
      "metadata": {
        "colab": {
          "base_uri": "https://localhost:8080/"
        },
        "id": "TzUgfAXUyJ5f",
        "outputId": "34e9930c-e674-40c6-daf5-25309e63f580"
      },
      "execution_count": 43,
      "outputs": [
        {
          "output_type": "execute_result",
          "data": {
            "text/plain": [
              "array([7, 2, 1, 0, 4])"
            ]
          },
          "metadata": {},
          "execution_count": 43
        }
      ]
    },
    {
      "cell_type": "code",
      "source": [
        "ytest[0:5]"
      ],
      "metadata": {
        "colab": {
          "base_uri": "https://localhost:8080/"
        },
        "id": "zv0gEjMHyJ2L",
        "outputId": "567a8f6a-a136-4196-dfc6-149b0a1e7ec9"
      },
      "execution_count": 44,
      "outputs": [
        {
          "output_type": "execute_result",
          "data": {
            "text/plain": [
              "array([7, 2, 1, 0, 4], dtype=uint8)"
            ]
          },
          "metadata": {},
          "execution_count": 44
        }
      ]
    },
    {
      "cell_type": "markdown",
      "source": [
        "### Plot the confusion Matrix\n"
      ],
      "metadata": {
        "id": "3Mm-8q9M2CaJ"
      }
    },
    {
      "cell_type": "code",
      "source": [
        "from sklearn.metrics import ConfusionMatrixDisplay\n",
        "ConfusionMatrixDisplay.from_predictions(ytest, ypred_test)"
      ],
      "metadata": {
        "colab": {
          "base_uri": "https://localhost:8080/",
          "height": 466
        },
        "id": "qT6b-Bsewvrx",
        "outputId": "70dde155-498e-4e1c-c64b-37dbcea94f62"
      },
      "execution_count": 45,
      "outputs": [
        {
          "output_type": "execute_result",
          "data": {
            "text/plain": [
              "<sklearn.metrics._plot.confusion_matrix.ConfusionMatrixDisplay at 0x7f4ebe723070>"
            ]
          },
          "metadata": {},
          "execution_count": 45
        },
        {
          "output_type": "display_data",
          "data": {
            "text/plain": [
              "<Figure size 640x480 with 2 Axes>"
            ],
            "image/png": "[encoded data removed]"
          },
          "metadata": {}
        }
      ]
    },
    {
      "cell_type": "code",
      "source": [
        "\n",
        "from sklearn.metrics import classification_report\n",
        "print(classification_report(ytest, ypred_test))"
      ],
      "metadata": {
        "colab": {
          "base_uri": "https://localhost:8080/"
        },
        "id": "Gj8ilcwm2SUo",
        "outputId": "6ff3f774-9cea-461d-9ddb-a7a082c8b402"
      },
      "execution_count": 46,
      "outputs": [
        {
          "output_type": "stream",
          "name": "stdout",
          "text": [
            "              precision    recall  f1-score   support\n",
            "\n",
            "           0       1.00      1.00      1.00       980\n",
            "           1       1.00      1.00      1.00      1135\n",
            "           2       0.99      1.00      0.99      1032\n",
            "           3       0.99      0.99      0.99      1010\n",
            "           4       0.99      0.99      0.99       982\n",
            "           5       0.99      0.99      0.99       892\n",
            "           6       0.99      0.99      0.99       958\n",
            "           7       0.99      0.99      0.99      1028\n",
            "           8       0.99      0.99      0.99       974\n",
            "           9       0.99      0.99      0.99      1009\n",
            "\n",
            "    accuracy                           0.99     10000\n",
            "   macro avg       0.99      0.99      0.99     10000\n",
            "weighted avg       0.99      0.99      0.99     10000\n",
            "\n"
          ]
        }
      ]
    },
    {
      "cell_type": "markdown",
      "source": [
        "### Save above model for future use\n"
      ],
      "metadata": {
        "id": "kjkPd8DD2cDq"
      }
    },
    {
      "cell_type": "code",
      "source": [
        "model.save('digit_model.keras')\n"
      ],
      "metadata": {
        "id": "JGMa6ov42V_x"
      },
      "execution_count": 50,
      "outputs": []
    },
    {
      "cell_type": "markdown",
      "source": [
        "### Load above model\n"
      ],
      "metadata": {
        "id": "fqtw9AEz2h95"
      }
    },
    {
      "cell_type": "code",
      "source": [
        "from keras.models import load_model\n",
        "nn = load_model('/content/digit_model.keras')\n",
        "nn.summary()"
      ],
      "metadata": {
        "colab": {
          "base_uri": "https://localhost:8080/"
        },
        "id": "ck9pFI1T2gA3",
        "outputId": "79f474ce-06af-4350-da53-ebfcebc618bb"
      },
      "execution_count": 51,
      "outputs": [
        {
          "output_type": "stream",
          "name": "stdout",
          "text": [
            "Model: \"sequential_2\"\n",
            "_________________________________________________________________\n",
            " Layer (type)                Output Shape              Param #   \n",
            "=================================================================\n",
            " conv2d_3 (Conv2D)           (None, 26, 26, 32)        320       \n",
            "                                                                 \n",
            " max_pooling2d_2 (MaxPoolin  (None, 13, 13, 32)        0         \n",
            " g2D)                                                            \n",
            "                                                                 \n",
            " conv2d_4 (Conv2D)           (None, 11, 11, 64)        18496     \n",
            "                                                                 \n",
            " max_pooling2d_3 (MaxPoolin  (None, 5, 5, 64)          0         \n",
            " g2D)                                                            \n",
            "                                                                 \n",
            " flatten_1 (Flatten)         (None, 1600)              0         \n",
            "                                                                 \n",
            " dropout_1 (Dropout)         (None, 1600)              0         \n",
            "                                                                 \n",
            " dense (Dense)               (None, 10)                16010     \n",
            "                                                                 \n",
            "=================================================================\n",
            "Total params: 34826 (136.04 KB)\n",
            "Trainable params: 34826 (136.04 KB)\n",
            "Non-trainable params: 0 (0.00 Byte)\n",
            "_________________________________________________________________\n"
          ]
        }
      ]
    },
    {
      "cell_type": "code",
      "source": [
        "\n",
        "# Loading the image\n",
        "import cv2\n",
        "img = cv2.imread('/content/example_img.jpg', cv2.IMREAD_GRAYSCALE)\n",
        "img"
      ],
      "metadata": {
        "colab": {
          "base_uri": "https://localhost:8080/",
          "height": 1000
        },
        "id": "HARFnGJm27AL",
        "outputId": "630c7711-261a-4cc3-8fb8-1588c7543a5e"
      },
      "execution_count": 54,
      "outputs": [
        {
          "output_type": "execute_result",
          "data": {
            "text/plain": [
              "array([[  1,   1,   0,   1,   0,   0,   2,   0,   2,   0,   0,   2,   0,\n",
              "          0,   2,   1,   1,   0,   0,   0,   3,   0,   0,   1,   0,   0,\n",
              "          0,   0],\n",
              "       [  0,   0,   0,   0,   3,   2,   0,   1,   0,   3,   3,   0,   0,\n",
              "          0,   0,   0,   0,   4,   0,   2,   2,   0,   1,   0,   0,   0,\n",
              "          0,   0],\n",
              "       [  1,   2,   1,   1,   0,   0,   4,   0,   0,   0,   0,   0,   2,\n",
              "          0,   0,   5,   2,   0,   0,   0,   0,   5,   3,   0,   0,   0,\n",
              "          0,   0],\n",
              "       [  0,   0,   1,   0,   2,   2,   0,   2,   0,   1,   1,   0,   0,\n",
              "          1,   0,   0,   0,   6,   0,   2,   0,   0,   0,   0,   0,   0,\n",
              "          0,   0],\n",
              "       [  0,   1,   5,   0,  75, 224, 253, 254, 255, 252, 253, 255, 255,\n",
              "        255, 255, 253, 254, 220, 105,   0,   4,   0,   0,   2,   0,   0,\n",
              "          0,   0],\n",
              "       [  2,   0,   0,   3, 221, 253, 255, 255, 255, 255, 255, 255, 253,\n",
              "        254, 255, 255, 254, 255, 255, 255, 216, 125,   0,   0,   0,   0,\n",
              "          0,   0],\n",
              "       [  0,   0,   0,   0, 123, 253, 255, 254, 254, 255, 253, 253, 255,\n",
              "        255, 252, 253, 255, 255, 255, 254, 255, 254,   0,   1,   0,   0,\n",
              "          0,   0],\n",
              "       [  0,   2,   2,   0,   3,   1,   0,   2,   1,   1,   0,   2,   0,\n",
              "          3,  96, 224, 254, 255, 254, 255, 254, 171,   2,   0,   0,   0,\n",
              "          0,   0],\n",
              "       [  1,   0,   2,   0,   0,   0,   0,   0,   0,   1,   0,   0,  95,\n",
              "        223, 255, 253, 252, 255, 253, 255, 166,  11,   0,   1,   0,   0,\n",
              "          0,   0],\n",
              "       [  0,   0,   0,   0,   0,   2,   0,   0,   2,   0,   0, 132, 253,\n",
              "        253, 255, 255, 255, 255, 165,   8,   4,   0,   0,   1,   0,   0,\n",
              "          0,   0],\n",
              "       [  0,   0,   0,   0,   2,   0,   0,   0,  71, 222, 255, 248, 255,\n",
              "        255, 253, 169,   8,   0,   0,   6,   0,   0,   0,   0,   0,   0,\n",
              "          0,   0],\n",
              "       [  1,   0,   3,   1,   0,   3,   3,  69, 237, 255, 255, 254, 254,\n",
              "        255, 224,  94,   2,   2,   0,   0,   2,   0,   2,   0,   0,   0,\n",
              "          0,   0],\n",
              "       [  1,   1,   0,   1,   1,   0,   0, 225, 254, 251, 255, 253, 255,\n",
              "        255, 249, 255, 219,  96,   2,   0,   1,   0,   2,   0,   0,   0,\n",
              "          0,   0],\n",
              "       [  1,   0,   1,   0,   0,   2,   0, 120, 255, 254, 254, 253, 252,\n",
              "        255, 255, 254, 255, 243, 103,   0,   0,   5,   0,   3,   0,   0,\n",
              "          0,   0],\n",
              "       [  0,   1,   0,   0,   2,   0,   1,   0,   1,   1,   0,   5,   3,\n",
              "        118, 255, 253, 250, 255, 255, 221,  95,   0,   2,   0,   0,   0,\n",
              "          0,   0],\n",
              "       [  0,   0,   0,   4,   0,   1,   0,   1,   0,   0,   3,   0,   3,\n",
              "          0,   0, 121, 255, 255, 252, 255, 248,   0,   0,   1,   0,   0,\n",
              "          0,   0],\n",
              "       [  0,   0,   4,   0,   0,   1,   0,   1,   1,   1,   0,   0,   0,\n",
              "          2,   0,   1,  10, 155, 255, 255, 250,   3,   1,   0,   0,   0,\n",
              "          0,   0],\n",
              "       [  1,   0,   0,   0,   2,   0,   1,   0,   0,   0,   2,   2,   0,\n",
              "          0,   0,   0,   0,   2, 255, 254, 255,   0,   0,   4,   0,   0,\n",
              "          0,   0],\n",
              "       [  0,   3,   2,   0,   1,   2,   3,   0,   1,   0,   0,   1,   0,\n",
              "          0,   3,   2,   2,   0, 254, 255, 254,   2,   2,   0,   0,   0,\n",
              "          0,   0],\n",
              "       [  0,   0,   0,   6,   0,   0,   0,   1,   0,   2,   0,   2,   0,\n",
              "          3,   0,   0,   0,   1, 254, 255, 252,   3,   0,   2,   0,   0,\n",
              "          0,   0],\n",
              "       [  4,   0,   2,   0,   0,   3,  75, 221, 223,  96,   0,   2,   0,\n",
              "          0,   0,   6,   0, 125, 254, 255, 255,   0,   1,   0,   0,   0,\n",
              "          0,   0],\n",
              "       [  0,   5,   1,   0,   0,   1, 216, 255, 255, 243,  98,   0,   2,\n",
              "          2,   0,  72, 224, 255, 255, 255, 166,   0,   4,   0,   0,   0,\n",
              "          0,   0],\n",
              "       [  0,   0,   0,   5,   2,   1, 126, 253, 255, 254, 255, 255, 255,\n",
              "        255, 255, 255, 255, 255, 253, 183,   9,   1,   0,   0,   0,   0,\n",
              "          0,   0],\n",
              "       [  3,   0,   3,   0,   2,   0,   3, 120, 255, 253, 255, 254, 254,\n",
              "        253, 255, 253, 254, 255, 167,   8,   2,   0,   0,   2,   0,   0,\n",
              "          0,   0],\n",
              "       [  0,   0,   0,   0,   0,   0,   0,   0, 121, 253, 255, 254, 252,\n",
              "        255, 251, 255, 255, 147,   2,   0,   0,   2,   2,   0,   0,   0,\n",
              "          0,   0],\n",
              "       [  0,   0,   0,   0,   0,   0,   0,   0,   0,   7,   0,   2,   1,\n",
              "          0,   0,   0,   0,   3,   0,   1,   0,   0,   0,   0,   0,   0,\n",
              "          0,   0],\n",
              "       [  0,   0,   0,   0,   0,   0,   0,   0,   1,   0,   1,   0,   0,\n",
              "          2,   2,   0,   3,   0,   5,   0,   3,   3,   0,   2,   0,   0,\n",
              "          0,   0],\n",
              "       [  0,   0,   0,   0,   0,   0,   0,   0,   1,   7,   1,   0,   0,\n",
              "          0,   0,   2,   0,   0,   0,   0,   0,   0,   0,   3,   0,   0,\n",
              "          0,   0]], dtype=uint8)"
            ],
            "text/html": [
              "<style>\n",
              "      .ndarray_repr .ndarray_raw_data {\n",
              "        display: none;\n",
              "      }\n",
              "      .ndarray_repr.show_array .ndarray_raw_data {\n",
              "        display: block;\n",
              "      }\n",
              "      .ndarray_repr.show_array .ndarray_image_preview {\n",
              "        display: none;\n",
              "      }\n",
              "      </style>\n",
              "      <div id=\"id-a9225c4b-647a-4e62-adb4-3266b2961ed8\" class=\"ndarray_repr\"><pre>ndarray (28, 28) <button style=\"padding: 0 2px;\">show data</button></pre><img src=\"data:image/png;base64,iVBORw0KGgoAAAANSUhEUgAAABwAAAAcCAAAAABXZoBIAAABbklEQVR4nF2SPW5UQRCEv65+b73AuRBIvgNekSAugGwhE3EDQmKMEAfgKpZg8XIAIifGftNF8P5W7mhGPVVdXTVEECAEAkUACcFcKYLM8dIhzb1QBHQACHoB9DnjAgkRMZJt0EJJ9JweWnlott3q11s6pgeC3Dd77Nhl+/pyxfK+ucqteYSXa1YkkYEiELk7lMv1XYuc+cDZjdvg5qtnR3tODnxszba/bLtjEwS8+O07u33bwmbdhAwyn/+1q3x4JU1mAkQQAX/qwc3+5587HesIEOeuaoNdvn0DPbmoFEEEfb5zu7f3Z0cOdiM8SbiwB9+tajsIIgIQ8fSzfZ+xsDLmp8lsl+cMSRFKxsBSolxaZ24mF0UCUR5yUtQhyNP9zQ4BGy7LXvT0AXFt375G4uXB9tU8EugVH5rLU7UfT2Zgkog8d3NVcyt/3YrjfwRcNNfgB/uTlq3WOkExUgWPawxAJD2Zj2jjJGCdlQD/AQpQsvLcABwNAAAAAElFTkSuQmCC\" class=\"ndarray_image_preview\" /><pre class=\"ndarray_raw_data\">array([[  1,   1,   0,   1,   0,   0,   2,   0,   2,   0,   0,   2,   0,\n",
              "          0,   2,   1,   1,   0,   0,   0,   3,   0,   0,   1,   0,   0,\n",
              "          0,   0],\n",
              "       [  0,   0,   0,   0,   3,   2,   0,   1,   0,   3,   3,   0,   0,\n",
              "          0,   0,   0,   0,   4,   0,   2,   2,   0,   1,   0,   0,   0,\n",
              "          0,   0],\n",
              "       [  1,   2,   1,   1,   0,   0,   4,   0,   0,   0,   0,   0,   2,\n",
              "          0,   0,   5,   2,   0,   0,   0,   0,   5,   3,   0,   0,   0,\n",
              "          0,   0],\n",
              "       [  0,   0,   1,   0,   2,   2,   0,   2,   0,   1,   1,   0,   0,\n",
              "          1,   0,   0,   0,   6,   0,   2,   0,   0,   0,   0,   0,   0,\n",
              "          0,   0],\n",
              "       [  0,   1,   5,   0,  75, 224, 253, 254, 255, 252, 253, 255, 255,\n",
              "        255, 255, 253, 254, 220, 105,   0,   4,   0,   0,   2,   0,   0,\n",
              "          0,   0],\n",
              "       [  2,   0,   0,   3, 221, 253, 255, 255, 255, 255, 255, 255, 253,\n",
              "        254, 255, 255, 254, 255, 255, 255, 216, 125,   0,   0,   0,   0,\n",
              "          0,   0],\n",
              "       [  0,   0,   0,   0, 123, 253, 255, 254, 254, 255, 253, 253, 255,\n",
              "        255, 252, 253, 255, 255, 255, 254, 255, 254,   0,   1,   0,   0,\n",
              "          0,   0],\n",
              "       [  0,   2,   2,   0,   3,   1,   0,   2,   1,   1,   0,   2,   0,\n",
              "          3,  96, 224, 254, 255, 254, 255, 254, 171,   2,   0,   0,   0,\n",
              "          0,   0],\n",
              "       [  1,   0,   2,   0,   0,   0,   0,   0,   0,   1,   0,   0,  95,\n",
              "        223, 255, 253, 252, 255, 253, 255, 166,  11,   0,   1,   0,   0,\n",
              "          0,   0],\n",
              "       [  0,   0,   0,   0,   0,   2,   0,   0,   2,   0,   0, 132, 253,\n",
              "        253, 255, 255, 255, 255, 165,   8,   4,   0,   0,   1,   0,   0,\n",
              "          0,   0],\n",
              "       [  0,   0,   0,   0,   2,   0,   0,   0,  71, 222, 255, 248, 255,\n",
              "        255, 253, 169,   8,   0,   0,   6,   0,   0,   0,   0,   0,   0,\n",
              "          0,   0],\n",
              "       [  1,   0,   3,   1,   0,   3,   3,  69, 237, 255, 255, 254, 254,\n",
              "        255, 224,  94,   2,   2,   0,   0,   2,   0,   2,   0,   0,   0,\n",
              "          0,   0],\n",
              "       [  1,   1,   0,   1,   1,   0,   0, 225, 254, 251, 255, 253, 255,\n",
              "        255, 249, 255, 219,  96,   2,   0,   1,   0,   2,   0,   0,   0,\n",
              "          0,   0],\n",
              "       [  1,   0,   1,   0,   0,   2,   0, 120, 255, 254, 254, 253, 252,\n",
              "        255, 255, 254, 255, 243, 103,   0,   0,   5,   0,   3,   0,   0,\n",
              "          0,   0],\n",
              "       [  0,   1,   0,   0,   2,   0,   1,   0,   1,   1,   0,   5,   3,\n",
              "        118, 255, 253, 250, 255, 255, 221,  95,   0,   2,   0,   0,   0,\n",
              "          0,   0],\n",
              "       [  0,   0,   0,   4,   0,   1,   0,   1,   0,   0,   3,   0,   3,\n",
              "          0,   0, 121, 255, 255, 252, 255, 248,   0,   0,   1,   0,   0,\n",
              "          0,   0],\n",
              "       [  0,   0,   4,   0,   0,   1,   0,   1,   1,   1,   0,   0,   0,\n",
              "          2,   0,   1,  10, 155, 255, 255, 250,   3,   1,   0,   0,   0,\n",
              "          0,   0],\n",
              "       [  1,   0,   0,   0,   2,   0,   1,   0,   0,   0,   2,   2,   0,\n",
              "          0,   0,   0,   0,   2, 255, 254, 255,   0,   0,   4,   0,   0,\n",
              "          0,   0],\n",
              "       [  0,   3,   2,   0,   1,   2,   3,   0,   1,   0,   0,   1,   0,\n",
              "          0,   3,   2,   2,   0, 254, 255, 254,   2,   2,   0,   0,   0,\n",
              "          0,   0],\n",
              "       [  0,   0,   0,   6,   0,   0,   0,   1,   0,   2,   0,   2,   0,\n",
              "          3,   0,   0,   0,   1, 254, 255, 252,   3,   0,   2,   0,   0,\n",
              "          0,   0],\n",
              "       [  4,   0,   2,   0,   0,   3,  75, 221, 223,  96,   0,   2,   0,\n",
              "          0,   0,   6,   0, 125, 254, 255, 255,   0,   1,   0,   0,   0,\n",
              "          0,   0],\n",
              "       [  0,   5,   1,   0,   0,   1, 216, 255, 255, 243,  98,   0,   2,\n",
              "          2,   0,  72, 224, 255, 255, 255, 166,   0,   4,   0,   0,   0,\n",
              "          0,   0],\n",
              "       [  0,   0,   0,   5,   2,   1, 126, 253, 255, 254, 255, 255, 255,\n",
              "        255, 255, 255, 255, 255, 253, 183,   9,   1,   0,   0,   0,   0,\n",
              "          0,   0],\n",
              "       [  3,   0,   3,   0,   2,   0,   3, 120, 255, 253, 255, 254, 254,\n",
              "        253, 255, 253, 254, 255, 167,   8,   2,   0,   0,   2,   0,   0,\n",
              "          0,   0],\n",
              "       [  0,   0,   0,   0,   0,   0,   0,   0, 121, 253, 255, 254, 252,\n",
              "        255, 251, 255, 255, 147,   2,   0,   0,   2,   2,   0,   0,   0,\n",
              "          0,   0],\n",
              "       [  0,   0,   0,   0,   0,   0,   0,   0,   0,   7,   0,   2,   1,\n",
              "          0,   0,   0,   0,   3,   0,   1,   0,   0,   0,   0,   0,   0,\n",
              "          0,   0],\n",
              "       [  0,   0,   0,   0,   0,   0,   0,   0,   1,   0,   1,   0,   0,\n",
              "          2,   2,   0,   3,   0,   5,   0,   3,   3,   0,   2,   0,   0,\n",
              "          0,   0],\n",
              "       [  0,   0,   0,   0,   0,   0,   0,   0,   1,   7,   1,   0,   0,\n",
              "          0,   0,   2,   0,   0,   0,   0,   0,   0,   0,   3,   0,   0,\n",
              "          0,   0]], dtype=uint8)</pre></div><script>\n",
              "      (() => {\n",
              "      const titles = ['show data', 'hide data'];\n",
              "      let index = 0\n",
              "      document.querySelector('#id-a9225c4b-647a-4e62-adb4-3266b2961ed8 button').onclick = (e) => {\n",
              "        document.querySelector('#id-a9225c4b-647a-4e62-adb4-3266b2961ed8').classList.toggle('show_array');\n",
              "        index = (++index) % 2;\n",
              "        document.querySelector('#id-a9225c4b-647a-4e62-adb4-3266b2961ed8 button').textContent = titles[index];\n",
              "        e.preventDefault();\n",
              "        e.stopPropagation();\n",
              "      }\n",
              "      })();\n",
              "    </script>"
            ]
          },
          "metadata": {},
          "execution_count": 54
        }
      ]
    },
    {
      "cell_type": "code",
      "source": [
        "img_scl = img.astype('float32')/255\n"
      ],
      "metadata": {
        "id": "Qq1Oaspv3Uvm"
      },
      "execution_count": 55,
      "outputs": []
    },
    {
      "cell_type": "code",
      "source": [
        "probs = model.predict(np.array([img_scl]))\n"
      ],
      "metadata": {
        "colab": {
          "base_uri": "https://localhost:8080/"
        },
        "id": "yMHahXoe4F-O",
        "outputId": "cc4ecc03-904e-459b-e9ed-d4c19c764cbc"
      },
      "execution_count": 57,
      "outputs": [
        {
          "output_type": "stream",
          "name": "stdout",
          "text": [
            "1/1 [==============================] - 0s 35ms/step\n"
          ]
        }
      ]
    },
    {
      "cell_type": "code",
      "source": [
        "probs"
      ],
      "metadata": {
        "colab": {
          "base_uri": "https://localhost:8080/"
        },
        "id": "ElkKxuvy4A4a",
        "outputId": "eaf711bc-f7a6-478b-8f6b-8887bd322209"
      },
      "execution_count": 58,
      "outputs": [
        {
          "output_type": "execute_result",
          "data": {
            "text/plain": [
              "array([[3.5841912e-19, 1.8645771e-17, 4.4296150e-13, 9.9999988e-01,\n",
              "        2.5928994e-17, 1.7097572e-07, 3.2484255e-20, 7.1850905e-14,\n",
              "        3.9521000e-10, 6.2197325e-10]], dtype=float32)"
            ]
          },
          "metadata": {},
          "execution_count": 58
        }
      ]
    },
    {
      "cell_type": "code",
      "source": [
        "pred = np.argmax(probs)\n",
        "pred"
      ],
      "metadata": {
        "colab": {
          "base_uri": "https://localhost:8080/"
        },
        "id": "OMze4cYy4DsV",
        "outputId": "1d3b96b6-8ea3-4814-dee4-403b99c71cd1"
      },
      "execution_count": 59,
      "outputs": [
        {
          "output_type": "execute_result",
          "data": {
            "text/plain": [
              "3"
            ]
          },
          "metadata": {},
          "execution_count": 59
        }
      ]
    },
    {
      "cell_type": "code",
      "source": [
        "prob = np.max(probs)\n",
        "prob"
      ],
      "metadata": {
        "colab": {
          "base_uri": "https://localhost:8080/"
        },
        "id": "ckgsNQNV4MDd",
        "outputId": "919ba2a0-487c-4ccc-c65d-e5aa4be3bf78"
      },
      "execution_count": 60,
      "outputs": [
        {
          "output_type": "execute_result",
          "data": {
            "text/plain": [
              "0.9999999"
            ]
          },
          "metadata": {},
          "execution_count": 60
        }
      ]
    },
    {
      "cell_type": "code",
      "source": [
        "\n",
        "def predict_number(path):\n",
        "  img = cv2.imread(path, cv2.IMREAD_GRAYSCALE)\n",
        "  plt.imshow(img, cmap='gray')\n",
        "  plt.show()\n",
        "  img_scl = img.astype('float32')/255\n",
        "  probs = model.predict(np.array([img_scl]))\n",
        "  pred = np.argmax(probs)\n",
        "  prob = np.max(probs)\n",
        "  return pred, prob"
      ],
      "metadata": {
        "id": "shYr0p5u4RQ-"
      },
      "execution_count": 61,
      "outputs": []
    },
    {
      "cell_type": "code",
      "source": [
        "predict_number('/content/example_img2.jpg')\n"
      ],
      "metadata": {
        "colab": {
          "base_uri": "https://localhost:8080/",
          "height": 465
        },
        "id": "s3PRChPe4hcC",
        "outputId": "7604abdb-cbb0-406f-9c47-21aac0a70579"
      },
      "execution_count": 62,
      "outputs": [
        {
          "output_type": "display_data",
          "data": {
            "text/plain": [
              "<Figure size 640x480 with 1 Axes>"
            ],
            "image/png": "[encoded data removed]"
          },
          "metadata": {}
        },
        {
          "output_type": "stream",
          "name": "stdout",
          "text": [
            "1/1 [==============================] - 0s 34ms/step\n"
          ]
        },
        {
          "output_type": "execute_result",
          "data": {
            "text/plain": [
              "(7, 0.99973017)"
            ]
          },
          "metadata": {},
          "execution_count": 62
        }
      ]
    },
    {
      "cell_type": "code",
      "source": [
        "predict_number('/content/example_img3.jpg')\n"
      ],
      "metadata": {
        "colab": {
          "base_uri": "https://localhost:8080/",
          "height": 465
        },
        "id": "iKarNjP74jGw",
        "outputId": "64883ff3-75cd-4eb2-9882-ca0bd7a8eea3"
      },
      "execution_count": 64,
      "outputs": [
        {
          "output_type": "display_data",
          "data": {
            "text/plain": [
              "<Figure size 640x480 with 1 Axes>"
            ],
            "image/png": "[encoded data removed]"
          },
          "metadata": {}
        },
        {
          "output_type": "stream",
          "name": "stdout",
          "text": [
            "1/1 [==============================] - 0s 34ms/step\n"
          ]
        },
        {
          "output_type": "execute_result",
          "data": {
            "text/plain": [
              "(8, 0.50294906)"
            ]
          },
          "metadata": {},
          "execution_count": 64
        }
      ]
    },
    {
      "cell_type": "code",
      "source": [],
      "metadata": {
        "id": "8k8WtAw74mgr"
      },
      "execution_count": null,
      "outputs": []
    }
  ]
}