{
  "nbformat": 4,
  "nbformat_minor": 0,
  "metadata": {
    "colab": {
      "provenance": [],
      "gpuType": "T4",
      "authorship_tag": "ABX9TyOETMoV/1z9JvhdnQOwpDAX",
      "include_colab_link": true
    },
    "kernelspec": {
      "name": "python3",
      "display_name": "Python 3"
    },
    "language_info": {
      "name": "python"
    },
    "accelerator": "GPU"
  },
  "cells": [
    {
      "cell_type": "markdown",
      "metadata": {
        "id": "view-in-github",
        "colab_type": "text"
      },
      "source": [
        "<a href=\"https://colab.research.google.com/github/akashj30/Deep-Learing/blob/main/Restaurant_Reviews_project.ipynb\" target=\"_parent\"><img src=\"https://colab.research.google.com/assets/colab-badge.svg\" alt=\"Open In Colab\"/></a>"
      ]
    },
    {
      "cell_type": "markdown",
      "source": [
        "### Sentiment Analysis with Keras"
      ],
      "metadata": {
        "id": "iO9opyDajUGj"
      }
    },
    {
      "cell_type": "code",
      "execution_count": 2,
      "metadata": {
        "id": "-iNDRSKri9G0"
      },
      "outputs": [],
      "source": [
        "from warnings import filterwarnings\n",
        "filterwarnings('ignore')"
      ]
    },
    {
      "cell_type": "markdown",
      "source": [
        "### Step 1: Read the dataset\n"
      ],
      "metadata": {
        "id": "DKgrGGXxv5LV"
      }
    },
    {
      "cell_type": "code",
      "source": [
        "import pandas as pd\n",
        "url = \"https://raw.githubusercontent.com/utkarshg1/Neural-Net-Datasets/main/Restaurant_Reviews.tsv\"\n",
        "df = pd.read_csv(url, sep='\\t')\n",
        "df.head()"
      ],
      "metadata": {
        "colab": {
          "base_uri": "https://localhost:8080/",
          "height": 206
        },
        "id": "_BH6keCHjPlq",
        "outputId": "65aada2a-0cb4-46fd-8d57-0285ad3d947c"
      },
      "execution_count": 3,
      "outputs": [
        {
          "output_type": "execute_result",
          "data": {
            "text/plain": [
              "                                              Review  Liked\n",
              "0                           Wow... Loved this place.      1\n",
              "1                                 Crust is not good.      0\n",
              "2          Not tasty and the texture was just nasty.      0\n",
              "3  Stopped by during the late May bank holiday of...      1\n",
              "4  The selection on the menu was great and so wer...      1"
            ],
            "text/html": [
              "\n",
              "  <div id=\"df-651a4ea0-d1f5-4ce0-b797-1f7532fd1efe\" class=\"colab-df-container\">\n",
              "    <div>\n",
              "<style scoped>\n",
              "    .dataframe tbody tr th:only-of-type {\n",
              "        vertical-align: middle;\n",
              "    }\n",
              "\n",
              "    .dataframe tbody tr th {\n",
              "        vertical-align: top;\n",
              "    }\n",
              "\n",
              "    .dataframe thead th {\n",
              "        text-align: right;\n",
              "    }\n",
              "</style>\n",
              "<table border=\"1\" class=\"dataframe\">\n",
              "  <thead>\n",
              "    <tr style=\"text-align: right;\">\n",
              "      <th></th>\n",
              "      <th>Review</th>\n",
              "      <th>Liked</th>\n",
              "    </tr>\n",
              "  </thead>\n",
              "  <tbody>\n",
              "    <tr>\n",
              "      <th>0</th>\n",
              "      <td>Wow... Loved this place.</td>\n",
              "      <td>1</td>\n",
              "    </tr>\n",
              "    <tr>\n",
              "      <th>1</th>\n",
              "      <td>Crust is not good.</td>\n",
              "      <td>0</td>\n",
              "    </tr>\n",
              "    <tr>\n",
              "      <th>2</th>\n",
              "      <td>Not tasty and the texture was just nasty.</td>\n",
              "      <td>0</td>\n",
              "    </tr>\n",
              "    <tr>\n",
              "      <th>3</th>\n",
              "      <td>Stopped by during the late May bank holiday of...</td>\n",
              "      <td>1</td>\n",
              "    </tr>\n",
              "    <tr>\n",
              "      <th>4</th>\n",
              "      <td>The selection on the menu was great and so wer...</td>\n",
              "      <td>1</td>\n",
              "    </tr>\n",
              "  </tbody>\n",
              "</table>\n",
              "</div>\n",
              "    <div class=\"colab-df-buttons\">\n",
              "\n",
              "  <div class=\"colab-df-container\">\n",
              "    <button class=\"colab-df-convert\" onclick=\"convertToInteractive('df-651a4ea0-d1f5-4ce0-b797-1f7532fd1efe')\"\n",
              "            title=\"Convert this dataframe to an interactive table.\"\n",
              "            style=\"display:none;\">\n",
              "\n",
              "  <svg xmlns=\"http://www.w3.org/2000/svg\" height=\"24px\" viewBox=\"0 -960 960 960\">\n",
              "    <path d=\"M120-120v-720h720v720H120Zm60-500h600v-160H180v160Zm220 220h160v-160H400v160Zm0 220h160v-160H400v160ZM180-400h160v-160H180v160Zm440 0h160v-160H620v160ZM180-180h160v-160H180v160Zm440 0h160v-160H620v160Z\"/>\n",
              "  </svg>\n",
              "    </button>\n",
              "\n",
              "  <style>\n",
              "    .colab-df-container {\n",
              "      display:flex;\n",
              "      gap: 12px;\n",
              "    }\n",
              "\n",
              "    .colab-df-convert {\n",
              "      background-color: #E8F0FE;\n",
              "      border: none;\n",
              "      border-radius: 50%;\n",
              "      cursor: pointer;\n",
              "      display: none;\n",
              "      fill: #1967D2;\n",
              "      height: 32px;\n",
              "      padding: 0 0 0 0;\n",
              "      width: 32px;\n",
              "    }\n",
              "\n",
              "    .colab-df-convert:hover {\n",
              "      background-color: #E2EBFA;\n",
              "      box-shadow: 0px 1px 2px rgba(60, 64, 67, 0.3), 0px 1px 3px 1px rgba(60, 64, 67, 0.15);\n",
              "      fill: #174EA6;\n",
              "    }\n",
              "\n",
              "    .colab-df-buttons div {\n",
              "      margin-bottom: 4px;\n",
              "    }\n",
              "\n",
              "    [theme=dark] .colab-df-convert {\n",
              "      background-color: #3B4455;\n",
              "      fill: #D2E3FC;\n",
              "    }\n",
              "\n",
              "    [theme=dark] .colab-df-convert:hover {\n",
              "      background-color: #434B5C;\n",
              "      box-shadow: 0px 1px 3px 1px rgba(0, 0, 0, 0.15);\n",
              "      filter: drop-shadow(0px 1px 2px rgba(0, 0, 0, 0.3));\n",
              "      fill: #FFFFFF;\n",
              "    }\n",
              "  </style>\n",
              "\n",
              "    <script>\n",
              "      const buttonEl =\n",
              "        document.querySelector('#df-651a4ea0-d1f5-4ce0-b797-1f7532fd1efe button.colab-df-convert');\n",
              "      buttonEl.style.display =\n",
              "        google.colab.kernel.accessAllowed ? 'block' : 'none';\n",
              "\n",
              "      async function convertToInteractive(key) {\n",
              "        const element = document.querySelector('#df-651a4ea0-d1f5-4ce0-b797-1f7532fd1efe');\n",
              "        const dataTable =\n",
              "          await google.colab.kernel.invokeFunction('convertToInteractive',\n",
              "                                                    [key], {});\n",
              "        if (!dataTable) return;\n",
              "\n",
              "        const docLinkHtml = 'Like what you see? Visit the ' +\n",
              "          '<a target=\"_blank\" href=https://colab.research.google.com/notebooks/data_table.ipynb>data table notebook</a>'\n",
              "          + ' to learn more about interactive tables.';\n",
              "        element.innerHTML = '';\n",
              "        dataTable['output_type'] = 'display_data';\n",
              "        await google.colab.output.renderOutput(dataTable, element);\n",
              "        const docLink = document.createElement('div');\n",
              "        docLink.innerHTML = docLinkHtml;\n",
              "        element.appendChild(docLink);\n",
              "      }\n",
              "    </script>\n",
              "  </div>\n",
              "\n",
              "\n",
              "<div id=\"df-b7a09b5e-1238-42c2-ad05-bb88d2fe1e22\">\n",
              "  <button class=\"colab-df-quickchart\" onclick=\"quickchart('df-b7a09b5e-1238-42c2-ad05-bb88d2fe1e22')\"\n",
              "            title=\"Suggest charts\"\n",
              "            style=\"display:none;\">\n",
              "\n",
              "<svg xmlns=\"http://www.w3.org/2000/svg\" height=\"24px\"viewBox=\"0 0 24 24\"\n",
              "     width=\"24px\">\n",
              "    <g>\n",
              "        <path d=\"M19 3H5c-1.1 0-2 .9-2 2v14c0 1.1.9 2 2 2h14c1.1 0 2-.9 2-2V5c0-1.1-.9-2-2-2zM9 17H7v-7h2v7zm4 0h-2V7h2v10zm4 0h-2v-4h2v4z\"/>\n",
              "    </g>\n",
              "</svg>\n",
              "  </button>\n",
              "\n",
              "<style>\n",
              "  .colab-df-quickchart {\n",
              "      --bg-color: #E8F0FE;\n",
              "      --fill-color: #1967D2;\n",
              "      --hover-bg-color: #E2EBFA;\n",
              "      --hover-fill-color: #174EA6;\n",
              "      --disabled-fill-color: #AAA;\n",
              "      --disabled-bg-color: #DDD;\n",
              "  }\n",
              "\n",
              "  [theme=dark] .colab-df-quickchart {\n",
              "      --bg-color: #3B4455;\n",
              "      --fill-color: #D2E3FC;\n",
              "      --hover-bg-color: #434B5C;\n",
              "      --hover-fill-color: #FFFFFF;\n",
              "      --disabled-bg-color: #3B4455;\n",
              "      --disabled-fill-color: #666;\n",
              "  }\n",
              "\n",
              "  .colab-df-quickchart {\n",
              "    background-color: var(--bg-color);\n",
              "    border: none;\n",
              "    border-radius: 50%;\n",
              "    cursor: pointer;\n",
              "    display: none;\n",
              "    fill: var(--fill-color);\n",
              "    height: 32px;\n",
              "    padding: 0;\n",
              "    width: 32px;\n",
              "  }\n",
              "\n",
              "  .colab-df-quickchart:hover {\n",
              "    background-color: var(--hover-bg-color);\n",
              "    box-shadow: 0 1px 2px rgba(60, 64, 67, 0.3), 0 1px 3px 1px rgba(60, 64, 67, 0.15);\n",
              "    fill: var(--button-hover-fill-color);\n",
              "  }\n",
              "\n",
              "  .colab-df-quickchart-complete:disabled,\n",
              "  .colab-df-quickchart-complete:disabled:hover {\n",
              "    background-color: var(--disabled-bg-color);\n",
              "    fill: var(--disabled-fill-color);\n",
              "    box-shadow: none;\n",
              "  }\n",
              "\n",
              "  .colab-df-spinner {\n",
              "    border: 2px solid var(--fill-color);\n",
              "    border-color: transparent;\n",
              "    border-bottom-color: var(--fill-color);\n",
              "    animation:\n",
              "      spin 1s steps(1) infinite;\n",
              "  }\n",
              "\n",
              "  @keyframes spin {\n",
              "    0% {\n",
              "      border-color: transparent;\n",
              "      border-bottom-color: var(--fill-color);\n",
              "      border-left-color: var(--fill-color);\n",
              "    }\n",
              "    20% {\n",
              "      border-color: transparent;\n",
              "      border-left-color: var(--fill-color);\n",
              "      border-top-color: var(--fill-color);\n",
              "    }\n",
              "    30% {\n",
              "      border-color: transparent;\n",
              "      border-left-color: var(--fill-color);\n",
              "      border-top-color: var(--fill-color);\n",
              "      border-right-color: var(--fill-color);\n",
              "    }\n",
              "    40% {\n",
              "      border-color: transparent;\n",
              "      border-right-color: var(--fill-color);\n",
              "      border-top-color: var(--fill-color);\n",
              "    }\n",
              "    60% {\n",
              "      border-color: transparent;\n",
              "      border-right-color: var(--fill-color);\n",
              "    }\n",
              "    80% {\n",
              "      border-color: transparent;\n",
              "      border-right-color: var(--fill-color);\n",
              "      border-bottom-color: var(--fill-color);\n",
              "    }\n",
              "    90% {\n",
              "      border-color: transparent;\n",
              "      border-bottom-color: var(--fill-color);\n",
              "    }\n",
              "  }\n",
              "</style>\n",
              "\n",
              "  <script>\n",
              "    async function quickchart(key) {\n",
              "      const quickchartButtonEl =\n",
              "        document.querySelector('#' + key + ' button');\n",
              "      quickchartButtonEl.disabled = true;  // To prevent multiple clicks.\n",
              "      quickchartButtonEl.classList.add('colab-df-spinner');\n",
              "      try {\n",
              "        const charts = await google.colab.kernel.invokeFunction(\n",
              "            'suggestCharts', [key], {});\n",
              "      } catch (error) {\n",
              "        console.error('Error during call to suggestCharts:', error);\n",
              "      }\n",
              "      quickchartButtonEl.classList.remove('colab-df-spinner');\n",
              "      quickchartButtonEl.classList.add('colab-df-quickchart-complete');\n",
              "    }\n",
              "    (() => {\n",
              "      let quickchartButtonEl =\n",
              "        document.querySelector('#df-b7a09b5e-1238-42c2-ad05-bb88d2fe1e22 button');\n",
              "      quickchartButtonEl.style.display =\n",
              "        google.colab.kernel.accessAllowed ? 'block' : 'none';\n",
              "    })();\n",
              "  </script>\n",
              "</div>\n",
              "\n",
              "    </div>\n",
              "  </div>\n"
            ],
            "application/vnd.google.colaboratory.intrinsic+json": {
              "type": "dataframe",
              "variable_name": "df",
              "summary": "{\n  \"name\": \"df\",\n  \"rows\": 1000,\n  \"fields\": [\n    {\n      \"column\": \"Review\",\n      \"properties\": {\n        \"dtype\": \"string\",\n        \"num_unique_values\": 996,\n        \"samples\": [\n          \"They were excellent.\",\n          \"Your servers suck, wait, correction, our server Heimer sucked.\",\n          \"Will be back again!\"\n        ],\n        \"semantic_type\": \"\",\n        \"description\": \"\"\n      }\n    },\n    {\n      \"column\": \"Liked\",\n      \"properties\": {\n        \"dtype\": \"number\",\n        \"std\": 0,\n        \"min\": 0,\n        \"max\": 1,\n        \"num_unique_values\": 2,\n        \"samples\": [\n          0,\n          1\n        ],\n        \"semantic_type\": \"\",\n        \"description\": \"\"\n      }\n    }\n  ]\n}"
            }
          },
          "metadata": {},
          "execution_count": 3
        }
      ]
    },
    {
      "cell_type": "code",
      "source": [
        "s = \"WELCOME, to Deep Learning Class!!!\"\n"
      ],
      "metadata": {
        "id": "gbrZg0TUjPom"
      },
      "execution_count": 4,
      "outputs": []
    },
    {
      "cell_type": "code",
      "source": [
        "s=s.lower()"
      ],
      "metadata": {
        "id": "gKQF5EUwjPrm"
      },
      "execution_count": 5,
      "outputs": []
    },
    {
      "cell_type": "code",
      "source": [
        "s"
      ],
      "metadata": {
        "colab": {
          "base_uri": "https://localhost:8080/",
          "height": 35
        },
        "id": "Fgg6Hse8jPui",
        "outputId": "835dabac-dd61-4d72-bdf5-9370b1b5a5d0"
      },
      "execution_count": 6,
      "outputs": [
        {
          "output_type": "execute_result",
          "data": {
            "text/plain": [
              "'welcome, to deep learning class!!!'"
            ],
            "application/vnd.google.colaboratory.intrinsic+json": {
              "type": "string"
            }
          },
          "metadata": {},
          "execution_count": 6
        }
      ]
    },
    {
      "cell_type": "code",
      "source": [
        "### provide proper pattern [^a-z]\n",
        "import re\n",
        "s1 = re.sub(\"[^a-z ]\", \"\", s)\n",
        "s1"
      ],
      "metadata": {
        "colab": {
          "base_uri": "https://localhost:8080/",
          "height": 35
        },
        "id": "B5RYgTKajPxt",
        "outputId": "94c3bcd1-d68e-440c-9f28-8d66764a425b"
      },
      "execution_count": 7,
      "outputs": [
        {
          "output_type": "execute_result",
          "data": {
            "text/plain": [
              "'welcome to deep learning class'"
            ],
            "application/vnd.google.colaboratory.intrinsic+json": {
              "type": "string"
            }
          },
          "metadata": {},
          "execution_count": 7
        }
      ]
    },
    {
      "cell_type": "markdown",
      "source": [
        "### Create a function to preprocess text\n"
      ],
      "metadata": {
        "id": "jAnqfWbkwiI1"
      }
    },
    {
      "cell_type": "code",
      "source": [
        "def preprocess_text(s):\n",
        "    s = s.lower()\n",
        "    s = re.sub(\"[^a-z ]\", \"\", s)\n",
        "    return s"
      ],
      "metadata": {
        "id": "CGu0N3DXjP0v"
      },
      "execution_count": 8,
      "outputs": []
    },
    {
      "cell_type": "code",
      "source": [
        "a = \"Wow... , The expericence was very good\"\n",
        "preprocess_text(a)"
      ],
      "metadata": {
        "colab": {
          "base_uri": "https://localhost:8080/",
          "height": 35
        },
        "id": "C-FhO6nRjP35",
        "outputId": "1201b23e-43e8-48ac-ae8c-9a0ffe635b07"
      },
      "execution_count": 9,
      "outputs": [
        {
          "output_type": "execute_result",
          "data": {
            "text/plain": [
              "'wow  the expericence was very good'"
            ],
            "application/vnd.google.colaboratory.intrinsic+json": {
              "type": "string"
            }
          },
          "metadata": {},
          "execution_count": 9
        }
      ]
    },
    {
      "cell_type": "markdown",
      "source": [
        "### Apply preprocessing on dataframe\n"
      ],
      "metadata": {
        "id": "QoeBgrPew6mR"
      }
    },
    {
      "cell_type": "code",
      "source": [
        "df['Review_pre']= df['Review'].apply(preprocess_text)\n",
        "df"
      ],
      "metadata": {
        "colab": {
          "base_uri": "https://localhost:8080/",
          "height": 423
        },
        "id": "UHlFub6djP7C",
        "outputId": "40bea4cc-c591-419f-d368-c1c0a07bbdf7"
      },
      "execution_count": 10,
      "outputs": [
        {
          "output_type": "execute_result",
          "data": {
            "text/plain": [
              "                                                Review  Liked  \\\n",
              "0                             Wow... Loved this place.      1   \n",
              "1                                   Crust is not good.      0   \n",
              "2            Not tasty and the texture was just nasty.      0   \n",
              "3    Stopped by during the late May bank holiday of...      1   \n",
              "4    The selection on the menu was great and so wer...      1   \n",
              "..                                                 ...    ...   \n",
              "995  I think food should have flavor and texture an...      0   \n",
              "996                           Appetite instantly gone.      0   \n",
              "997  Overall I was not impressed and would not go b...      0   \n",
              "998  The whole experience was underwhelming, and I ...      0   \n",
              "999  Then, as if I hadn't wasted enough of my life ...      0   \n",
              "\n",
              "                                            Review_pre  \n",
              "0                                 wow loved this place  \n",
              "1                                    crust is not good  \n",
              "2             not tasty and the texture was just nasty  \n",
              "3    stopped by during the late may bank holiday of...  \n",
              "4    the selection on the menu was great and so wer...  \n",
              "..                                                 ...  \n",
              "995  i think food should have flavor and texture an...  \n",
              "996                            appetite instantly gone  \n",
              "997  overall i was not impressed and would not go back  \n",
              "998  the whole experience was underwhelming and i t...  \n",
              "999  then as if i hadnt wasted enough of my life th...  \n",
              "\n",
              "[1000 rows x 3 columns]"
            ],
            "text/html": [
              "\n",
              "  <div id=\"df-3f5271b9-6565-4278-a4fa-a3d288707174\" class=\"colab-df-container\">\n",
              "    <div>\n",
              "<style scoped>\n",
              "    .dataframe tbody tr th:only-of-type {\n",
              "        vertical-align: middle;\n",
              "    }\n",
              "\n",
              "    .dataframe tbody tr th {\n",
              "        vertical-align: top;\n",
              "    }\n",
              "\n",
              "    .dataframe thead th {\n",
              "        text-align: right;\n",
              "    }\n",
              "</style>\n",
              "<table border=\"1\" class=\"dataframe\">\n",
              "  <thead>\n",
              "    <tr style=\"text-align: right;\">\n",
              "      <th></th>\n",
              "      <th>Review</th>\n",
              "      <th>Liked</th>\n",
              "      <th>Review_pre</th>\n",
              "    </tr>\n",
              "  </thead>\n",
              "  <tbody>\n",
              "    <tr>\n",
              "      <th>0</th>\n",
              "      <td>Wow... Loved this place.</td>\n",
              "      <td>1</td>\n",
              "      <td>wow loved this place</td>\n",
              "    </tr>\n",
              "    <tr>\n",
              "      <th>1</th>\n",
              "      <td>Crust is not good.</td>\n",
              "      <td>0</td>\n",
              "      <td>crust is not good</td>\n",
              "    </tr>\n",
              "    <tr>\n",
              "      <th>2</th>\n",
              "      <td>Not tasty and the texture was just nasty.</td>\n",
              "      <td>0</td>\n",
              "      <td>not tasty and the texture was just nasty</td>\n",
              "    </tr>\n",
              "    <tr>\n",
              "      <th>3</th>\n",
              "      <td>Stopped by during the late May bank holiday of...</td>\n",
              "      <td>1</td>\n",
              "      <td>stopped by during the late may bank holiday of...</td>\n",
              "    </tr>\n",
              "    <tr>\n",
              "      <th>4</th>\n",
              "      <td>The selection on the menu was great and so wer...</td>\n",
              "      <td>1</td>\n",
              "      <td>the selection on the menu was great and so wer...</td>\n",
              "    </tr>\n",
              "    <tr>\n",
              "      <th>...</th>\n",
              "      <td>...</td>\n",
              "      <td>...</td>\n",
              "      <td>...</td>\n",
              "    </tr>\n",
              "    <tr>\n",
              "      <th>995</th>\n",
              "      <td>I think food should have flavor and texture an...</td>\n",
              "      <td>0</td>\n",
              "      <td>i think food should have flavor and texture an...</td>\n",
              "    </tr>\n",
              "    <tr>\n",
              "      <th>996</th>\n",
              "      <td>Appetite instantly gone.</td>\n",
              "      <td>0</td>\n",
              "      <td>appetite instantly gone</td>\n",
              "    </tr>\n",
              "    <tr>\n",
              "      <th>997</th>\n",
              "      <td>Overall I was not impressed and would not go b...</td>\n",
              "      <td>0</td>\n",
              "      <td>overall i was not impressed and would not go back</td>\n",
              "    </tr>\n",
              "    <tr>\n",
              "      <th>998</th>\n",
              "      <td>The whole experience was underwhelming, and I ...</td>\n",
              "      <td>0</td>\n",
              "      <td>the whole experience was underwhelming and i t...</td>\n",
              "    </tr>\n",
              "    <tr>\n",
              "      <th>999</th>\n",
              "      <td>Then, as if I hadn't wasted enough of my life ...</td>\n",
              "      <td>0</td>\n",
              "      <td>then as if i hadnt wasted enough of my life th...</td>\n",
              "    </tr>\n",
              "  </tbody>\n",
              "</table>\n",
              "<p>1000 rows × 3 columns</p>\n",
              "</div>\n",
              "    <div class=\"colab-df-buttons\">\n",
              "\n",
              "  <div class=\"colab-df-container\">\n",
              "    <button class=\"colab-df-convert\" onclick=\"convertToInteractive('df-3f5271b9-6565-4278-a4fa-a3d288707174')\"\n",
              "            title=\"Convert this dataframe to an interactive table.\"\n",
              "            style=\"display:none;\">\n",
              "\n",
              "  <svg xmlns=\"http://www.w3.org/2000/svg\" height=\"24px\" viewBox=\"0 -960 960 960\">\n",
              "    <path d=\"M120-120v-720h720v720H120Zm60-500h600v-160H180v160Zm220 220h160v-160H400v160Zm0 220h160v-160H400v160ZM180-400h160v-160H180v160Zm440 0h160v-160H620v160ZM180-180h160v-160H180v160Zm440 0h160v-160H620v160Z\"/>\n",
              "  </svg>\n",
              "    </button>\n",
              "\n",
              "  <style>\n",
              "    .colab-df-container {\n",
              "      display:flex;\n",
              "      gap: 12px;\n",
              "    }\n",
              "\n",
              "    .colab-df-convert {\n",
              "      background-color: #E8F0FE;\n",
              "      border: none;\n",
              "      border-radius: 50%;\n",
              "      cursor: pointer;\n",
              "      display: none;\n",
              "      fill: #1967D2;\n",
              "      height: 32px;\n",
              "      padding: 0 0 0 0;\n",
              "      width: 32px;\n",
              "    }\n",
              "\n",
              "    .colab-df-convert:hover {\n",
              "      background-color: #E2EBFA;\n",
              "      box-shadow: 0px 1px 2px rgba(60, 64, 67, 0.3), 0px 1px 3px 1px rgba(60, 64, 67, 0.15);\n",
              "      fill: #174EA6;\n",
              "    }\n",
              "\n",
              "    .colab-df-buttons div {\n",
              "      margin-bottom: 4px;\n",
              "    }\n",
              "\n",
              "    [theme=dark] .colab-df-convert {\n",
              "      background-color: #3B4455;\n",
              "      fill: #D2E3FC;\n",
              "    }\n",
              "\n",
              "    [theme=dark] .colab-df-convert:hover {\n",
              "      background-color: #434B5C;\n",
              "      box-shadow: 0px 1px 3px 1px rgba(0, 0, 0, 0.15);\n",
              "      filter: drop-shadow(0px 1px 2px rgba(0, 0, 0, 0.3));\n",
              "      fill: #FFFFFF;\n",
              "    }\n",
              "  </style>\n",
              "\n",
              "    <script>\n",
              "      const buttonEl =\n",
              "        document.querySelector('#df-3f5271b9-6565-4278-a4fa-a3d288707174 button.colab-df-convert');\n",
              "      buttonEl.style.display =\n",
              "        google.colab.kernel.accessAllowed ? 'block' : 'none';\n",
              "\n",
              "      async function convertToInteractive(key) {\n",
              "        const element = document.querySelector('#df-3f5271b9-6565-4278-a4fa-a3d288707174');\n",
              "        const dataTable =\n",
              "          await google.colab.kernel.invokeFunction('convertToInteractive',\n",
              "                                                    [key], {});\n",
              "        if (!dataTable) return;\n",
              "\n",
              "        const docLinkHtml = 'Like what you see? Visit the ' +\n",
              "          '<a target=\"_blank\" href=https://colab.research.google.com/notebooks/data_table.ipynb>data table notebook</a>'\n",
              "          + ' to learn more about interactive tables.';\n",
              "        element.innerHTML = '';\n",
              "        dataTable['output_type'] = 'display_data';\n",
              "        await google.colab.output.renderOutput(dataTable, element);\n",
              "        const docLink = document.createElement('div');\n",
              "        docLink.innerHTML = docLinkHtml;\n",
              "        element.appendChild(docLink);\n",
              "      }\n",
              "    </script>\n",
              "  </div>\n",
              "\n",
              "\n",
              "<div id=\"df-398553d4-56d3-443a-b6a3-f36a4a021c85\">\n",
              "  <button class=\"colab-df-quickchart\" onclick=\"quickchart('df-398553d4-56d3-443a-b6a3-f36a4a021c85')\"\n",
              "            title=\"Suggest charts\"\n",
              "            style=\"display:none;\">\n",
              "\n",
              "<svg xmlns=\"http://www.w3.org/2000/svg\" height=\"24px\"viewBox=\"0 0 24 24\"\n",
              "     width=\"24px\">\n",
              "    <g>\n",
              "        <path d=\"M19 3H5c-1.1 0-2 .9-2 2v14c0 1.1.9 2 2 2h14c1.1 0 2-.9 2-2V5c0-1.1-.9-2-2-2zM9 17H7v-7h2v7zm4 0h-2V7h2v10zm4 0h-2v-4h2v4z\"/>\n",
              "    </g>\n",
              "</svg>\n",
              "  </button>\n",
              "\n",
              "<style>\n",
              "  .colab-df-quickchart {\n",
              "      --bg-color: #E8F0FE;\n",
              "      --fill-color: #1967D2;\n",
              "      --hover-bg-color: #E2EBFA;\n",
              "      --hover-fill-color: #174EA6;\n",
              "      --disabled-fill-color: #AAA;\n",
              "      --disabled-bg-color: #DDD;\n",
              "  }\n",
              "\n",
              "  [theme=dark] .colab-df-quickchart {\n",
              "      --bg-color: #3B4455;\n",
              "      --fill-color: #D2E3FC;\n",
              "      --hover-bg-color: #434B5C;\n",
              "      --hover-fill-color: #FFFFFF;\n",
              "      --disabled-bg-color: #3B4455;\n",
              "      --disabled-fill-color: #666;\n",
              "  }\n",
              "\n",
              "  .colab-df-quickchart {\n",
              "    background-color: var(--bg-color);\n",
              "    border: none;\n",
              "    border-radius: 50%;\n",
              "    cursor: pointer;\n",
              "    display: none;\n",
              "    fill: var(--fill-color);\n",
              "    height: 32px;\n",
              "    padding: 0;\n",
              "    width: 32px;\n",
              "  }\n",
              "\n",
              "  .colab-df-quickchart:hover {\n",
              "    background-color: var(--hover-bg-color);\n",
              "    box-shadow: 0 1px 2px rgba(60, 64, 67, 0.3), 0 1px 3px 1px rgba(60, 64, 67, 0.15);\n",
              "    fill: var(--button-hover-fill-color);\n",
              "  }\n",
              "\n",
              "  .colab-df-quickchart-complete:disabled,\n",
              "  .colab-df-quickchart-complete:disabled:hover {\n",
              "    background-color: var(--disabled-bg-color);\n",
              "    fill: var(--disabled-fill-color);\n",
              "    box-shadow: none;\n",
              "  }\n",
              "\n",
              "  .colab-df-spinner {\n",
              "    border: 2px solid var(--fill-color);\n",
              "    border-color: transparent;\n",
              "    border-bottom-color: var(--fill-color);\n",
              "    animation:\n",
              "      spin 1s steps(1) infinite;\n",
              "  }\n",
              "\n",
              "  @keyframes spin {\n",
              "    0% {\n",
              "      border-color: transparent;\n",
              "      border-bottom-color: var(--fill-color);\n",
              "      border-left-color: var(--fill-color);\n",
              "    }\n",
              "    20% {\n",
              "      border-color: transparent;\n",
              "      border-left-color: var(--fill-color);\n",
              "      border-top-color: var(--fill-color);\n",
              "    }\n",
              "    30% {\n",
              "      border-color: transparent;\n",
              "      border-left-color: var(--fill-color);\n",
              "      border-top-color: var(--fill-color);\n",
              "      border-right-color: var(--fill-color);\n",
              "    }\n",
              "    40% {\n",
              "      border-color: transparent;\n",
              "      border-right-color: var(--fill-color);\n",
              "      border-top-color: var(--fill-color);\n",
              "    }\n",
              "    60% {\n",
              "      border-color: transparent;\n",
              "      border-right-color: var(--fill-color);\n",
              "    }\n",
              "    80% {\n",
              "      border-color: transparent;\n",
              "      border-right-color: var(--fill-color);\n",
              "      border-bottom-color: var(--fill-color);\n",
              "    }\n",
              "    90% {\n",
              "      border-color: transparent;\n",
              "      border-bottom-color: var(--fill-color);\n",
              "    }\n",
              "  }\n",
              "</style>\n",
              "\n",
              "  <script>\n",
              "    async function quickchart(key) {\n",
              "      const quickchartButtonEl =\n",
              "        document.querySelector('#' + key + ' button');\n",
              "      quickchartButtonEl.disabled = true;  // To prevent multiple clicks.\n",
              "      quickchartButtonEl.classList.add('colab-df-spinner');\n",
              "      try {\n",
              "        const charts = await google.colab.kernel.invokeFunction(\n",
              "            'suggestCharts', [key], {});\n",
              "      } catch (error) {\n",
              "        console.error('Error during call to suggestCharts:', error);\n",
              "      }\n",
              "      quickchartButtonEl.classList.remove('colab-df-spinner');\n",
              "      quickchartButtonEl.classList.add('colab-df-quickchart-complete');\n",
              "    }\n",
              "    (() => {\n",
              "      let quickchartButtonEl =\n",
              "        document.querySelector('#df-398553d4-56d3-443a-b6a3-f36a4a021c85 button');\n",
              "      quickchartButtonEl.style.display =\n",
              "        google.colab.kernel.accessAllowed ? 'block' : 'none';\n",
              "    })();\n",
              "  </script>\n",
              "</div>\n",
              "\n",
              "  <div id=\"id_8198cbfd-891e-4379-9c22-9bb465f30c0d\">\n",
              "    <style>\n",
              "      .colab-df-generate {\n",
              "        background-color: #E8F0FE;\n",
              "        border: none;\n",
              "        border-radius: 50%;\n",
              "        cursor: pointer;\n",
              "        display: none;\n",
              "        fill: #1967D2;\n",
              "        height: 32px;\n",
              "        padding: 0 0 0 0;\n",
              "        width: 32px;\n",
              "      }\n",
              "\n",
              "      .colab-df-generate:hover {\n",
              "        background-color: #E2EBFA;\n",
              "        box-shadow: 0px 1px 2px rgba(60, 64, 67, 0.3), 0px 1px 3px 1px rgba(60, 64, 67, 0.15);\n",
              "        fill: #174EA6;\n",
              "      }\n",
              "\n",
              "      [theme=dark] .colab-df-generate {\n",
              "        background-color: #3B4455;\n",
              "        fill: #D2E3FC;\n",
              "      }\n",
              "\n",
              "      [theme=dark] .colab-df-generate:hover {\n",
              "        background-color: #434B5C;\n",
              "        box-shadow: 0px 1px 3px 1px rgba(0, 0, 0, 0.15);\n",
              "        filter: drop-shadow(0px 1px 2px rgba(0, 0, 0, 0.3));\n",
              "        fill: #FFFFFF;\n",
              "      }\n",
              "    </style>\n",
              "    <button class=\"colab-df-generate\" onclick=\"generateWithVariable('df')\"\n",
              "            title=\"Generate code using this dataframe.\"\n",
              "            style=\"display:none;\">\n",
              "\n",
              "  <svg xmlns=\"http://www.w3.org/2000/svg\" height=\"24px\"viewBox=\"0 0 24 24\"\n",
              "       width=\"24px\">\n",
              "    <path d=\"M7,19H8.4L18.45,9,17,7.55,7,17.6ZM5,21V16.75L18.45,3.32a2,2,0,0,1,2.83,0l1.4,1.43a1.91,1.91,0,0,1,.58,1.4,1.91,1.91,0,0,1-.58,1.4L9.25,21ZM18.45,9,17,7.55Zm-12,3A5.31,5.31,0,0,0,4.9,8.1,5.31,5.31,0,0,0,1,6.5,5.31,5.31,0,0,0,4.9,4.9,5.31,5.31,0,0,0,6.5,1,5.31,5.31,0,0,0,8.1,4.9,5.31,5.31,0,0,0,12,6.5,5.46,5.46,0,0,0,6.5,12Z\"/>\n",
              "  </svg>\n",
              "    </button>\n",
              "    <script>\n",
              "      (() => {\n",
              "      const buttonEl =\n",
              "        document.querySelector('#id_8198cbfd-891e-4379-9c22-9bb465f30c0d button.colab-df-generate');\n",
              "      buttonEl.style.display =\n",
              "        google.colab.kernel.accessAllowed ? 'block' : 'none';\n",
              "\n",
              "      buttonEl.onclick = () => {\n",
              "        google.colab.notebook.generateWithVariable('df');\n",
              "      }\n",
              "      })();\n",
              "    </script>\n",
              "  </div>\n",
              "\n",
              "    </div>\n",
              "  </div>\n"
            ],
            "application/vnd.google.colaboratory.intrinsic+json": {
              "type": "dataframe",
              "variable_name": "df",
              "summary": "{\n  \"name\": \"df\",\n  \"rows\": 1000,\n  \"fields\": [\n    {\n      \"column\": \"Review\",\n      \"properties\": {\n        \"dtype\": \"string\",\n        \"num_unique_values\": 996,\n        \"samples\": [\n          \"They were excellent.\",\n          \"Your servers suck, wait, correction, our server Heimer sucked.\",\n          \"Will be back again!\"\n        ],\n        \"semantic_type\": \"\",\n        \"description\": \"\"\n      }\n    },\n    {\n      \"column\": \"Liked\",\n      \"properties\": {\n        \"dtype\": \"number\",\n        \"std\": 0,\n        \"min\": 0,\n        \"max\": 1,\n        \"num_unique_values\": 2,\n        \"samples\": [\n          0,\n          1\n        ],\n        \"semantic_type\": \"\",\n        \"description\": \"\"\n      }\n    },\n    {\n      \"column\": \"Review_pre\",\n      \"properties\": {\n        \"dtype\": \"string\",\n        \"num_unique_values\": 995,\n        \"samples\": [\n          \"i could barely stomach the meal but didnt complain because it was a business lunch\",\n          \"similarly the delivery man did not say a word of apology when our food was  minutes late\"\n        ],\n        \"semantic_type\": \"\",\n        \"description\": \"\"\n      }\n    }\n  ]\n}"
            }
          },
          "metadata": {},
          "execution_count": 10
        }
      ]
    },
    {
      "cell_type": "markdown",
      "source": [
        "### Apply TFIDF Vectorizer\n"
      ],
      "metadata": {
        "id": "l_ZL1W8vxWWn"
      }
    },
    {
      "cell_type": "code",
      "source": [
        "from sklearn.feature_extraction.text import TfidfVectorizer\n",
        "tfidf = TfidfVectorizer()\n",
        "X_pre = tfidf.fit_transform(df['Review_pre']).toarray()"
      ],
      "metadata": {
        "id": "0pA4qZL-jP-J"
      },
      "execution_count": 11,
      "outputs": []
    },
    {
      "cell_type": "code",
      "source": [
        "X_pre"
      ],
      "metadata": {
        "colab": {
          "base_uri": "https://localhost:8080/"
        },
        "id": "jkVtvkCjjQBD",
        "outputId": "095db2f4-e709-4a91-b638-2ff42aa4f9d9"
      },
      "execution_count": 12,
      "outputs": [
        {
          "output_type": "execute_result",
          "data": {
            "text/plain": [
              "array([[0., 0., 0., ..., 0., 0., 0.],\n",
              "       [0., 0., 0., ..., 0., 0., 0.],\n",
              "       [0., 0., 0., ..., 0., 0., 0.],\n",
              "       ...,\n",
              "       [0., 0., 0., ..., 0., 0., 0.],\n",
              "       [0., 0., 0., ..., 0., 0., 0.],\n",
              "       [0., 0., 0., ..., 0., 0., 0.]])"
            ]
          },
          "metadata": {},
          "execution_count": 12
        }
      ]
    },
    {
      "cell_type": "code",
      "source": [
        "X_pre.shape"
      ],
      "metadata": {
        "colab": {
          "base_uri": "https://localhost:8080/"
        },
        "id": "1pnIdEgRjQEV",
        "outputId": "bd6f3b3c-b326-4d60-85c0-a453f844bf40"
      },
      "execution_count": 13,
      "outputs": [
        {
          "output_type": "execute_result",
          "data": {
            "text/plain": [
              "(1000, 2046)"
            ]
          },
          "metadata": {},
          "execution_count": 13
        }
      ]
    },
    {
      "cell_type": "markdown",
      "source": [
        "![image.png](data:image/png;base64,iVBORw0KGgoAAAANSUhEUgAAAoAAAAGuCAYAAAAAg7f4AAAgAElEQVR4AezdC7z91Zg/8DPm9x+XMT/GfWbIoBrEkGu5X6JEdBt0QblUFKFyy6RITMqdSKaEkvRLF3JLU2FINRE/TVTuDBNhDOMy3//rvcZzrHb7fvY+Z+/zfdbrdc7ae3/X7bvWZ631Wc961rMWFv7PbbWwsHDiwsLCOfmXdZAYSAwkBhIDiYHEQGJgVWLg1IWFhd3+wP0Wtl1YWGjyL+sgMZAYSAwkBhIDiYHEQCswcDASiA0mAcw6SAwkBhIDiYHEQGIgMdAODHwNAbTtmw2edZAYSAwkBhIDiYHEQGKgHRi4KglgOxo6O3S2c2IgMZAYSAwkBhIDgYHuBPB617vefgsLCw975CMf+bR3vOMdF51xxhnNSSed1Jxwwgn5l3WQGEgMJAYSA4mBxEBiYAYxgKvhbLgbDofL/emf/umuXXZ6uxPANWvWbEE0eOGFF975iiuu+NQvf/nL5pprrml+8pOfNFdffXX+ZR0kBhIDiYHEQGIgMZAYmCEM4Gi4Gs6Gu+FwuNzatWs3GpkAnnfeeXe9/PLLP/Xb3/62Cfe///u/Tf5lHSQGEgOJgcRAYiAxkBiYHQwET8PZcDccbmwC+OlPf/oel19++Tm/+93vIt30swayBrIGsgayBrIGsgayBma0BnA23A2H+wMB3HBkCeDpp59+38svv/zclADODsPP1Va2RWIgMZAYSAwkBhIDnRgIPvoHCeC5ONzYBHDdunWbr1+//vwkgAm0TqDl98REYiAxkBhIDCQGZgcDNQHE3XC4sQngySef/IAkgLPTuNnRsi0SA4mBxEBiIDGQGOiGgU4CiMONTQBTApgg6way/C1xkRhIDCQGEgOJgdnCQCcBXJIEMAngbDVudrZsj8RAYiAxkBhIDCQGumEgCWCaqUkzPYmBxEBiIDGQGEgMtAwDSQBb1uDdVgH5W64OEwOJgcRAYiAx0C4MJAFMApirvsRAYiAxkBhIDCQGWoaBJIAta/Bc4bVrhZftne2dGEgMJAYSA90wkAQwCWCu+hIDiYHEQGIgMZAYaBkGkgC2rMG7rQLyt1wdJgYSA4mBxEBioF0YSAKYBDBXfYmBxEBiIDGQGEgMtAwDSQBb1uC5wmvXCi/bO9s7MZAYSAwkBrphIAlgEsBc9SUGEgOJgcRAYiAx0DIMJAFsWYN3WwXkb7k6TAwkBhIDiYHEQLswkAQwCWCu+hIDiYHEQGIgMZAYaBkGkgC2rMFzhdeuFV62d7Z3YiAxkBhIDHTDQBLAJIC56ksMJAYSA4mBxEBioGUYSALYsgbvtgrI33J1mBhIDCQGEgOJgXZhIAlgEsBc9SUGEgOJgcRAYiAx0DIMJAFsWYPnCq9dK7xs72zvxEBiIDGQGOiGgSSASQBz1ZcYSAwkBhIDiYHEQMswkASwZQ3ebRWQv+XqMDGQGEgMJAYSA+3CQBLAJIC56ksMJAYSA4mBxEBioGUYSALYsgbPFV67VnjZ3tneiYHEQGIgMdANA0kAkwDmqi8xkBhIDCQGEgOJgZZhIAlgyxq82yogf8vVYWIgMZAYSAwkBtqFgSSASQBz1ZcYSAwkBhIDiYHEQMswkASwZQ2eK7x2rfCyvbO9EwOJgcRAYqAbBpIAJgHMVV9iIDGQGEgMJAYSAy3DQBLAljV4t1VA/parw8RAYiAxkBhIDLQLA0kAkwDmqi8xkBhIDCQGEgOJgZZhIAlgyxo8V3jtWuFle2d7JwYSA4mBxEA3DCQBTAKYq77EQGIgMZAYSAwkBlqGgSSALWvwbquA/C1Xh4mBxEBiIDGQGGgXBpIAJgHMVV9iIDGQGEgMJAYSAy3DQBLAljV4rvDatcLL9s72TgwkBhIDiYFuGEgCmAQwV32JgcRAYiAxkBhIDLQMA0kAW9bg3VYB+VuuDhMDiYHEQGIgMdAuDCQBTAKYq77EQGIgMZAYSAwkBlqGgSSALWvwXOG1a4WX7Z3tnRhIDCQGEgPdMJAEMAlgrvoSA4mBxEBiIDGQGGgZBpIAtqzBu60C8rdcHSYGEgOJgcRAYqBdGEgCmAQwV32JgcRAYiAxkBhIDLQMA0kAW9bgucJr1wov2zvbOzGQGEgMJAa6YSAJYBLAXPUlBhIDiYHEQGIgMdAyDCQBbFmDd1sF5G+5OkwMJAYSA4mBxEC7MJAEMAlgrvoSA4mBxEBiIDGQGGgZBpIAtqzBc4XXrhVetne2d2IgMZAYSAx0w0ASwCSAuepLDCQGEgOJgcRAYqBlGEgC2LIG77YKyN9ydZgYSAwkBhIDiYF2YSAJYBLAXPUlBhIDiYHEQGIgMdAyDCQBbFmD5wqvXSu8bO9s78RAYiAxkBjohoEkgEkAc9WXGEgMJAYSA4mBxEDLMJAEsGUN3m0VkL/l6jAxkBhIDCQGEgPtwkASwCSAuepLDCQGEgOJgcRAYqBlGEgC2LIGzxVeu1Z42d7Z3omBxEBiIDHQDQNJAJMA5qovMZAYSAwkBhIDiYGWYSAJYMsavNsqIH/L1WFiIDGQGEgMJAbahYEkgEkAc9WXGEgMJAYSA6sAAzGh9/PHJXn90ux8Nm4eGW95CWi0229/+9tm/fr1569bt27zhYWFhbVr1264sLDQdPxd5dk5HT82a9as2cIDkSUisXDZoMvboFnfWd+JgcRAYqB9GIg5d5A/DjYGpdnt+Tj5ZJzlxW20WxLAVbD6y86zvJ0n6zvrOzGQGJgFDMREPqw/apmHTbcz3Kj5ZPjl7U/RXkkAkwDmFlBiIDGQGEgMzCEGTOBXX3118+///u/NJZdc0nz5y19uvvKVr9jWK38+e/a9732v+eUvf1na2OQ/iHAJ85vf/Kb5z//8z+brX/9686Uvfan81Wl/9atfbS699NLF36+88srmmmuuaX7/+98XfjEoj3y+vKSvru8kgHPY2esGzM8r13my7rPuEwOJgZXEQEzgv/jFL5rPfvazzaGHHto885nPbJ797Gc3z33uc5vnP//55W+fffZpXvaylzXve9/7ChEcRk0r0kbmzjvvvObwww9v9tprr2aPPfa4VtrPe97zmr333rvZc889mxe+8IXNUUcdVUjo//zP/0QSA4nmStZhm/OOBkoJYBLB7KSJgcRAYiAxMEcYiAkcSfvIRz7S7L777s29733v5h73uEez0UYbNRtssEHzN3/zN82tb33rZsMNN2x22WWX5qMf/Wjz61//OqL2bO8IQLJ42mmnFYJ3//vfv9lkk01K2re97W2bv/7rvy55bLzxxs3f//3fN49+9KObAw88sDn//PObX/3qV5FEzzzaTL5m4d2jgZIAzlGnnwXgZBlS8pEYSAwkBlYWAzGB29a96KKLmre85S1F4rfrrrs297znPZsb3/jGiyc5r3e96zV3uctdmje+8Y1lSzfi9mrDeP5f//VfzRe/+MUi2XvBC17Q7Lzzzs2mm27aXP/61y9pI4JbbrllkTwedNBBzQknnNB87WtfK1vHkUavPPL32cBPEsAkgLlKSwwkBhIDiYE5xIAJ/Kc//WnzjW98o2y/nnHGGc1uu+1WJH+11Y4b3vCGZQv34osvHpqgSfsnP/lJc8UVV5S0zzrrrOYZz3hG8xd/8RcNUvmYxzymOf7445sLLrig6B1++9vfbn7+858XHcAkeCtL8AbVfxD0JIBz2OkHNW4+n+3Ol+2T7ZMYSAxMAgMxkYf/ne98p/nHf/zH5o53vOOiBDCIoG3cd73rXYXURfh+ZYgw4TsQ8opXvKK55S1vWf5e+tKXlsMl8Tz8fmnms9nAfbRVEsAkgLnyTwwkBhIDiYE5xUBM5nyngB3OoP8XxC/8m93sZmW71und2vUjZXU4p4Ed+vjLv/zLxS3lH//4x3WQ8rlfevksCWAONHM60GTnnY3Om+2Q7ZAYSAwEBoKB0Qf81Kc+1ey0004Nsvdnf/ZnxUfYbNkigptttllz0kknlW3jiBfpdPMjjIMd5557brPddtuVLeAHP/jBRefPFnG4bvHzt9nEabRZSgCTjCUhTwwkBhIDiYE5xUBM5k7tfuADH2i22GKL5iY3uUnzt3/7t81DH/rQ5n73u19zgxvcYPHgBpMtF1544VD2+iJtp41PPPHEQiDpAG6//fbNJz/5yWJbMMIk2ZtNstetXaLNkgDOaafv1qj52/x0wGyrbKvEQGJgEhiIyfy73/1u87a3va2c1L3FLW5RTugyzcI+IHMwJIAOgzz84Q9vjjvuuGJAOuLyu5Ulnv/oRz9qjjzyyGIG5uY3v3k5UOKEMGPRveJ2Sy9/mw3MR7smAUwC2LXjZ0edjY6a7ZDtkBhIDPTDQEzml19+eXPIIYcUyR87ffT1Tj311GL+hX3AP/mTPykk8Ha3u11zwAEHFH1BBCBctzziGXK5//77l8Mft7/97YtxaSZffve735Ug3eLmb7OL22jXJIBJAJMAJgYSA4mBxMCcYsBkjmyxB+gWEBI6xp/d4OFKOOZbdtxxx6K7Rwp4oxvdqNlmm22ak08++VpSwG6ELYiCAyBsDIrL8DNp4De/+c2htpG7pZu/rSw5jHZNAjinnT470Mp2oKz/rP/EQGJgpTEQE7kbPhwAefKTn1y2eRlspg/ImLO7gJlv+bu/+7siASQJZBia8WZ3+9aufp/6d+SS0ec//dM/bRwAOfbYYxvbwuHqePl59vtFtFsSwCSAufJPDCQGEgOJgTnEQEzkP/vZz8rp3kc84hFlq/chD3lIucfXc/cFn3nmmc3jH//4Zs2aNYUEOsjBkPPpp5/e83q4SNvdvq6Ru+9971vikx66Ig65DJekb/ZJX91G0W5JAOew09cNmZ/nq+Nle2V7JQYSA5PCQEzkjDS/4x3vKNuzJHxPeMITriXdc0vHy1/+8nKHb9gFdF/wq1/96rKVG+nU5YrfpH300UcXqSHi6KYRd/6G/p9wdbz8PPv4jrZNApgEMDtvYiAxkBhIDMwZBmIS5//gBz9oDjvssAapo6e3xx57NFdeeeViEBM9+39OAIdJGD67fnQEg8zV5C0iuwrula98ZTlccpvb3KbZb7/9mksvvTQeJ27mDDfaOFwSwDlsvLqT5ufZX21lG2UbJQYSA5PGQEzi0kX22PdjABpJcx3c9773vQhSfAdCXvSiFzW3utWtFnUB73CHOzSvec1rFg1D12WMyGwGPuc5z2n+6q/+qpiBITW86qqr4nESwDnkENF4SQDnsPHqTpqfc2JJDCQGEgPtw0BM4mzxOaSxyy67FOnfXe961+atb31r03lN23//93+Xk790+cIkjNtCxLvgggsWpYDShadwn/jEJ4rhZ3cAu0/4ne98Z5E4xvPE3vxhL9ouCWASwFzBJQYSA4mBxMCcYSAmcYcxzjjjjOaRj3xkIYD8U045pXEwpNPZumUfsL4rmFmX17/+9Q09wU6HXL7//e9vHvSgBxXzMltvvXWzbt26RYmh8EkAkwBuvn79+vOxyXAJivkDRbZZtlliIDGQGJgPDMRc65DGUUcd1dz97ndv1q5d2zzlKU9pPvOZz1zrdG+EJRV873vfW66LixPBro1jJ5CkL272iPA//elPmze/+c3N3e52t0IApf3Zz372WmknXuYDL3U7RfumBHDOVn11I+bn+et42WbZZomBxMAkMBCT+Pe///3m4IMPLlI927QveMELygng+mBHhGUv0HYvg9FxPZzt4Hve857Nm970puY73/lOBC2SvW9961vlAAjD0q6XE49dQeUPN4l3yTSWt09E2yUBTAKYIvzEQGIgMZAYmDMMxCTuRo5nP/vZ5aYPhzpe9apXlUMaQdKCXAnv8w9/+MMiMQy7fszCII577bVXkRyy+8chB5dcckk5XOJ0sevlHC6pdQsj7fSXl8Attb4DO0kA56zTL7XhM/58ddRsr2yvxEBioBsGYhJ3Jy9zLm7puNe97tW8/e1vL4c0xOEiboRH8M4999zmGc94RjkxjABe//rXLzd8OOCBIHIOjZxzzjllS5m00E0ib3zjG8vvkVaknf58YTTaLwlgEsDFASI78Xx14myvbK/EQDsxEBM4/3Of+1zzwAc+sJzsfdSjHtV88IMfbK655prFIDVG4kcmYhiO3myzzYpJGCSQeRhSQGZfOIdIHCbZYostmpve9KYljxNPPLFIBj2v083P84XDwEESwCSA2ZETA4mBxEBiYI4wEBP4r371q0LSnOQlxXMXsDuBYxu3k6hFPIc9vvCFLzS77rpr8+d//ueFBF7vetcrJO9973tfuT7O4ZJjjjmmucc97tE4KPIP//APRSL4+9//viSTpG++SF/dXoGDJIBz1OnrBszP89v55rntYuCo/Xl+n7aXvW7H+nPb62XW3z/ayg0gDm9svPHGxQg0XUCHPJQ/XOe7xO//8R//0bzuda9rNtlkk0UpID2/fffdtxwi+e53v9sceeSR5QaQm9/85s3zn//88nuk3Zlufp+fOSkwkAQwCWCu/BMDQ2EgBo1ufg7+8zP4xwTerR3jt2zP2W7PaCf6fy996Uub293uduUauAMPPLDxW7hu7RjPSAHd6csQNOmfbWCmYRwOOfnkkwvZc38w8ucWEDeGIJzhuqWdv802bqJ9og2TAObkP9TkH8BJfz46+CTbKQaLYfxJ5ptpTRZr/drPth5CYOvQpOB71v9k63+S9RltySbfbrvtVky62Kp1SKPTlEtnvhGXz84fI9C1YWi2BF0ZxwD00572tOaGN7xh43TxcccdlwdAVglfCAwkAVwlDdrZyfP77A7e89I2MUjw2Q/70Y9+1Hz9619vvvSlLzX/9m//Vnzf/e659+Lm5f3aWk724dweYQvQna7akyTo05/+dGlXZj5MDNmWszuGlMZpmua0005rttxyy3KAww0gDmnQ3QvXC+PxnP/xj3+82WabbYoZGVJAdgEf9rCHFfK3+eabN66L23TTTZuzzjqrjpb9fI65QzRkEsA5bsRenTt/n92Be57aJgaJX/7yl8Ue2LHHHtvsv//+zU477VTuBn3Sk55UvrtZwEXzzEaEm6f3XO1l1SbeEUlH7rSVSd8pUFt8T33qUwuJ2GqrrZpDDjmkufjiixuHC8Kt9vqZt/eLdiGt1Sfvc5/7FDt++qMDIPpruH7vFmGuuOKK5rDDDmvcIYwA+mP0+W//9m8LsbzxjW/cPOYxjyk3gEQcfr+089lsz0HRjkkAkwBmR04MXAcDMUD85Cc/KZIhxOBxj3tcsQVmSygmCltHJgeXz7shIE4f5gQwOxOAtrSl68aIj370o81BBx1UCDziQHeMhCfakz25s88+O8n8GGNC9Jnwp9UHIn2SviOOOKK5853vXLaAHQAhzQ3prXD9yhDpkAZ/7GMfK5io+zZMsC3IPMzTn/70sgiMOIPS7pfvKM+WO79RyjbPYaNekwCO0dHnueGz7LMzMc9qW8TgYIL5yEc+Um4ZeOhDH1q2hR7xiEeUCSeUxk0SzEg88YlPLOSil/2xWX3XNpRLexroL7vssqIjRtJ3xzvesUzsN7rRjRbJ3//7f/+vtKOt4JTmjjZORJ9RzxZB09KhjHzglvrFy172sqKfh8iT5iL5teuH7zqcgyNu+WDsGemLBQEfVhw0ufzyyxej9Et3ks/q+pT5JNNuc1rRkEkAkwBmp0oMFAzEoMC3jWQ7ycqfAvhDHvKQYhLiAx/4QJlonBRkdywmCs9POumkhsQwXJsH2Fl6d+1B749ZD5IeSv/IwrOe9ayGjhcbb9qR9GfnnXdu/uVf/iUJ4JBjQmCdj/ghz2eeeeZUrkur84IvBpv32GOPckUb4vbmN7+5bPN3huuHxQir3+q/tS5g9O173/veJW34CdcvzUk8i3yoKygXyWbtJpFHm9OIukwCOGRHbzNY8t1HkwbMa33FoOA06EUXXVTsftEDYhvsxS9+cTldiEh8+ctfLiSC0rkrom5729sWMoE42E4KN6/1sNrKrT1IpOgA/vznP2+uvvrqQlBcB/a85z2vuf3tb18IIEKfBHC0vq5u4YV5lA9/+MPNPvvsU/Qov/Wtb0U3mNgCO6Rh2lF+bvx47GMf2/zlX/5lc7e73a2oYZDA67/+hpFCRiGFv/TSSxtmZEj8gvzx3S7CLMxyLu6iXHRVnXJ+7Wtf27jz2Dtxq62PLvf7RP0mAUwCmJ1plWIgOnn4gwaZCOeaKAZgKYWHAvgZZ5xRpEjCmCxMcBTQ99577+YFL3hBmYzEywH6jwZ41dWgOl/q82izYfOqw3/lK18pW3sx4dMFTAI4PAGMukSMmEihI0sf1uEaJ+PDLaWNpSG+Pmd71wGd8847r5z2Rd7p/2k3UvoXvvCF5aTuv/7rvxZbgL/4xS9K3EijVzminBZviB41j1ov1A0gFgvLqRYQZWLmxp3FJJNve9vbhjrh3Os98/c/YjvqNwngKp38E+x/BHtb6yI6ee33qwvhPP/MZz5TBly6QAzAvuIVr2icFOx0pBBf/OIXy6RkciIdjDT65bOan3XW0TTftTOvQXXfGR4BpEOWBHC8sUJ9WvAgZLZi6cnSo1OvYRZpqe0fbUayxwyL2zhI/e53v/uVvllL6rSjMiCiTvV+4xvfiOjF71eWCKjsFnSMP0fabAHabkZCw/VLaxLPIh/jCnLtPmJ6xnFPseeTyKetaUT9JgFMApgdaRViQAe3YmcUlvI2/Z1YwXcb9GJAYCbESjtIAR0xZl7qwx0RtpvfLe02/Rb1HltxUUeTroNI1wCuXf35PCifiMenV/WSl7xksa1TAjg8EYx6tJ3+rne9q9lrr73KNiX1iHCD2mKY55GWA1l04Xbcccci9aOascEGG5Tte59t44d/pzvdqXnuc5/bfPWrX43oxe+XXwQkzfzQhz7UbLvttiU9xqVf/epXlxP+scATtl9ak3gW5eFfeeWV5Xo6Kif0VxHb3GkYHqvd2iPqNwngKpz8uzV4/ra0DjMv9Rcd22BttWzwtjWExNV6ScLV7xTxPve5zxW7cH/xF39RTvfaEmQWJMy7RLwI3+nXabbpc9SLwzOf//znFxXX1UG4SdVHpKdNnOx18MC23zBb8BGXf8kll5QbH2wfkvYkARxujIg6dIuGLUrqEm95y1uKbuykpWTyghu4oqOHBMrLjR/8o446qnnnO99ZfKaYECR/VDYY+g78DYM9eSEE3/72t8tBFlvZxx9/fPOFL3yh6P8tN+mKevbuJ5xwQvOEJzyhefjDH17euzZ2HXU0zDtmmP/DeNRtEsAkgNciAtlBhpsEZrWeomPbOnnDG95QLPhTEH/Vq151LTMOnYOm7wbaY445prHqt/1LomCL0MQTg39nvFmth+Uul3pByByecWDG7QxMZyDhkzwYIx9OXgicdn3yk59cDHIjgrYeuV7vXx7+4Z/4yjpJAhjp98p/Er8vRx79yil/EyebirZ+2d9DuKLuPe8Xf5RnkZb+J316fYinP1Lmzj8SPFJJh32QUXlFGoPyLQH/sK1tLJCHdORrQTlKWoPyGuZ5lEfepNXqmbkbW9Kkm8spkRymvPMUJuo2CeAMEsBonG7+tEDWLS+/TSu/THc6RFObmSw++clPlhUzG32bbLJJWTV3M+MQ7a49bLUgLbe85S2LRIieEalCt3jZfn9sv6hDkyYzK25koDu58cYbF2JGpzK235fSpyIfE3uQP2RdXjvssENz+umnD7wFItLgL3ULuE5rmM/jYGaYdCPMOOmPGify0gak6wyhk0w5AT9p6V9n2SLvYf3O+MN+75b+sHEnHS7KQt+Y1JNJGodU3FP8s5/9LB7nPDUij4mKSwI4YsVNGuCd6UXD9PI7w/f7Lo1+z+tnk8ivTi8//5EgLEdd1O1n5f66172umG+xtUcxnMkIv4dTptohKE76PeUpTyn24NasWdNsvfXW5VRgZ7zleJ95y0NdGkzdrYs0q/O1a9c2d7nLXco26wUXXLAkghBthWSwjfaa17ymYYuRsj4bjLb9bAcrA9er/iId/nITwH7l6lbeuqzDfo50OsPH70v1I131rA2Q/Oc85zml7kNKvtQ8esWPvEfxe6XV7/de6feLM81nygP31FOYhCGxppri5qFw08x/NaYd9ZYEcAYIYDRG7RO7k7wY7Flpt6Xnfs5BYKzTqD/3ihdhSC/oiMmPDojvveLk78tL7gbVd7Qh30BJ4kQKhfwhckgdAtLPwRsTELYu3QiBvDC/QJ+tnxtUtrY8r+uIvTIHaR70oAeVemSqw1YrEx7qI9ywdRPhbXk5pflP//RPzb3uda/mpje9aSGaRx99dLkVYpgtsUiLjwAqVxz4GUYHsI7vs+1tkmN6YgyH2wo97bTTiiQUDo1dtiQ7Xb93r8Pa6jYu2Vo/55xzyrYrSacbanwnCSUdCvJVx+32uV++wzyTpnFYW+63337ltPw///M/X+uQ1DDpZJjhx9BoR9vdTgTDvl0Nn0PPMetz+PpUV+GSAM4AATR4mbhJYehwuOLHFh5Jwote9KJiWsDJLEre4XoBXloGTQMzETlf2t3CS8vvJn8DOJ0xEwLfloYToQGWbvHb9FvU1Sy+s4kfYTcYmhRt4xogEcAb3OAGZbVsa9JECV/xR7IXGHFSmLFVW4p/8id/Uq4JY+MPAaR3BCMmPhjlw5h8Z7E+VqpMdd9Un/rRAx7wgOYWt7hFaQ/mdBCiYYhavEOkqQ8H+XMym+Rvs802Kzc0IEiDJH+d6UkXeTK+DKsDGGWRFrwxDYSIkYTtvvvuzeMf//hiNNhpTQsJuol0SG3XyQvu6neXXpSLXzvva9HrAJJDFqRs7NGFrT329mx7s4XnEIRDMPBNZ81frRsXOIfhOr9RP0f5fvjDH5Z3JuV96lOfWhZcUf5R08zwg4lL1DuflNuJazefWNhadAT5z7ocXJdRR1GnSQBXkABGIxhMDe4GSgSM9MZpJ5MxRfxNN920/C5MuGjI8ON3pI0y+OGHH7LtEBUAACAASURBVF7sOZmEanMAneFN5CQBJif6FSaDu9/97s0zn/nM0rkMxOEibtv8eP+V8PvVdZSHWQSHN/bdd9+ybbvhhhs2ccerwxwbbbRRmZxd66Zd/bkGbM899ywYoctkoqZbQ6qEON7sZjcrcUy+J554YuMKOPh0KpCk0HaxCVr5uH7lbNOzaBNEh2SMJNBNCgibfsVOHNuJSHTtutVRPNcHo48aE7SN8QHxIW2sXbd06t/qsKNIACOetLwXHJiIlcM2NzMkJIkmZn/GEWZKYA9RNaZRSyCJ7qYPGenzSQwtgJmoYf/t7//+70ua97nPfRrkUp5+Mzb6M27Rw1MehPaAAw4o0jn27PwxiXLIIYdcR5pd18swn6OMdkgQXtu/FkkOSYUbJp0MMzxRqetKHSPxFqrq3kLoPe95z+Kiog6bn/vXceA1CeAMEEArY0Y+rWbvec97lm0jk3D82Y6j81Bv43UCXIP6TRhEgC0oVzs9+MEPLmlHg0e8+G4isooyQNsujDwN3iSQ9UQVcdvkRz2tpN+rvqNMCD9piEnYzR3RhvzYznVlmyvd/Dk0gESQDrr/VVubvB0YibgIpEHWhMsKP8nLVlttVcgMW2QmVERG2bheZWzj79EufGoctgiDBCJHCAqJe7++FWkgf//2b//WHHzwwUWKiKDbWmZ7rr5tYtg2iHT5COAwdgAjDuKG7FgU0Ds0vpAWuwqQxM8pTQsJ9wwzWAwnTqDHYgQZRMaQO2Y8auzIgySHdM2VaqQ7cRgJrmHwoIMOKrdsMH1iwUrCaLETmLXYMVbG9YTK5ZAG8o08WsjUblRsimvCtB2tv5EAvvvd7y62NiPdUdPM8P2JSl0/UccWEjBhK9g2cLg6bH7uX69RZ0kAZ4AA2qIgUTGwksqw9G7yNaAZ3EzMBlPbHOFqgMdvtnutzJ3eNDCLa+CjlxMu4sV3E4wBzeoZIYjB1P2SRxxxRN9JKtJarb46Uj8Iuu0lW6zL+SdfK95wnfUcv9uup6+HoGl75E47wo9JkMRk1113LWFI/5hRsF1nAGVWQRikMNr/ete7XnOTm9ykYJD05oEPfGBZbUs7TuHtv//+Zesrtl+UpbN8bf4ebaMObNHS00OmbQe7Ys+dqwg0fIWL+orvpPMMCx966KFlYahdpWFh1nkzS8Qd5Efa/GG3gIWNsjA7Y0eCvqAxhvQP8Tv11FOLmSEEzh8pmTFN2eHPwkT429zmNg1JNBMqnbqBSOGZZ55ZsBrkjyQxzKwwaq5P+CN9tvBx9y4Mx7glD+QAZvUHf4iaBbR7ZcMNqqfO5xEP6UY6vJNtaWXShp3h83t/AjJO/WgD8ZwGtpAyFulX0YfGSbOtcQLPSQBXkAAG+EgC6PcZ7BkWtd1mQrd6NbCZmK2AKVWHi7jx3URsUqD/FQRAXJM8pelwEY/P8Q1iVu1WzzGQIgRvetObum7X1Gmsxs9RV3x1Q3JAzwkhRtL58ed7/Vt87/wtwodfP/dbfLe6tX3vu3xtt4XrrOv4HcFA8m2HUEw3KQdu6KBJ7/zzzy9SJ6TDaTq6WyQpJDYmUfiKiZRkx3YlDJrAHTow8fsj+ZMeg7T03JIA9p7oon342sh2MIk8I9t0NEnfSOG6uVDNsD1vohNHWzLOq59HvXdiYtD3Oq9hCaC8qBkwPGzbzQIBvixSLQQsQOjddTrb4NRPENb6flkLDpJA41kscExEdi+kRyItfQvfnXbaqexgUJPpdOroE5/4RLPLLrssjl12Me5///uX8cw4esopp5RFsYMp/frSsPVmsYz4ISC2m5WbGxQ/n/fuJ8PWTdQzCbI2N7eRNMNY4CjCDJtmW8MV0P5Bor1+/frz161bt/nCwsLC2rVrNwwOUPlXeXZO9UPpoGvWrNnCA5ElEp0hG2F0sEeD8E0WJl2SAnVOkvPoRz+6DLQRLoAb3ynqW4WTHobkUFxbMH4PF/H44cRlRiKIo/gGUTpfbexYUS98W3UGG1ukiJWJ25+24atff/FbfOfXYeJ5/ZvP8RdpyMPkgoBRMEfcwtVtV7efz7bnHB5CIMXV9qS4JlAHQzqdyZM0g1K1iRjRo1clnm1G9246eMSsicUJP/7gU1yT8rhEpPNdVuv3ut6DRNk+DUlgHAyp+xmJBqJh25dKyK1udasixUKkkJioc2mPWm91eYYhgNKPa8hIjUmGYcS2KkkeKVw38hf5mBOY67CAor9obCGlg3e/wSyi6DCS22pI65A4YfQDiw3S916ORB6xjkUPlQfmcSxuYBTOHQgxxoWkSFrj1pvDVA6g6Fv0/6Q7Tnqj5p/h/zhf0XOn/wpP1CEQfVLhcFlXg/lH1JX+mQRwhaWA0Rjh20J585vfXAZ/q22DoRW01W4vZ2KwIqUULbxB2p9VOqX9cJ2dw+9+O/bYYxftxpmcSH+Qj/rUXmfc1fo96opPIrv99tuXSZiEzPZSKJ9Pwyf9kA/dJnqZttHC9arveG4lbGsxzHpIixJ8LymTeNoXobMAiEmU5Jkkhu6ZPDmkw+fwe5Ulf7/u4Bvto671U+TE4QbEziSGBCJ8nDDay2+ekfwhRXT+EPGl9scoC38YHUCkidSYZDkkxEgWSaAy1ROvNOv2j7ykYRFiTLEFbFyyq2GxapFhK9iWMWmnPhXPbXcbu7q9c6RtArNtTMdSuYx9dADVH6LQ6eryDfs50rBTQypPimu3hOQ8yO+waWW46/aPYesk2kF4KgQWunTdzZX1ImHY9NocLuoyCeAKk78ahNEoCODb3/72or8X0jxSA9t23ZxVqGcGQSt0kjw6OgZShMU9iuHq/HwOZxUV5iDo+NjuQQwiTGe8tnx3ypIk9LDDDitSWRIJUrZp/Unfny1gbYIwDKprbWiSPe+884pUhnRC25M6krLYqg0XacV3vnb2frAinkGVBLrzhGkdJz5Heun3n9iivvjUCugu6a/6qonM6WBb8/6QF21HyoZsGAtqE1DSGLe+63IggIPsAJKeUS2g8xaHxCwQnSLvpZNcly3yI6lDfJFaGPOHDFJBYBpHWWznxS4EguWQBwljuG7p+o0Eu94GNmbSdWXT1PPa1WkM+1l8EloqOhZGxklkGGGNrelh08pw/ftJv/qp29HBRX3EItdcBV/h+qWRz/6v/qOukgDOIAG05eJ0GUXmIHJE3bZy6+2faESSH7pZBlcn7SjrG6QNsnT5SPcAP1x0gvhuhU2kbvXtVKhtQ/a3YnATLuK00Vfn6oi/3H+D6jva0CKAridzGIEZOCCl6bU6Ftf7MC9EH41ECmYYLoYHOOzlBpUrn193oqvrErnWNiSBJK62Ld0rS7/MwS1SLCdrhakXYtJYSt3WZei3BRwnlBFP+sH09oK4kU5boAxzRWDkp/+YtL1vpMNn289YQ4/QAbgwQ8RnaqWXCkSkqy4QUdvRcXCEFNChDzYsTXDhxqm3iGuL2vhLGks30TYwKVRsKw9KO9JJv38N9KvHOqbdMGoErBog4rFQFqZfGvksCeDMAiQAbtVN6mSwRMgMlLZcbIfEgBNhkTSKzlbLJo5tt922nPIkxREPESRBoAsTTicIhwCYjJimQBZtGbOzVHcoYdvacaKeVtLvVfd1meg7IfoPe9jDFnVAbaExqeF0eLhIK77DBamTU+BxCIhECtY6MRNx078uuRu2TqLe9TvEjv4a9Q4kEAHn+6PzS0qob0o73LD59AoX6fB7EUBqB6GTSEfU9Vu2V4O40UvsHIt65VeX3UKVbmlIEqVnZ+N973tf2cGAwZBe28lwWr2XCkS8h/SpadCXjbjTIIDGZAefHDxANF/5ylcWqVO8X7/3jzBR5vR710C/eqxjWUwYp6gSwJSDIbFoEa5fOvnsj+NJSgBnUAJIr4RuDNtrYdeNNAcprKVyVtWUqOn+MdfB1Icj8raTHC4wwNpSod9lBRuuHpD8bjBHFqymSP9su9SkITvU+BP+NAebaE++Axq2pUmBTYD+tttuu0LukI1wUZ74Dk8kGQbRWGyY5OqtN2EjXvpLx0LUPR8psg0b2+/6LGkbiWy9dT+pNqjzRgDlHaofJMckZ0gX8m98sTgwDgX54zsgRmJXu364iHAIL5MucZBEWvBK5cEpXeNYSKHZDnTopFZ7qfOINPmwKmyYMYJ9EkHktRv263QGfY58jJMW2iS1dkrYdqzdoHQQSNvcTusbx+kSIpRt/4u6IOm1U4GQ9KrLur61eagTOCxkx6LWR+2VRv6eEsCeAFtpcATAkS8DosMHIZUxKZPw1EQO4NetW1dsXSGAdCFshzArEgTQqpgeGAlRp/O+9FoYoLatY8uZmYk67ErXyUrn31lnK/G9Vx1EWTy3jUuKG1t1JtCYBOtwkVb8Bk90REmbQ8pD7ywOJQgXcdJfOvlTh+FMdk6Zv/CFLyx6l0GywkyKwxdLJTCdbRZ583sdAqFLqmwkKgiLbc8oG5/UbhR8RJ5s9zFTFYdJpGXcQfwsQixe6XX5nR4f8zcm9jhoEenUvmdIBGIWZSShYzS6tjPYWQ/Dfo+8ggBaiNM7Uy51FK5XevEcmbdAU3faF4m0S9P2v6gL6g90ObvdEhN1G3XJd6jIFrA2J+SwiKA7Hy7ipN99zIp6guE8BTwjUsBoFAMvcwNOgcZq2WoHOav1sljlN6AifyznG7jp7NhWCgJIl4Y5CafsOh2iR8GbfqEToNJCCHUaLjvPHyfrzrpbzu+92iHKQC0A8bdlFlI8AysF+156WhEXnqgImGzjxDk1Agr04Xrln793H1x71UvUJ98WKwLmwIe6RyqQH/2WJN5v+u3FF1+8uB0b8XulP8zvkQa/lwQwTv8jVw4iUT8JcsVnXNk4EW5QvhHOBM2WJDWTSM92N71HEkXSPoveuJGGHqRbjZDNTtWXSNM7OKFcny6mn2dhHHEGla/f88inkwA60DKMikTEV19O5Mc2dbx/+v93IMgC1JxX7zx1tkvUJZ8EMKwWmCOpLfXSde5MJ7//cV5LAjgj5A8ow2kUAK/1WkwOjrvHaSeDj0GOKQXbt0gf8kcqSHeIfoTBhQTRNo8VaC1NsL1joLfyMiAbeOlR1FvM2VH+t9j5sr1qsjaIk7T587nzDyGP5/XnznC+e17/dYunzWwd9WqHwIsFA52YequOxJjduHrBUKcTcU3KTgCH+Q0EkrkOqgXh6nj5eTTSV9dX1Cfyd+GFF5aDW6QYFmn6MHJEtyyujUMG9d1eN4bUaQ/7OcrA76UDGAQQ9ujn2fKtiQqj4fAablDeES6wFhO3NBE3hz+8o37m7nJWCCI/es3w6bnyGBv9+WyR4rQ6nUThSQ0tlKUhrXCDytfveaSxVAKoP1HFoaNL6umwXv5ttFgX9D+pGwwrASQ5d0iK2oLT8ghgSgCHH5sC10kAZ4gAGog4PnE4UwZxmtfJTFu7QO45o7IkBFbnTsuRAFnxulaOfgoJgkHRatoWLwKjscPZjjFQ2va1rUGE7rdw/QbF1f4s6oDPiK2tKQMUu1/qklTCTQadf/HM8/pzZ7jO793CSkN7I4nhOus9fo/JyfZSTJwGR3qk9fZZxI94fIsGW3AhaTYh25KsTcBEvPSHH2A76yrq3ARHouXUPnJD580hEFJYN3zo1yT9tuFNbEigU7j6rzTDdaY/7PeIz+9HAI0VsENHrVMCSMLWD5edZYk8SWgQ3FoC6OCZfmVRJE/EmKkV453DInSgjVGk2U7hGuec7rX4JT31zKLF7TXItLhuFKnHus7yjPI9yh59LLaAR5UAsklIt1LbIrQIC/La9r+oC/qVSHtIbdV7t3aK9jA+6UPUCfQhi6ckgMOPT1GP+kluAc8QCYyGscJBOsK0gdWizmLblvTO5G4lbvJwZVvou/BZ1HdtVBBAUj7pReci5SNup/hvxWwLpjaZ0K3jtem3aAM+acjWW29dLrQnqTEpI+X8bn+exfP6c7ew9W8Rlj6LfAxqpLske+E62yB+j23/uMlDu7OL5nRknOYUNuJHPD6bdHAW9iZNvMwqSDNcxEt/+AE26irqkK//IV0mLlIrizMEhqmXmnA7gW/RgdAj5oiNg1211E16kccofl0epJKEMQyHxyEQqiTKapfBtmynDqAxh5Hw2vUrQ4SzwETkbHfHQsXhF2VgC5CzBWgsMtbJR7/QH0gNEU+HVGCblBSRZCgbiST9RqYsnLstevqVr9+zKPu4BDDSVpd2Z/Q3RF8bIzxt/4u6QN4sjuxSRZ1186M9tDED4BZKFq0WA0kAhx+foh6TAM4Q+QP4cHR/SIZCt4WysFVODBgGTYrPJEUGzHAGGat2W0pBAOkHWn3GqthEQh+FlJAdLqtpA1y4bh1vmN8ifu0PE29aYepyxOdh8oqwfNIaBIm0Bqk2Yccf3Ul/vtefB33vFTbSInEx6ZKMIO7hOssev2tPeIiJlS5fSPHqbf+IH/H4tplNqjEhyxshqW9RiHiT8uv84/Ok0l5KOlGW2l9KeuKGQwBgyeGEuN5NXTu4VetpCq/NQhJIN4ouHHIvLtJmyz/cqOWLeHxpOW3cjQAqL2dsqVUL4ES5jSfdsNWtPJEnPWSngGs9OKotdiJqHWXpIki2n6nBIHokgYiefqhv6Ismf6d/vQPpoDhLqZt+ZV8qAYw6SL9/DXRrg/q3iG2BYmykrwwX+kYSwCSAfVcPNZBm9XMA3BaLST3MQzDVYJVDWZoJgR122KFIppC9mrzZAg7dQETAaVBhP/7xjxdpEIPBjEwbQBEOWxL14LuUeomyh7+UtCYVN8oS/ijpiqM+kXGnzkhGTHzx57s/bVJ/9jy+jxJWHBJHfyQZtsUQ+nCdZY/fSfqY7yEpMUFrc1tMvfRpIp6J1iBaT/CkLCbTGlOd+S71e+Rf+0tNcxLx6/LE56WkG2kgUzBEikeaR6qH2DlJqu/Jo9OR8pMWUecggXYwRFwHtZCybpLdYcpa59NrCxhmI326a3RCbbHGIsGugZPjw2Ckzo/JG2NRSJulh8QZr2qpnTjehb6zE76Mm1vcIH4WwRYoLCIwfG7LGIE2rg1LSIeppwgT5U8CGDUxXT/qvZcfuScBHJ7sdavLqMeUAM6oBNCWCMJn69dAiQjS1aIrZMvWpGA7hY5a7QxUTDewAcesBzJgq9hvto8dLmEv0EqaFNCgbLIJ1w0sw/wGSAZs0ijExRaiiW+YuNMKo0wOQbAHpp76HajoVYaol5X0B5WNCQ0TaZhxcQIYuahdnUb8jiCK65qvmNwZFEc+Jy1JqfM3WZNk20YkgbTtVz9fqc/qw1aswwXwqw7GLUvUsTS8p75Miof8WXzRIUPwahd51b/Rm0N2nLxF8G3RM/eD+IREP+IN49dp9yKAFjTR/sYMpCsOCcGJ3Yi4fSHS65V3PEcoHTKrsYZUsnRgEVKPQRHHeGK8c3BC3RnvtI0yWRiFlDLCh9+rLOP8HmkulQCOk3fGuS7JifbQ9g6NkACnBPC69TQIO1GPSQBnlACaGA2ylMAZNiUBQNwcDDGIsvFGP8dkWjsr6bPOOqvo9zGMSkHarQLHHXdckVyZPOLaKQNyLynRIADF88hbvvTVSDnc6WnlvlIi+SiTCURdmMDYQiTZQALDxTv08yPsSvq9yhdlIgWOhYIJ2mSp/gc55Ji+aH3K0x2vpM/1hNwr/1F/Vx5xLBDorVqA8OUXhCPCjJr2uOGjjuRv0eUEvUMXJG8WDVEPo6QfaZqk4rSvU/l0Pum1IX90n6QZrjP9+J2PKJJ66fd04pBAZIhUMconXGca3b7X6SKAdhk6DUHXBND4Al8IaEgBlYHJIeH6vUP9jKTTVm9YJ4BTpFJd27rtdMYTi1bSP3qx4qm3kEx2hu/2vdv7j/pbpJsEcHSSMWpdDxM+2gPuqVSwXoEAmndWar4ZptyzFibqMQngjBJAEwTDofSFbJkYBBE3p9BM2HFqF7BqR5qC2NHromROKkRnh54MIkR52kRiUK+3XcYFaORNUkGfSXkdXEEkQrFbmHHTHzVelIePaBx44IHFrASpizpDrMMNm3aEXwm/XxmjPMh9HBayWCDdZb9tkEMs6knZIQCkrDYBI41+ZRjlmbRs0znxB4ek2iZ4W4C22sONkuZSw0aeJEq2FHfcccdCpukW+W6riRs2n0hPPPjT5/RbfVG/Za7JjRghveuXdqQlb+OB/qXvGgtsB5MqkuDXblA567DK100H0EIpCLlyIpp2H0LH1JjinUjnSONqF/nXv5msLQ4tYJFg5M/ilOqBW4jqto94CKPDMvQTYZpvQazuRnFRnnH9yCsJ4GwRQLhkGih1AMdrl8B1EsAZJYAGQAM+wsccgtU3m35sSFl928o1qHU6AzddMhJCEwU9QMZWpUOHxtYxaZj0a7fUAZK0jT4ho9QmdqZOxiFb45Yj4tXvRLJEUuIEoQMvzKrU0oaIM69+vOsxxxxTTkOaWE2Wtug6zVQI6z1JpfyZlOPwSOiZOmxg0u21NbnUelIGBDAkO8pJJ8x3E2y4peYzSvzIEwlxqtCEwrSErSXlGoUARlr6oMnJ4gNRIzGjb8suo63v2g0qa4QVDnZJKEnjtBVdPJIPkrxh7HdGWuHbTtU/tAPsIHZO2FIBqPXp1I07pZHjOMBhK9si0y5ENwIXeag/JJWSfph/kY+Fov7osEtNhiOexaNxjgqLsjnt61S0Q2/GL6ek4R6B/MQnPlEkrepWWeC7doPquN/zSCcJ4HhEo1/djvMs2oOqhsWV/pVmYEZvm6jHJIAzSgBJ1BzWoNuFxBkE+U6Y2p7yPJyOFM6Ayw7W3nvvXYifeP5IIGyjkBqY+OtBd5yOGHEiXxMQG10kSoceemiZTMM0jTARfjn8KBPphEmc4jybiSQb9Zb5cpRlmnnEe9IRC8lKtDXjug6TGCgpyZPq0UWzbaedkDyfnRA3qSOOto6RlFqqM8nyBw5M+raekQKTuLIF0Yowk8y3X1pRh0iDLV8SOieoES3fgwj1S8OzKLd+QKcN5txR6vQq4uI96z4b4QelG2lHOekm2t5HUKmFhE4g0ha6lL3S9i6Iv7qm+uHwkHEirmaz0xCST+oBwgmvDBaMcOaQUNxPbuFA0q+P2X6LhUXkoa/ZpmOehfRT+sYwkzbJY63HGO8XPtJIH5VUOsaw8KWBGHp/RJK5JHrRJPwOyOnnMCb/qL9h6rlbmChPEsDRSUa3+lzKb9EWfG3M2L1xy2LEoqDuX0vJpw1xoy6TAM4oATQJM4MQ5lwMfkzCGLBJFwyy4QA2nN9N9K5HCsmOuPQkbMHQiYvtHXGWCvbI1+RikDRRIB3InwlkqemPEz/KBNwmMpJIJIN0QDnHSXMW48R7fvCDHyxkIyZIPmKw2267lW0z0hKrZdu7pCqkPtQESE+2/IM1fRJm+mnIxah6ksPWTZSXHheJsW3NpR62GDbvfuGUy3OkCH4dGkKafe8XL57Fe8E7qTMpKukcib0FnBt89InaRdxh/TousmXbX9vFdjBpI0JV68hF2uLCPULk/YwPdhAs1ugHm0ADO9QHSBWROunpN0itcYWEjWTZmGRBKY4xhtQQwUVCSRVJ74xRTpMjenYFgsghxcYmuxQIazhlrZ1tZ+NVkM1YBEc5a5+eM4koPVjqLk7EU59BEvT/2kWdDOtH3CSAs0UAzz777EW9ZxhJAjha+wSukwDOKAG0mjGoGpBjsKP/Q3Ji8qxdPXj6bEvIVkmYBRHf1i/TDfVtH9IYdiDsFq4uQ6/P3eJN67deZej8fVr5L3e68V4mXtKSmCwDL7baTNBWyqRQpDeMf5MCIwDugaYaIDyyIg0Gwie5QFAnw7jlrrtJliveD/nSFog3qRryRy2CNKrOb9x3jXz4JLiklMzJIFWxuOt2qEt4BM4WMoLPvigJoivXYos1MENKZ6uWjiY1EteX1bq83sW4xH6oQxx0+WAHxhBBiwy3cTisZkGhHuDSNrj6QFSRv1r/uH4vhI3UUL7Gu8AvSwbytP2N5JEieibvKHv48qPyoSx0Dy38ov5HrfsoGwJowSRd+R5//PHxqPijppvhRyMs0X5R6cYvOxbwSgpsQTSthetqbKuoxySAM0wADTKIm+0927dW5oy31jouAc5oUL6tKxIfcQy8JvnQt6k7UsQd1wceZMFK3oDuj7QgJH/KMm7a48Qj5ZC3MiiLQduf8qmzcdKc5TjR5qRoYS/OYRAToImdT2psoKS/hfiRFpKukEg5WeqUuYmTnqitT8+88yTbTrsgR4ETbUIaFW0yybxGaS+kKMoVWIEbJMqzUcolrP6ALNnyRMiccEa6YDLcKOXrFrZOhwQVwUTo2H209dwtrygb1Q/bpCR49P6YCzK2UAHwZ8FovLBb4MAHgshws3TDKRO8MR+EzCGgwpLA0U825pB+kkDDlD/bv7aKYdTBE23f6WAEJh1Os51L1UX+FiwklXQNSfT4dkb85gQzaR8JozLUZBYxiNPSJJnjLmqinPDh8JKx1DsdeeSRi2alhOnWViv1W5S5lz9suXrFX6n3rctjBwPW6IYGRmEo3LDv2NZwUU9JAGeMAAYgDZL0YJxEtOI2cdu6MUFxEa7T98yK16BH4ieurRiksNvk0Bl/mO/yMEHaJqNnRipJBG9CQDQN1AbMcMOkuZQwkY/JnISCMj/piHtHkRrEWT2ql3BLyW/W4mpXk6f3NsHbdrPNxsSGrTC6WyR7Jl83fKgnEiSkIey7WUXbKq5PWS71PaOuEXJ4JH1CikzcyKhtxuXW24kymSzUha1Kkh2Ewta4eqMHOI4pHGnCvbikXMjfNCaleAd9UHupW21LbUR+3drN73YO6P3pr3Q9vactXTYj9Rd/CKXfHUDzO0x1HgqSv3EI2UUExdHHHPwi+WM42u05Tg6T5CFOymj3wYTT6fymruRHSm3RApcmdoQPto2HQda1m+1o9UziCkfGORI/0sEggiTgCCrpCw8brAAAIABJREFUULddk2711PlblNXiRVmUj9QRQXXSXpm4zngr9T3K288fpmz94q/U+9ZlcrEBKbDFigXXJMetYepn3sNEXSYBnFECCGC9XD/w9YoTv/eLO+wzaZHemHSs6t017EonUgADrq3FWvdm2HTHDRfvZpA20SAZymS17oSYlaJBYrnJxrjvM2q8eH+TPHMmJlN6jybcekswwkmfpC+uGnTK3BYbkhwLDGFHLUdn+MiPPqi7q5ECJ9FNoPS1kNOaXHTGn8b3KBPyRB8OeWBexGlkEizkw1YjCUNIAUepi0i/9qfxHtLs5gbl1S3OoN8ir0i7M7xJBMGyYCUtZKAXvtRvN/yJH2n6DHMkf3QabSmTSFNZQD7r3Y7OfOvvyiB/C1ASyNgOtp3tABhpae3iXQb5EUc5SFAtEkgbkUv9J6SZg9KZ5vMoY+0rr4WXbVFtY7Fu/PNdXfUqT50G/Hs/YznSbWypJanC9kpnGr/XZbOgZd0hpLGk0uGmkfdqSzPqKgngjBLAaKBu/iAwdosTvw2KO8xzaVn5kiqSLlrpMyZr8EYkTjvttOsoeA+T7rhhlEdckw0JICKD8JlQkFJSAdudy0lKx32XceJF24YvjVryFL+Hr+0cBkJ6bP1ZRZOUIvTihhunLBEn0uCbOBAqkknmUEzOJDwkkyapcBF3mn7kZXIjMXNiHjklPbIdbluU7hvJknKEG7ZMEb72h407arg6j/jcL40IM45fp9srvjpFPOCLVFqcbq7zd+SEVNiBFtiwLU36V5uR6pZO528wj3jSZbWoCZyRhDvMUrv6fYb97L3YrKTbaBFjqzoWTMOmMa1w3t3454CQcdlC2PWVxmKLdFJdu0ikpjUpr8tT148+K6xxguSe1Fg/Qe6RrZqY12lM83NdPhJAC3vzjgV/rds+zTKslrSjLpMAzigBDKBFQ/Hjt2H9pcQdlIfB3pYq0bstNHo+9DGcMjV5ej5OmQfl2++5SceKlVSJ8je9I0SDHiVJTwzWy12ufmWe5LO6vft9RoRtmZGQ0hNkJNs22TQIsnKQGpjkTZ504ywUkC3bh7WbZF0MSsuEaUL3zvBikrRQIDGyoKFrW7tB6XU+F7fzt1n4Xr/TsJ/7lXvcNCKetC086PqF1M5uAunwsOaIIi0+SRUyD9fSc0DmsMMOG9n+Yuc7Rx5sDlpYWjjts88+iwvdzvDL8T3KpH/ZjkfwqHU4hIOcPvWpTy2G1uHaYUISeMSp2zgYafFtuSN93s+C3uGdOEQmDX3FaW/9J9xyvq88kVtXBDqs1IaxfdL1G+2WBHDGCeCkG35S6QWApEevyKDILpfB14AeblL5DZuOfIW1HUQnyXYNiYCtqeUesIYt8yTDRb33800WpHFOaNpCcXWfNpuUjmj9PnU5SGe0iW15kkDShNrV8Zbjc503qTFC7OCASZQkuXbLUZ7VkEfU2aB3iXAWihaMdOuCAJLsIIC13l6/9CItvoUG4kIP0Datk8QO0yGGteuXXrdnEffzn/98IVIWCsY6aidctzjT/i3KhNDZElUe0kn155CP3Q8mcqJe3bpjYdwpAYx0EElSP2aLEHJ6wcaHuAKQKR4qEtoKCbRwWs6FfpSTb85xAMg7U3lR1+GmXe+rIf2oqySASQDHGrwCQHRKrDytEulkDHtJ/DQ6UZTJoGRrzwrY9iajyHSA2jBIqAPvqWPbpuncCiYhpVtlMlA3iLtt/CDHk26XaBPk0uTDVAhSboIx2YSbdL7DpBd5qyMSD9IikkmHEVarvugw9bIcYaLu4dSBGeZdgqjApYWCrcxOV5et85nvCBpj1gwESwcZZPh8qfiOvJCt6D/Srg8fCFOXb9qfo0xIqDq0cNl9992L1M5VfRZa6iHq1eEcC+POMUE6SGHcXuOAC+JsN+dJT3pS0e+u01GvDkvZZl7OreB4X0TV7oHyOfQWaiTTru/VlH7UZRLAJIBjDVoBIJISpI/JBgMHXbuVupQ7ymRApLuC5NDpsqU37HbSvHdygzv9HdI22yRsQtKPUScGTifJ6UQxDcN8htX+NBWoo00sFMKweRgDrhXzV6Leo2zqSz3QJyIFdCDBb+FWomyrPc+oW3iF1e23336RqJA4OSxE56w+uR9xuvkWGMgN81cO85B8IZUsIdTSv6XUa+RL4sTWI3M6VCmm2X+GKa93J/lEyOja0vuz7W08Dgkgn5WGemyO90EC7AqIY1ywM+CAC1t7DC4b36UVp6vpP3rOXuM0dg16vbPyeobs0hF14FC/XU4pZK+yzdvvdduvX7/+/HXr1m2+sLCwsHbt2g1jwVD5V3l2TvVD6axr1qzZwgORJQJI4eatQrK8oxnmjHY2eOuMts7iAEicjBNmOes1yuTUqYHfLQchlawnkuUs03LlFe+u7m2PMIFDGuBKMqSc1IL+ksMxtnDoBZkQ6PLUbtLljbRt5xmsbStZLDC7stJStiibCV19IaZIA+nCSmF40vU/q+lF3fNJ0RxCqg3Xk16RWLmDWPtoD2TD+3B88w3JFRwhBa4WtKihioJAOhzgIEnEiXjj1knJuGmKegC7mmxukkJZVIUbN+1JxIsy8I0BFsBB2tQJaVm9sInw6s8YQc/PQRzEyngRDjlkIsp4Sqfac6Z/nPIOaeIkyj8ojSiPdiWppwNonE8CONrcrZ7DpQQwJYBjkbQAkPtkt9tuuzIwuFfWwBMdUphBnXpSz6M8fAOaU28mAYdT2Dzrpvg8qbxnIZ14f5KAt7/97WVwZNTXrQUmReTcdo6tHdv1FMXpXoU+0LTeITBgkmeOwwRC/48NtZUm5VE2kgy6RHSndt5550Imol4izLTqp83pBmbZTrQFT6E/Dm/YcoQVJ9UtWhBBi032/2A87ABSK9DXkUXtB+8WOH5DXCa5RRnlteuhXAgr/WJbp+FWqj0j//DZYtXPGMRWl+oGaavts0ZY5JnpI9f7qT82HWsdWOO57Xi6lKSE9P+Q3th6lc5yvHeUl81ZW9zGMIe15L1cZViO91yOPKIukwAmARyr8wKQ1R/9MUSLXpd7ig26tRsGzHX4+DxMvDpMxOMjG4ceemghPlatBq7lHqzqsi3H53h/J/joAlFSryX2FLhJAayaSf4M+ssh5VIuEwh9PycTSXacyrZwsCUdbtg6ivC1P2zcznDSUDYkgiSHZFIZEcJJEofOfPP7/0ksog21ATMtFi7Im4VLYJcEy6ngxz3ucWWngR0+RsRJtungkcQ5xU6yzGeImqoBghjSqchnqfUe6VAnYeDawkp/eve7311UTOS31DyWGl8ZlYMaA1ub6tGWuu1qi644tBLvYhFGumf8FtYC0Wn9esEcaZLik8ZSKanHU8+XWu5B8eVBj9M4oq+SVlIRWI4xbFDZ5vF5tH8SwCSAI3feAI9BgsK8+zFtn5HwjGqPKdKKTuR7fB7Fj3T4tn1sKTEI67CBE56rfUKP92fWhFked72SUND9YZ6HXg8JiyusnPitB/BR6nnUsMqF6NEnImVwipD+VKcy+jDpxjsKO4nJVnoGQIeYHvvYxxYcI8ekHUhJuGHKlmFG34ZSZ+Fs7yKBFmsmeBIrp1htScb1dHe84x2LSocbIDzXv+mskXRRd3CrCWkcFZCa/E2qbaKs0iYhQ0ARJ+V16AyWuEnlN2o6UT6kiATUCV6kjskaJ2aZgInDMMIaE+0CkHr/2Z/9WdkudmDOu9T4j3Tj3eL7qOUbN3zkZ2FPdcQOhveh3xxu3LTbGi/qLQlgEsCRByzgMQiSNiF9VuhW3/RIKPvXrlcHq8MgI0wK6OAIjEFKPK5X/M7f6/SsEp0AJgUzoBnkYkLojLfavptI6ea4jcVtKAZK22MkoogwyUhMVFFn06qDSN9Cga4O3SFtwgQN7NRuUBkirPej1C8+zNjSMlmJzw1Kp34uvPRsjVEVINEh2aFCME56ddr5eXhCGG2rHUnXkDhSPFuRFgtO9ZLkM3Hi1DrdNqTFSWHbwwg8M08Wn9qzdpNuh0hbH4IVOsYOsJAir/QiU9mMc8bRQw45pOgoIoBO7e67777XIXaIMn067yCcvklPsFvfjPeu/UnXbbf0Ij/PbGuz7Ypwu16w3s7uFjd/690Ho16TACYBHGnS1Kk4Ay2dHNu+bE6RLtliQAANhLYagKtXJwwACo+gGYic4LN14XToqIQt0uM7DWfLiD6LGwZIm8L1Ks9q+T3eE4mhj2liYm/PpBBtF2Gm/c6RD8VzK3dbrKQ32hlJhSHSQYQ/SFyvMkkLnmDDhO9kovtqTQomsni3XvG7/S5NeceWOcmC20nqbbJu8fK33hPLUuom8MI3hpAIUlVwBy+p9oknnlja3ilXuDb+1LYC6/hLKUe/uJGHME7I0h1FriyuVkpvNMrE16eMf8hxHKpxut0hp9qsjvJfdtllZYFsm902sQWaOu48KNKvPqb9LN7NItJtJHYR9Nf6ZLcw0y7Haks/6jUJYBLAkTpPAMcAzb4WnRumVlia1zGRDVuMSFc//YzotE6hIgSUeq1U6fTYqhh1NR3lQiTol9FlMfBRWq5XtKutI3e+T9SD300GCA7f99p1xpvG98iPVFc70EmyFe02ASeSKXCblEhu+ukDRjoWC04nuk3EAQFSO5JNGNLu3LDvEWnSgaJPZrFAukT/adS0hs0zw/UnjtEm4VsEGgdgwy5B/CFacG3y6uamXc+RJwmU8Y5ahRPutiT74Xip5Yp8+/nqiykYElKHOkj2bJc7COfwTDj1J5zDYcLc5CY3Kf0Kqa3fIcIvtezjxpe/uMi+U952NOw01TqK46bd5njRrkkAkwAOPWlGhwEewDGBWwHT66JnxrSIyR0RtCI28YeLuOH73URrhU9/JxS/6RJa6Y26mo58DAwmcXar6AfZ3qulBJH/avejPjr95XzvyJtEwQRJ+kfSgJg7PUl9gGQHgevX3pEOe2sGf+oGJi32yGDn/PPPLyRXuGHeL9Lj2xIPKbZJk+3EcMOklWH6k7px6yfaYFh/3HzGjRflsig5+uijCzFhHNlWdLhx0+4WL9Ic5BuX9Slb5m5C0U9Ito2p9Xhsq11fovYgjANi9KaR2Nh96cyrW7mm9VudtzH9iCOOKLtMTI7RJ7ao5aaV/2pPN+o3CWASwJE7UXQ8RkVt+9LJoJ/j4IFTlHRjTKQGx3CdHcrvBhok0vYgUzKIpNN8Bqt6FdoZt9v3yMdWp+1kZJRNN+Yj+kkiu6WVv01mUo82IbmBBwa5tYmTk6R4pHckekhYP4lvpGPSIjl0EjQM1j796U8vKgQRf5i2i/RMIiQ4pAoOFDgAUp9iHyatDDMZrAyqx2gz/qCwy/E8ykOSZjsaDu06OBHst0mVM/LhGy+NZfoLPUk7Ha6AY/TeZ7rPTrCTtsMz8y9r1qwpOpPuy61VG+zS0MWlvoMAxhWITvmqv15uOeq2zt8cY1va3EJCzwTNShveXq46mGY+0b5JAJMAjjWgAhDw0MUw8JhInR6zpaeD2h7xvBeIA4CInlO7Bk62tZzaRQpihSdcrzT83ukMgO62dTLQKT3f6xVtv7Ty2XQmc/VvFe/kJAkJ3USYQdZtwZowhelX/9qZxFg6X/nKV4puJ/NDbjVB2mCNG5RGjRe6gxYwSKkFDFt0/RYt/dLOZ9PBzqzXKzwhZcYsuyFO3yJow45f/d4vsAr3+gmcI3vuSXawi56zPmCsY+bFb6R4yJLFNALoBLCDNHRlLcSMtw5POZRl0R16ggijnRv2/ejnCuM9qM/YOibFj3fqV+ZJPYt3R66Vk0TTNraypYrG0vta1G8SwCSAfSfNXh06ADTIHyY+HTDmZIj3Gfm0DSEe1yt+PO/M3wBpwGBrzvbvqGZp+uWXz8YbeDrbqNf3XvXbGR4+nBC1/Yu0mRwDD8OmIU0HSkx6MXmSqgxKp1f6+ft42Jj3egtsWvBSZ4FHW5S+hxvnHSOuCdphGNu6DB8jfXY3bN1ScyFNp39NDxvpY5aGz6wLAui7BbFFFwJJNccY6+QyPVqGokkA6cAyFO/0sJPATlc7OEJKj3ghYvXBi3HeaZQ48f7ypWfeeTp5lLQy7HX7ZtRvEsAkgH1J1qDOE0Dq5veLazUZq1qDJv0ZBl4pJte6Kv3SAF6rWj7nMyJpq8BdlaRN/XTL+qWdz647aCylTrrhI34blC7poHZ0spm+n8nApOYUMEmi+OG6peUZqQHpB2mjMNI0YdP/I3W2WJB+uG7p5G+TxcRqqc/ADDUEiwi4MraFG/U9Ix6sOvxA/42dSiQN0SOtJuljwJm6DILG7BVCh8zFHwLoyjRScuMqG4v0XEn72FcM8sdIPEmgbWD6tXQGkUsH8xy0YoZHXiSC4UZ9p1HDRz4kkEjgSt8bPmr5Zz181G8SwCSASyKAgF67fsCPcCZfBzPorVhpImtWmvS7/N5PxF+nQbqHEBh0DU5WuQY7V9IZGG0XRvn6lSufLc/EHm3HH6bOIzxiz2SFhYITu8xuIGxOmg/SFY00TMi2tz7/+c+XtKgdMPlie8xhFLqoscU1bPmGeYcMszzYWul6DpzZDqZaAEvjlCnSMTEz50LSzdC+U7oMYe+yyy5FD45qi21aeVG5YSrHuIfYBQFE7O53v/sVKTcdQNYWbBcjeoxsBwF0MMvp/NCbtoBm1otOI7KJNLqlZSWsKSDB6jTmhOybk+lPNc7Wr19//rp16zZfWFhYWLt27YaBn8q/yrNzqh8KyNasWbOFByJLJCQx2UiTaaRxBpBZjhO40KlNwK6Rs7J0ig6RI/lT/nDd3iWeIXcUoB06caKU/g2pEMXm44477lp3WUa+3dLL32YTq9HO2gcu6JjSE4UX+ktODtfjTbc2jjSEQxZJUijrO6lO4nzAAQeUSdEBlVpS3C2txMls4mSW2iXwFv6oZYt4xja7F8YyRppvcIMblMMaFj4WyQ5DdTq6q+xjktbd/OY3L/OzbWC2/Y455pgiSaSnqA+wjerKPfqB5nRkUDySdYssRrgZkrdAMpbaflaepUg1R62LCF+/Z/yW/tL7YtSrsTEJYEoBx1qtjtoRgY70j0SHSN8K10RuYBl2hRfAtfKN2yUMYE6FIoIGrPqUmPCjljPDL32AWWodRjvDCwJoq9d2GCkEiYD0w/XKK57H1hwdKttfG264YdnmIl2x8DDhhuuVVv6+8piYhzYYF0cRz+LYYTrkj0ksUjxbvxYsfu9cqEQ8Pik5KZ94iN2Nb3zjot5AOugEsDEW1qVjsWzcFI55JrqwdA31N+H0mfqPRNOz5W6D+v2WO+/VnF/UaxLAJH/L3qkNJiZxq1aDTKfr1/EibAyUFJXpv1jVOtHJjEG4funks/mZ0LU1rHQSP+08qB2FMXE5PcichInPYSMnKakMLFVZf1D++Xx+cLZSbRXjFZwav0i56d/ZorX16/YLh9v0g9pFeeM3ajBUalzphtjZDrZDQu1B2uGYgKF2I23hbP1aONcSvgjb6Uee6c83rqNdkwAmARw4iU66swf4an/YPOo4VrO29kKvq5bkCDdsmhlutgezus3j87BtFuEtOpizoAdIkuizwS/csOlluNnGyjy2T2AQAXPNHXNYpHfIGR0+BpvZw6td/Z7xOyk5HVknf8V1GphtS5LBIIBIpEMq7HCyESgcXT/G83Mx1B5sB2aSACYBXBGiFADk14PZsJ8jnu0KII4BLtIdNp0MNx+DXrRrtPs47QYj8OJP/HDjpJVx5gM3s95OgUE+dRhGzqkoIGYkgEwdsXvZC68R3xjoTvU999xzcWvX1jGdv5o82gr+6Ec/WoxDy8OfE8YO5NUSxlmvtyzf0vpfjZvUAUwSOBYJW+lOGCCu/ZUuU+a/tIFpWvVXY6T+PK38Mt3ZxMGstUtgEYFzqM2hDadyETMHQFyhSPWB61b2iI/YkR46zOGKxIjvMEdN7OjTOuRB6hcEkBkk28L1IrpbXvnb6sF04CYlgEn+ug4s2dlXT2fPtsy2TAzMJgZiIialQ/bck42Y3fCGNyzmVxiVDmLWrQ0jvps6nNpl5sUdwA6P0O1j/qV2dGFdlcm0TBBAN4hQiahdt7zyt9nE0DjtEm2dBDAJYBLAxEBiIDGQGFgBDJiITeBO5jqwEaZZbnGLWxTD+IMMIMdEzjQMYkdqyAD0jW50o2abbbYpW7sRhu+qTgb346AIosiEVur/rR5yNwwhDEwkAVyBTj9MA2WYdnXIbO9s78RA+zBgIibh+/CHP1xs87H5RzLnVg/2UfsRs5jE+UxfsYhwy1vessTnu0KNqa3aMXjuBPBf/dVflXAIp+vfmObiEoPtwGBgIglgEsDs9ImBxEBiIDGwAhgwETuUxMg5G5UkcgigzyeddNK1zGR1krOYxBFIhvVJ8hh/Fv9Od7pTc9BBBxWJX4TjuzXJjSF//ud/XiSFG220UZEcJgFsB/ELDAUmkgCuQKePRki/XZ0u2zvbOzGQGKgxYCI2Cb/+9a9v/uZv/qaQNyTwoQ99aHP66af3NVUUkzhbqkxhPe1pTyvxEcBNN920q/kYhs+33nrrQjSdMnbXLxuAcaViXbb8vHqxGthJApgEMFf+iYHEQGIgMbDMGIhJGPlyg0cYZnYK+HGPe1w5FWyCDtdJyOJ3p4SRRTp/yJ+/Bz/4wcXcSxC7COsqOYdDhIl8bD+HQf7OPPL76iSBgYckgMvc6bNDrc4Ole2a7ZoYSAyMgoGYhJlwcTDDtixixgj09ttv33zyk58cSgLoBLD7fh/wgAcsEkBSvk79P5P9KaecUq5+k4/8SA3PPffcxXxGKf+gsPF+nf6gePl8+v0o2iQJYBLAXPknBhIDiYHEwApgwETsft+DDz64nNwNYrbddtsNTQCZkHn1q1+9eLJXGjvvvPN19P9cp4go0g8UhsTR1Yhux+lnamZcQhYko9MfN72MNzliGG2SBHAFOn0CeXJAzrrMukwMJAbmFQMmYtuvCFxsATvIwSC0GzuCmAlXv2NM4HymXdjyu+lNb1qIHRMw++yzT/PNb36zDlbuw3YH9u1ud7sSzglgJ4eFkzZX57HUz4jt17/+9UJk3TTyne98p7zrUtPN+Evv7wGMJIBJACfa6bNzLr1zZh1mHSYG2oEBE7FJmA0/V7eRzPlzCtiNHUhULwcjcbPHZpttVuKxAciEjC3lTuPOrpR78YtfvHhVHFMwb3nLWxpbyOEmgbtIC+EjcSTN3GmnnZqTTz65Ya8w3CTyyjTG6yfRBkkAkwAmAUwMJAYSA4mBFcCAiZgZmBNOOKF54AMfuGjG5Ta3uc11DEHHpM1HfL71rW8173//+5sddthh0YC0k733ute9mje+8Y3XIlviuCt4t912W5QU/t3f/V25PYQOYrhJEKpIC+E84IADmg022KC54x3vWMzSMFcTbhJ5ZRpJAHPgWoGBKzveeB0v6y3rLTGQGAgMIEM+f/azny3buLEN7ITuVlttVaSApGbCRNirr766+cIXvtC87W1va3bfffdi8sW2L8lhEMC3vvWti8adg3DZUn7MYx5Trpljasa1caRytZQxyrUUP/JD9o488sjm0Y9+dHkXV91dddVV8Tjn7RWct6MRUgK4go2wlE6WcXMSSQwkBhID842BmIht15LaMcwc28Bu87B1euKJJzaXXHJJ841vfKO5+OKLy/f99tuvbK2S6O26666Len3ikri95CUvKcahGXgm4fvBD35QtnvD2DTCaGv2Yx/72KIJGGWZBJ7indxi4iTy8ccfXyScX/7yl0tZ4vkk8so0xsN/tEESwCSAE+n02RHH64hZb1lviYH2YiAmYgdBzj777GL+JczBIHP09EjQ9txzz3LTh8MeD3/4w5v73Oc+zZOe9KTmPe95T9Gzu/vd775IHEkPbScfeOCBRbeQFO7lL395kcLFQZFb3/rWJc3Pfe5zPQ+ajIPLeJ/wf/3rXzc//vGPi66iz+OkmXEm3z+ifZIAJgHMTpkYSAwkBhIDK4CBmIj5pICuhGMEGvFD5JBAp4JvfvObl5tC7nCHO5QtX/b7HBIh2SNZe/KTn1x0++IqubVr1zZ0/NgG3HLLLZtHPepRxUyMQyLSvPOd71xOAF922WV1EaaCgWtlMCEpY5LCpZHCaJMkgCvQ6RO8SwNv1l/WX2IgMbCaMGBCdhgECfzQhz7U7L333kVHz+EJZlsQP1I+5PDwww9vLrjgguanP/1pIWxO8brObccddyxGnsVB8EgJGYSW1ote9KJiWmbNmjWFALophPRwUqdylV97/PznP2++973vNVdccUXjEMiXvvSlYqZGGT2PcKup7ebxXUpD/OEE+vr1689ft27d5gsLCwtr167d0AKh4+8qz87p+LFZs2bNFh6ILBFsMtw8VkqWOSeVxEBiIDGQGFgJDMTcidgheHTnDjvssLJ9y1A0ky2nnXbatQ5SiIM4OhHskIcwr33ta5sjjjiieec739mceuqpZWvZKWO3i9zgBjcoN4CQGLpphI5guKW8c5Tj0ksvLcSSfcFnP/vZzV577VUIq0Mrv/nNb0pWS8kn406mb0abpwQwJYBTEftnR51MR816zHpMDLQHAzEx893xy5YeY8qMNSOGtWFoYWAjHD1CJ4S///3vF8lenO51CIRU0TawbWUSRYdESOiClEVa42JNfGkheoxaI5u3ve1tm1vc4hbNE5/4xMYdxJHXuHlkvMn1g8BMEsAkgEkAEwOJgcRAYmAGMBATc+0jfTXRi2dBiOJ7L5+xaCZYnAC+4Q1v2DAazUDzJLdl5Y1MIKxnnHFG87KXvaxcOedAy9Of/vTmoosuKpJK4aLc6U+O0I1al4GVJIAz0OlHbbwMv3IdJ+s+6z4xkBhYDgzEJN3pd+bd+bz+LiwTMs997nObW93qVuVwiWvimGeppYmdaY77nZSPrT+HWeggOsxy0EEHFd1GaXLjpp3xJtfvAiP7/vYNAAAgAElEQVRJAJMAZodMDCQGEgOJgRnEQEzUvYhT/bzbZ9u/p5xySjEBc7Ob3ax55CMfWb47rBFuUsQq0rMFfdRRRzX3vve9m7vc5S5FL/Gaa66Jx4mzGcBZNEYSwBlojEl1wExnciukrMusy8RAYmDWMWAiN4kzukxnsNMxHv2qV72q2WSTTZq73vWuxfTLlVdeuRhsUu+3mGDTlBPAhxxySDm17LaR9773vRM7bDKp8rY9nWivJIBJAHNFlhhIDCQGEgNziAEHPdavX9+sW7eu3BDivl+HRuj9McfiruBtttmmEMBnPvOZ5co5h0XCTYoIRXp8W87Petazit3BbbfdtugEMgIdblJ5ZjrjL9CiLZIAzmGnT+CPD/ysu6y7xEBiYN4xEBO408FHH310s8MOO5QbQtwNTOIXN4Q4gOHQx84771xOAk9rKzbKwz///PObxz72sc3tb3/7Bun0namacPNe96uh/NEWSQCTAObKPzGQGEgMJAbmCAMxgTO78pznPKfcEsLEC7MrbgC5//3vX24B2XzzzZunPvWpzQc/+MHmhz/8YUSbeFsvJtw0zZlnnlluK/nrv/7rchqYbUCkKdxqIFDz/g7RFkkA56jTzzvosvwpeUkMJAYSA0vHQEzgzKvsu+++5bRtfVED8yv0/mzFMgZd3/gh7qTbIMpjS/rYY48tJmDcXvKGN7yhGKmO59PIe9Lv0ob0oj2SACYBnPhg0IYOlO+49Eks6zDrMDEwHgZiAifVc8jClivDy/5cA+f+X+ZXzj333HJAJMJPi4BF+t/+9rfL7SV3utOdmvve976lbIxTh8v2Hq+9J11v0R5JAJMAJgFMDCQGEgOJgTnDgEmc3T0nfen8vfSlLy03fLzmNa8pW75u+vjVr34Vc33xJ00kIj2J+3zxxRcXieRGG21U7iE+66yzlq0MUZb0B5PMAEUSwDnr9AnuweDOOso6SgwkBlY7BupJ/Ac/+EHz1a9+taFvd8UVVyyL1K+u3yCAZ599drPTTjs1G2ywQZFKfvjDHy66h8zU+HMauI6Xn1emn9bYWb9+/fnr1q3bfGFhYWHt2rUb1qoEf/h8lWfndD5Ys2bNFh6ILBFsMlw27Mo0bNZ71ntiIDGQGGgHBur51vxLIljf8OH5cmAh8vn4xz9eTiTf+ta3LqePDz/88HIP8L/+678W8zC5HTwbuAzcpAQwJYDLMkAsxyCUeczG4JLtkO2QGFg+DMRk3ukvZxtE3g6l7L///uUAysYbb1zIoK1pV8OxUZgEcPlw0a/9o72SACYBTAKYGEgMJAYSA3OOgZjU+f0m/2k8i7x//OMfNx/5yEeaAw44oGwF77HHHs0rXvGKopN42WWXNU4Jh5tGOTLN4QhmtEESwDnv9An44QCf9ZT1lBhIDCQGposBBp/dQuIAim3fCy+8sNxU4n5g9xLbns42mG4bDFO/SQCT+GVHTAwkBhIDiYHEwMQwEMSinz8MQckw0yWJ0T4pAczOP7HOn512up026zfrNzGQGJh1DAS56ObPetnbUr5omySASQCTACYGEgOJgcRAYmBiGAiCwW8LqZqn94z2SQKYnT47aGIgMZAYSAwkBhIDLcFAEsCWNPQ8rUqyrLm9lRhIDCQGEgOJgeliIAlgEsBc7SUGEgOJgcRAYiAx0DIMJAFsWYPnimq6K6qs36zfxEBiIDGQGJgHDCQBTAKYq77EQGIgMZAYSAwkBlqGgSSALWvweViVZBlz9ZwYSAwkBhIDiYHpYiAJYBLAXPUlBhIDiYHEQGIgMdAyDCQBbFmD54pquiuqrN+s38RAYiAxkBiYBwwkAUwCmKu+xEBiIDGQGEgMJAZahoEkgC1r8HlYlWQZc/WcGEgMJAYSA4mB6WIgCWASwFz1JQYSA4mBxEBiIDHQMgwkAWxZg+eKarorqqzfrN/EQGIgMZAYmAcMJAFMApirvsRAYiAxkBhIDCQGWoaBJIAta/B5WJVkGXP1nBhIDCQGEgOJgeliIAlgEsBc9SUGEgOJgcRAYiAx0DIMJAFsWYPnimq6K6qs36zfxEBiIDGQGJgHDCQBTAKYq77EQGIgMZAYSAwkBlqGgSSALWvweViVZBlz9ZwYSAwkBhIDiYHpYiAJYBLAXPUlBhIDiYHEQGIgMdAyDCQBbFmD54pquiuqrN+s38RAYiAxkBiYBwwkAUwCmKu+xEBiIDGQGEgMJAZahoEkgC1r8HlYlWQZc/WcGEgMJAYSA4mB6WIgCWASwFz1JQYSA4mBxEBiIDHQMgwkAWxZg+eKarorqqzfrN/EQGIgMZAYmAcMJAFMApirvsRAYiAxkBhIDCQGWoaBJIAta/B5WJVkGXP1nBhIDCQGEgOJgeliIAlgEsBc9SUGEgOJgcRAYiAx0DIMJAFsWYPnimq6K6qs36zfxEBiIDGQGJgHDCQBTAKYq77EQGIgMZAYSAwkBlqGgSSALWvweViVZBlz9ZwYSAwkBhIDiYHpYiAJYBLAXPUlBhIDiYHEQGIgMdAyDCQBbFmD54pquiuqrN+s38RAYiAxkBiYBwwkAUwCmKu+xEBiIDGQGEgMJAZahoEkgC1r8HlYlWQZc/WcGEgMJAYSA4mB6WIgCWASwFz1JQYSA4mBxEBiIDHQMgwkAWxZg+eKarorqqzfrN/EQGIgMZAYmAcMJAFMApirvsRAYiAxkBhIDCQGWoaBJIAta/B5WJVkGXP1nBhIDCQGEgOJgeliIAlgEsBc9SUGEgOJgcRAYiAx0DIMJAFsWYPnimq6K6qs36zfxEBiIDGQGJgHDCQBTAKYq77EQGIgMZAYSAwkBlqGgSSALWvweViVZBlz9ZwYSAwkBhIDiYHpYiAJYBLAXPUlBhIDiYHEQGIgMdAyDCQBbFmD54pquiuqrN+s38RAYiAxkBiYBwwkAUwCmKu+xEBiIDGQGEgMJAZahoEkgC1r8HlYlWQZc/WcGEgMJAYSA4mB6WIgCWASwIGrvgBJ+Nkpp9spR63faBf+qHHnOXz93vF5nt8nyz5b/Wop7RF4rP2lpJdxVw82ZqktA5+//e1vm/Xr15+/bt26zRcWFhbWrl274cLCQtPxd5Vn53T82KxZs2YLD0SWiMTCzdLLZllG60TRht38rMvR6nIa9dWtXeK3aeQ3K2nGO/byZ6WcWY6V7yPL3Qa9MBm/j1OeiBv+qGlEvNofNY2lhq/zjs9LTTPjL71/RVskAUxJ4LWkRwGM3//+981//dd/NT/+8Y+bH/3oR83Pfvaz5je/+c21wmZHXHpHHKcOf/e73zW//vWvS5ton5/85CfNr371q0abjZPePMQJXHp3WPze977XfOtb32q+//3vNz//+c8bA9k8vEeWcWX6zDTrPbCp/8Hmd7/73eab3/zmTGBTmeJvmnUwKO2oo0Hh8vny9I9ojySASQAXJ84AhUn2P/7jP5pzzz23Ofroo5s3v/nNzUc+8pEysKWUd3k6aLeBUPv4/Ze//GVzxRVXNKeffnpzxBFHNMceeywxfiGF0Ybd4s/rb/FOJjKT68c+9rHm1a9+dbPvvvs2hx56aPOpT32qufrqqyNY8ef1XbPcK9e/xqn7AB1sWpQYJw855JBmn332Kdj89Kc/3VxzzTURbHGs7ZeXwMZZmLbA+c///M+R+rb40v/v//7v0l+MFRbxFo3h+uU/qWfy+p//+Z+yQP3hD39Y6sH3cJPKJ9MZvc9EGyQBbBkBjIYPv+48fjOQXXXVVYVcIH4m2R133LH5x3/8x+YLX/hCGVS6xa3Tyc+jd8hh6ky9C/fTn/60+dznPtccdNBBzUMe8pBml112aT7xiU80v/jFL6JphppohslzFsJ4KQPV5Zdf3nzoQx9qXv/61zd77713s8MOOzS77rprWaR85zvfWXz3qKdZKHuWYTp9YVbqNbD2jW98o3n/+9/fvPa1ry3k7/GPf3zpl//8z//c/OAHP1jE5jDlFphU/+STTy7pnXjiiUWiGIkMSiPKZBx/29ve1rzsZS9rTj311EImh01jUB7DPJcXQUL0WWWwgAs3TBoZZjr9J9ogCWCLCKBG16FiS4AfHSye2VI87bTTCuEz0b71rW8tJPBVr3pV89nPfnZVkox497ouooPEb938fmF6Pev8Pb7zO/PofBZhbDNddNFFRdJwz3ves9lqq61Km/m9dp3pdfs+bPjIO9KIePF9XD/SCb8znfidNOR973tfs99++zVvetObmlNOOaU5/vjjCz4//OEPX2tyE6cznV7fI/3we4Wrf4+w4dfPOj9HmPB7Pe/83fdwvZ7Vv3cL2/lbfOfXceNz/bxXGGE7n9XxIq1efh22M53OOHXYzmf19zpcfK6fL+VzpBd+nVb8pt994AMfaJ71rGc1hx9+eJECksrDKSk96Vu4On63zxGONNGie4sttmj233//5uKLL45HXdsu0loM1DTNJZdc0jztaU9r7n//+zeHHXZY8+///u/142ulc60HPfAReQzy67SuvPLK5sADD2we85jHlPe59NJLFx8PSiefT4f8qddwSQBbQgCjwa0sSUtMqLU43nN6ZJ///Oebf/qnf2oOOOCAsnL7yle+0vzLv/xLc9555xXJoDDcauicUSeD/M537RY+woz6rDN8v3QiLF1MRJ3E4eEPf3gZXJEgunCdLtLr5neGje912Pitn1+HH+VzrzQjjXhukPra177WvPzlL2923nnnhkTE1hjJCskLfSvb4hFvWD/S7/T7xe8MG9+7xYlnnX6E7fW7552uV5zOcL53i98r3KB04/mwaUb+dbz43K0M3cL3CrfUsFGOYf1e5Yj4nsPmV7/61eYVr3hFs+222zbHHXdckd7B5mWXXVb0VG3FRpxBfuRpnEYqSfmPOeaY5utf/3o86pvWYqCmaZCvN7zhDWXRdNJJJ11L+laH6/V5UFn7PY80bf0iw0iguiGVDNcvfj6bHvlTt+GSALaAAEZj0wH55Cc/WSQpJtQaCMIghTrr85///DJwGNjCiYsw0g/kJtlBI49x/XHLMkp+dR7d4sXzbs+m8Zv8zjnnnGa77bZrnvCEJxRJQ61r1Jlnr/KRAmtTz8d1kfawfp2POPIPXNXP4jNyRx/1mc98ZlFH+OhHPxqPruWPm79BsFv+dXrXyqhpSnjxhKldt++90q/j+Rz5df4+re+dZYUFZeVPwnV7H791q4/Ossi/Fza7hdV+nWWP/Ef1O9+9W3kjjAXxxz/+8YJNfdHuSacbJf+I690t8hA/pGlY9Y6Iz0c8kUCLeFuvsXivwwz6PErZI2ydpjnDYS1l8B4OFoaL8OlPl+x1q99oA9hOMzCrmARqaADQER0UsJ1AbwoRNCAYJIDAH8JHX8Tzd73rXUW6Im7tuoFpUr/V+Qz7edy8TRgGVdszoWhtKwcJNmCFZMl3dRNOPIMY3ZZvf/vbRQolHQO2P2QlntnG8UwcUju6e1bE/qRrlU9SQEm7VtQWFpkjqTUBkHAJ6/dw0jz77LOL1OGxj31skQba4lEmaYkjj1rKW7eltvfuwsUko9zw4D2E9d6kisIpp/R8NzGJZ1LxXVm4Ydoiyu9dIv94f/VVpxdh5UcfygRru/uEE04oZdEOdduMmr/2UF/aWhnUt9/qeo40lUW9RLsIH21DSV99ChtOGtos2kMe0hffM+0iL3Xod2n4TRreKZ7BYjxTzzVm1Yvv2kW4SF8bykebwbbP6spnhMDvwoSzuJOHNqVn6d2EESfeSd6wrc20E18ZxYs65HvneI9In++dhVfGaG+fO3EtrLLBorJGHcuvk8AomzIpK3Kh7OrZe9ZlF27YvyhzXd5++FB+kq1tttmm2XLLLcviWvm1oTSi/obJH77UXfQx76FtI51h0oj8pKNs6hjGjG3SUYfaTNrqGDYinLrWNsanuq6HzbcOJ//AKlxoI20VY0sdNj8Pj89J1VXgHE6TAI4wQEyqAZYjnWhkAzyJH32+zTbbrLnXve5VJHx0+r74xS8uTlLvfe97izTpEY94REPnz4k2OhsmmlEn2lHeT9oGTYOUSWKYP4OW8AaaGFS876B8I4xBlh6ddz7yyCObd7/73c2ZZ55ZdMvoPiLCti1ss5pcwxnErGZtQ9L3oeStjtSxd0CyxbGNftRRRxXdnZh8zzrrrObtb397OVUtjG1bEtdXvvKVJT8nrs8///zSJuo+FLgPPvjgxhaOATrIljpDAJEiB0FsQSmL9J2QlaZ3Q+rrwdx7qDsHerzDO9/5zqKrRF/pPe95T3PhhReWgdtkYdJVHltQ3kV5nWoUztYUPNFN8t7h+tV/hFEedUinT77S9icfbWASivfUtt7hNa95TdFlgt2XvvSlpSzKpm3UvXy5XvlH3nz5aydK6d7fe6g3n9etW1faUzvXTnlMZNrlHe94RymvQ1L+bNV96UtfWqxn6SuztLSpdIWTh/dDVJSbasVb3vKWcpLb7yZk+Zigta1ywRg9MhM2zGof7Qob8tUeyLHT0HDrRLS65ctX/k5Ny0v+2o3upDqOulB2ivrCaw9l1RbUPvRFDlHQ1uLaVvRc/dHFVE79xelXZUHc6vECPr785S+XsDCq/sTx7iRm6jXaT5+GTf0DJqI8SJZ3r7GsbA5DKVNYK9CXLV6Na1GGXpiofy8v+Yd/ne2nrgMf+kD0Kdg0rup79773vcsfbJIIegektC5vnV/9OfKGY3Wh3vUxdUTKb4wLV8fr/CyM37y3dBwM06YWTOofrmBPu0W/81kbeD86h8rvfYX3fuE68+r2PcJ6D8TT/KId5XXGGWcUMhtlDL9bOvnb9AlhtBWsJAFc5QQQATEYUFLecMMNy0Qag7XtNATGoEPH6n73u19z3/vet2wDGxR0XMRj2El+nM5rIKewbKIywMagZGDy5zd/9XcTjUnOQAfE8h1mUIkwBkOT+fOe97zmwQ9+cCG+6sQE8sIXvrAQK3Xx5Cc/uUzAQQisahEPpOyRj3xkOeln8va7ejYhvfjFLy7K20984hPLxIpwka6YoB/3uMcVvb0999yzkESnBilqK8PWW29d4sbk+JKXvKScdEXwdtppp0ICTZDxDiYHJ2EpeTutLX3pPfe5zy0SiSc96UnNG9/4xjKYI3QcMo9cCGvAR1SZknnRi17U7LHHHuWziT4kSCYPencWBfCDiAn7D//wD6WetIF3D9ev/YVBYtSRelZO74hQ+KN3+oIXvKCQcROVMiNE9FLV6d3udrfmLne5SymHSQrBQuRgc1D7R/lMyPAuvjqT/+te97ry3iY/vymLOog6Uwb6XMiLMOpNGBO/utEGJjlYNPmJq369DzKOUPnsNP0znvGMQlguuOCC0p5OcD/sYQ8rhJ2kCZaRPXlJ2yEApA2p0/aw9uxnP7tgDyYs1GBROs95znMKOQyyp1yPetSjFrEB6zBhcaC/aTekSj+XBuwELmy3++0zn/lMyZckyhiy1157FaxKW7nUg3GD/ttDH/rQ5ulPf3ohevoXp094VziM+ojPJNe777576V/GAHnAdNQtbMKJtt9tt90KVrUDYgJHxix4lC4MK7v2s4OBoMaY1Q+T8Szwof2QH20mLcRWutKHFeoxiKsw3g3Rg1m4hE99SN5IuzaLcUP6kVenH3krL3KJwD7lKU8p44Q60BfDdcatv0cY7yBv5XQaGU6Ml8YgfQkmSdIf/ehHl7rTHha76u2BD3xg+R1xtAAMEljn0+tz5O89EGMLFH38QQ96UMmnXkgL2yud/D0JYIJjAqQ0OqRJz5avycdKFakhRTAwmwis2A2mBrvNN9+8TPYGiQ9+8INFcmDgiMF0Uh03ysY3cRqgTKgGUwOv0562q/kImT+f/QljInKyzQQ27ArZwBLOZIrImVzufve7l/eWHsJrkjV4mqDUhwnTxCM+UoB0mDQRM4OospuQPDPwqTsTN7JHOuGZQVwcg+Emm2xSdIa0gXonBTTgb7rpposTPsKrLMjg9ttvX6S2iIe6Ckf6QwJo4kViTPykOYi0ySrKQJJiC0Y9BdFHIkxyJgQEn4QRPpAU5MgKXnjSDGTvDne4Q8nHREHa4l1C8jUIG1Fe9WPilIYtM2SKVFTd+jNxqgcTEYmsMiBf4pjoSa+RXe0Bz9re9pZyRtv2mjyiDLCu7PoAskJCYdJFCuEdyVUH2h/uTYDIjAlRO6g3CwflVQb23iyY+CTKfkcW6GXCqvr2GyItT2QPzvU95MpC4B73uEcJawvf+8KmRZD2sDCAfe2KHIoD+xtvvHHBBEKCMChf4Mm7IJAm+Q022KAcEkJi/CYc4qzN9X2kT3qIFj1L9QM/zOwgdSSQ6kfbKYOwG220USGg4mo/iwDpW/A4lIQQ6iMcIqLtkBB9Tdr6COlvLIaQZ795N3HlDWPqSHlIGRFXWFeP+hLpmnpWp+KQNvmNVBsJkyaCxvXCRP17Cdg0ZQtZv/j/7N1nsG1ZVTbg+4Mq/WG1llgqtEIjDd000KQmdJNjk3MOTc4555xzkBwkKwg0eBGUIBma3CBZkAYVBQQtqyir/LW+eqb99jdZ7rD2PuGec/aYVfuuvdeacYx3jvHOMec6F+bJX336BoPw7p6+iGLqm/vwCAOnnHJK+07nZ5555jlzaEof5CFjmDMPEDe4sChlP6bWIZ/5QBbsioUb+0D35hN9IHxsl/phi60RCGCrTjvttHYfzpHbKRHMsRy1ry26ZstPOOGEhnM2KKkvU993nvCNZRw9VARwG4jWWLh75XeUzKkgByIEjK6oAeNv1c2YMjAMGYOaVTnyISKRc16Jsm3X2PQtdVlpMv6MO8fPADJYDJirez6+5zcnjnhxZKv2TduMrW0wBAvJEynJm3IidiJQCAqjzqFwjukvmTFuZMnAKsdpe06m+o1EcKC2chhERILjRRhFFkVXOFRRGP1AOEQUGWbOmOwRDwYbMffnXugPmdCOxPFqw59Y4Kic3ZHUyQkhFyGbolK2GJHBU089tTkyOiZ7CZniDJBQEck4cFekCOHglGzFISocFSM/5YxSa+Ds6CPChQSRue/klQSDyBEZiPgYAz05c8Y5wSZSo5yxKIt8wnd0M++aNkSx6Aax4rj7P40hQmERQA+cPKJnbpCN/th+VibRLVfkBNmGT/qEBdExuEASQkLgFK6ReP03Jg7ReE888cTmKBEN/Ydn5Ife6QrJU7fEsSPQypBTyBN9WByI8JKLRQxCJuKPUIv6Iizy0Jv29RWpNVbkxn0JHhEP2DcWiwAJ7rUNU+4jzDBHRiGTdItEmM9wiFzAjei2uRuMkjsiQp4i+2RsTptT8AbbkXOI50knndRkYQ6QlehS7pGvRKaib+ydSJg0DxP9/ZZxGBqhNacs1Czk2IHUQfZsJ92SKRsAM/RqXus73ZoT7MFUbKYfbAS8sGt0h7iRUaKIybfoqq/mA53QOdnToz7CBvnb7rcAY4fYfLjQZ7Kz+BMFRLYtQowjaVG7/TPj0GcLIuQ8OtKG1Oet77tP/sg8qQjgBhBAShatYFg5MoY/kzFAYECtfK3Ube3EoOb5Tk1UxoKhRrpsfSGcUz4cGYPF0Khjlf5lTGSAdDLeVvyclrokfWIMPbNNxQlm4sgjcsZIIwshgMoxvogeB8FJIoCpU8SOwxWZQ8SiA0YfGeM4RY44kUTV5EEOOQOREdEdbUjIjPyMPKfXG2vftYE4MvZW+AgWUiHiqS0O3Jg5b4QB4UXMbCeGANKJiKvIGyLCqCeRh7H5LJJ/8nPaCI/29ZnT7xPCQHY9QaRfzsz4yJtjGr8FvKjt6Ew75oEIGPKEWHGE2kzyXDt0RG6iqnAmHxzoF6KUhJwiogiJK7JgfBwo+Vo0JBkHXCM+cCtZGGgD6bY9S+bpr3zIKN2RfwggcmdbEB5ESxGlWSlvTScqFazJS1/IjLZFVWHIokUZWIBTbRszPSHCSdqGBbYEdpKQNfMACbJ1jXwgpQiqNswHW//GLJEH4qEfSIn5ZCtXXjYK+ZBfJE2U0TNzzWIMBpFVfTQ+5JJeLZYQW31Rf2S5Cj6QUAQXPvQB9pLgAz4RRDsp7KW+WwSQk4VFL6tl7Y6fawem4I28fMh0HSKrLro0ly12LFAQeHKBmRwvYGtSvzLsAB3CBNvILieN+zvvd/LDLF8CR4hz7NO8cnV/98hgdATTdQbwgJLAKBnBYEg4UFEkkZU+tC+fyWo1zjDYzuHQ+rQTk1P96tUXThHpRBI4Qtd8/LYN5ZrviJAoGaMWgpX6lvU142LcOHTGnmw4nCQkSwRHxMlW4ZgA2h4JAUSkYtz0hePgnMcEUFTCPdFG5CzRL+NH5mwvIR+ieTHKHBDnJupgW4ZDNGmlRAAZawSyd1b6rx4OEomgf04ZiRQVEk0T4eDEOD3nrkSnbPHZ9ks0iF5EBpEaBJEexmmRvJOXXDh5URtbT2TaR9/kkwcJ4ehtGyHgdAS/HGsIIELQp0Xte5aEBBnz8ccf3/SA6ISQJA9SQ3fHHHNM25ZFKmxH2tqkm0TDkt81+INJW8FItO3fkDZ59EM+ekmf6BgJQyaQa9jOM2TSFiti0RNAeKcfMnJOz9bnrGSOI2mcP9LG8fdJX+kTGUYm6R5Zg0tXtgAp5cC9UJEU0ii63M8X/YJ7WERcYA0BUS95wB1ZRlbqy3f4l9949AcBsW0sOg8DwSYc6hvZkJ35pF6k0fzwXaSYHHv7RqaLPhkbfHiZRrQbmRu/gCEffCJVjkSIbiGciXKa26suTtKv9AHe6UD7xpsouOfJu+iaelzhjy5CANkocoF799k2diH2RBn4hjkkl/3YCgE844wz2jywaKPLLLYW9b+eLcbqdsknOCkCuMQ4bJfAj0Q9UbLQPzKD6HAmIkFWmn1yHo5zth3E4fURg53qe9q3Dcmw2l5k8BkLpCQfvxEV13y3deEckehLP5YpfU27IgV9BJAMEl3jYPSFzDgmEVR1SyYN5xT4z/wAACAASURBVCdqKJqXM4B5JiLAwI4JYB8BVDe9SAgOw4sAMpbGFYfNAJMDB4e828qNweY0GWoG2zYaJ5wkD+MuaoW4ILpIFIIXAubMWF6sOXz4cHNexslxpH1EEGZsiYkecuJJq8haXmQFibUlxFlney31uZIrgnzcccc1Z09HiC2CyykiGKIU0YUyy/qR+i1qbG0ilyLdMBeinTyclgjU0Ucf3cgcwk3+5IiAkk9S3wf35BWhQni8KGOeLUr0jpwhgGRswZM64XpWBBAeEEMEcByFS1ltIkdwa5tYG3G+niFeomiias6uwak5j8gED4iMsSJ/walyiQAigH0EkL0QuaIf0U/YVNb2OHkgkxYPmV+9XJASpN7RA9uS5oF5Sefpk+fGhLgG53RnTjlbiDRa7JgPSNwqbwGnL/DhaIYFgoWw8Y0XCPBpfPDhjLIIsaigOWiewWbSMlz2z5XxW0RUFBk5o3+LpBDlPv+872nbFR4XRQBF5si5nwP0bsHIDrEfWaSmf/Pa7e/Lq8+2yNkbC6p+V6PPW993h/CN5RycFAE84ASQ4hkp58qQFU6ckRknBIRhY/gYhT6aFPAok+9bvfbtW0UjIEidiIOoASOYj3tW2675znmJBjByvZGe0q+0zWlZ5SYCyODHQSGVHD9DzNH2W20mDTKDkHDEHB9nLjF8iQB6LiKhT1Le2kVwEPKQbGQrBJAT6Y0lh48sakd0CTlLH0MAZ0UAbSHbfrb6R3YY9pB8W3iIkC04Y1GfaxxN6+zZ/yCAIhHqcf6rjwCuImvVIa/qsr0KawhPn/SDQ0d2bRMjJaIWyAsygHBz8P02m/LL+pE21ANjtvjIjIPqnZ982vdiwQUveME2V/TR9qjxiwIi9/MS0ubQO0Ln2EAfIZtVht5FuhByEcA+Iooce4ZYkFnIZLaAzWVks48ABmfaQm49R1xF7YJPz+hZlMxcQprgSv3mER34yNPXp5z7oo/ww7H3bcMp2dAPhw/r2hBJtMVtQSRqDmfjpF1yR1jJ2Xahowfpyxib+uUejJMHuSFhZI/wqoNtCFHU3iKMpD/wYXze6DUPza/etsjHDlgIiKKbQ/qpbXgy3/sI4KI2+2dp35gQXAtx810k0AIoqS8z73vyuiYCSCbOX5pLZGZc7HwIYD9GRDtk1s7GVBmmP2lfO8pbTFnskUvmWvLW9ciQP3JPgrnaAj6gJJCSGXKOiVFFZmyB5QxSQOBq5S8SYGvOZE0EyLMeMPk9nrypa3x/2W/lGCbOAkFhnGZ9GN7c9x1h4mAZYCBe1k7/PH3ltLIFjFz0EUDOJ1FTjqkngJ5pm5OwfYZEJsJC3gggh8chiLIljbeAewKIjJC9OtUXY8nBIaIcAsfAQWhDEqHheHxEHnonTy628hl/BhhRtmVu2w/h4Cx7Mpc+jq/IOQIiAiias2oEkNyTvFwgeuXPZSDd4zOAnI2xIy0hW5wT2Rofx4tg9E5W3b1u532Xj95EmUWZkEyR1l5mZA4PHKAtb/onR4sT+UWGHMrvHWbG5iqv8YmqyS+CEl31+fKdk0TyEFI66gnxmADSu0RG87aAe1nbOkQA4VP+8XwOPvRVlAg5W5aMBZlEANXdRwDhFO5FjmBf+87HWbzAG/wiiD2hSHv0Ap9whjy7jv9kSPLmCsvmZEgzG8I+ILMWGCKOFr59moeNyE0/nJXzsg/9wUIvN5FKizPRRvPKwkB01LjMQXO3x+ai9vpn6aP62RWLBwQfPt1L6svM+568rkg9Mp6+mkfqQ7ZDAM23fgfFURT4TwSw19e8Nvv7aR8evJ1uMSXo4PhH2unz1/cjQwKjpyKAB5T8mVgSo+Ysjm0Sq/0c5LftanLHmTEEIlO2GU3W3A9Q1McB+IwnbZ9n/GzZb2XVyThwwD7azvdc+3v57mp8y9oYP49cOBmrbA6NwUWCQ+TiaG1fIca2eeMM1CeaZbtcpIqBEw0RLeOQnFmyulYnByiaaqIhEu5zurZ34uQ4Ec6G0VXGmT/kVBl1yqtMHKs+khlj7Q1gzgqxQbDUxTmK4iIVIm1W/+4rx8Fpg66RD1ueSJ7tL+U4dWQghh8pQYCNM9t+dDILB2M553fwoU4O0jgRLLJHdDgLz0SNOH/k0PYaUiAhK6KZ+owYcsLGQvdS2ll0bRmHoY0XxslMG7AuykI+2bLUPgJBNnSOKPuNuFooIHaiKwiGaDoZudKV8XG6SI+tTJFL5eUVcZXXyxHqJUeRKlvSXmQwLvhRj0gM/Zmz5A9f5oh6RMMRJYRD/Zw6ffhIfruPMDtTh/TTMXklD/IJ7+pIdBcx0Dbipo8Iuna9vCLBsei8CJnFDVJuDOQujzdNEU5jUbcFDozqh/4ijeYRnRsHvPlOdr4jDOaHj8WLN6EtVn1gW3/yNjus2GaHbXPFmBEeC1wY8cyY+zQFHxaB5G0Rog5zwTjgw3c7D/pnyx5etGG+GjeSS4f6sqit8bP0EaYtbMmW3i1A6MIiZaqdU5f69YGMkFWEmDzp1jwXsXQGmN2zuCQ/ZeBL1M7YfcxPZTxLveO+j38nnzlr4WHB5krPwd64TP3efRLYFHr2caaKAB5QEkjJDIeoDaeBRHC+DDXjwBlxvIgGI8YpM3pexohzVYeJKx/jwQnEGGWycwKMpM+6q7wAcp3rKgYk9TO2DLhtHM5JhIvB5cjIgyNG7ESLRE4ROY5KW5LvnIHtLQ7PVhfnhkgjFhyClbfzSKKbZCdigHgwyOTMoTHUjKP6ORZlcvZHVAMJUp+ohCiD+hFH5FdEkXPVlggvpysqKOqI6CNsdM250qG+q09eJEe/bbMjnwiD7Wq/9QUBoGc4ESFCflyNkdPT79Q5Rf5kJh9nbmsXmdU/uON0EU/RM2RbFEdEFOb0QZ89oyMYdZyBzJCYpGV9SD7OzhaytsmOYxRJIjfnS5E3ERjb+tpXr3bIx30LAnOIvslZlAYJQYbMG/ghR44XdtQnaiaf/D6IlgWYuaIdeodBhJHTFUlDDEVpzFlX98gOYaVbGIJLskSm9JE+yEsf9MlZLnpz7hKZRbTNVcm44IKuRXyQF3jWT23BmX77mCfqJXORYwQQdiw69EmdCDGsIxXwqF449dEXbeQNX2+1I0rKI/Yid4iGhao6EH31m5vwpj9kSldIovlEZ4iaqDR5ImdwbKHryIb8/YJtKj4QPecO1S16JeKrfvhwDtkcEKmXx8IB6YQFuDBu+TM/I+epbYcAOrJBVsi2uQFXfaR6Xn3BOF2RJ6zRaxYBMGAuZUfBWVzz3Q4RHRq7ZxYE2id/Z0WDmWXj6duHLf2nd3M8f25qWR3zxlb3t5ckRld8XRHAA0wATRyrMQaX4eJMHHQWIWJwOUTEzeFu5IPB5yiUS2IAGA5GkDFCPpIAiBNw5ogTR1qSVpm0KbPOddV2OErGjhNhvBlckTJOlzFkiDkURAxR4fgZf9EHxEcyToSLQxQJJFsRNRE2Dg5p44jIlQNB9jxzT37tIld0Q7Ycpjp86CDRD3JlSDkeERSEznagPnI+iJH7CD5ipG0RSN+t5kWdOIQk5dTtub4o641VjsB4OVlkhk6RVs5XVE6fjRWJ5exhhByTpuhAXvn0ibN2Bk27+ky+viOnCBpMSkgYOZEtXdCTiAJntg7W1JkoiHmgTU6b7unEh9w48T5xYPqFJMEL2dGx/EgbHYvWkLXFAdIj0qjPCBiiQleICfnrO/mJDpK5fKKLyB0iCivG7KydaJP5C0MijBwzcqIP8iJoyAjZIoLwgRiG5CJFsCqKhhTJJ5nXyBQHra+wQNewhIjpF1lw5vRhW5fOYAFBMkbzxTORQtE39oWO4MvCk63o5eFMmKMM2oA3eDLXLCz1zVjgHxnWfzKGf3nJWYQMNmHQ3LKQ0hbiopx7yKsFXPA5BZt9HvWLktEtjMCGD7nDpy1fJBs2zU99Mz+NjczoN4uHYKivf/w9edgWhEsb5AhrSBzSz04njcvnd57TKwyQF3sCr2RoB4LNM9fc12djyuIAwSdHstc+DJh75npS2pp1TR46Z5tgHqZhl91JmlW27m0vwVsmz+iiCOABJX8AkMQgmNwMAALB+TprwhEyuoyFA/4mK4MPFH3yG0mxLZXVYv+cc2RYrOSnGotlAN2p5/rNSeunMZGJLT3jFnUSTeGMREdtX4lAeI789lEndXD4VugiGUgMx4MEc06u6lYnx+0eB4pQqc99RhIB5JgRCH3geLRLzkgq3Yg+iRTpi3wIlIiA5xwm555+ype6e130+kISOHX6RBQQRs5CWQ4ImeCM9I1zMA5903cOgXMNgUm9U/SVvK4wQ3ZkwckhRsZhUcJ5JhkD2SFf8uojEoRcrONU1Et3ZMdRk7f2LYg4dmTEs/EcUA4uYIaskSbOUjnjQAgS/UY8YAMp4vxEluXXFvmqXx8k84+uPYMheY1VOxYcsED+2oAX+kaC6EN/PSeL6Dq6pSeyIjNy1Rekll7pKomz1nfRZNE4ZNi4YJnuYUAZ+tIfsjd+H3hWJ3Jivlg4aE/f5INTSXvq0Qf1GiOCa8zmBnmErGmrxyZCJb+xkIlxyot0koV+IJEil9o1btEv+ss4p2AzefRX/eaA+sm4x4d72pZHX+DVPDJufaEb+liHAOozm0zXcGNM6rZImLLY6XXKprBZ5KZfMECf8Be75j5sqV9/Rf3JzzznI+AQ5vr5GDn117SbKwzCBnJuAWMMfFBSX7a+7y7xi7yjC5irCOABJoFROENvIjMwDC6D4h7jzTiIEljtMshJfVmGnqHg2OLo5POdQeQAeoKUsnv1CvicLzn0H4bKM0YMwfCM3Dh/zonj7sekDjLlRDlJZdQhr+/KIWs++a1O97VBB/KnLffTFtnKk/6lH/Lrh35qR37OiB7oU3719il9zj3l5bOdS7euyqqbc/NRR9/nvt/aTp2rXNO+MmQHi9pGELQ/7vc8PZHLWBdT+tG3T3YcvfZ99EW96klKnfmtf/RgHuiz8mQUeSSfcurK+ESV6Gjcb/kzh2AoctA3uiAj+tWG78FRMOGZ+2mfTIK95HFVProdj8lvdcAxLOiHcfV91Udta8+nr1Pb2uzb8117SZGHeo2RPOA1bSSfK+xpg070p5eJepJHm+Srv/Lqv3bJQMo4V7m2gmeXTf09PtxLCjYjD2373utjlbblVSddkRN7Yk6QUfQ7pT7y08++X/oWDI3vp376ksdzGFcmz5a1q83koVtk3NlTEVkk2bOk5KvrkSF/vS7gqgjgASeAmXi5mugmpRW5qJ0tDNs3ogAMThKg+G3lbUVvdcgYm+wSI5MIlaiT7eGx0d+rkzxjXOeaMa1TdrfLpK/9dbv60Ne56vdlfUh9U/Ml/5TrsjrzfFxX7i+6KjMlpe4peafmWbXtqfmntj8r39RxTs2njan9Tp2rXmeNY517q7a7bFxT61unr8vKzGpbGffZfCSZnxBAEHm0Le/DZyD6SbPqqXu7TwSjjyKAB5z89ZMrSreqNjmdr0H8nAOxHWPFN05W17ZBnEeyfYzkJYkIIH7OBdk66s/IydO3vVe/Zyy59v3MvVz7Z/meZ8uu8o9T6tjOZ30bff2zvvd5++993v5+vvfPt/I99Y2vs+qckmdWuUX3xnXm93aVSX3j66z6x3lm/VZuVppa36x8uTerXvfyPNdxvtx3Haf+2aznyT/ONzVvyo+vs+pb59643vwe15X7uY6fr/o79eS6avnkT/n+6tk4Jf+yZ32+5HUVNXRO0TlmwQR/a9OxEtvhPfnT7riO+r375C+6o48igBtIAJ3Nsd3rcLDD2M6COKid1APENoSzIAijM0J9PlstoogOLTtD5kB5tvBqYh+ZiV1yL7kXBgoDu4GB+AuBAGeeBRO88OTlEef+bAXrh7Qb/ak2puM+uisCuIEE0LkZB7b9SQXkLn/yI6DIpPVbXlE+B8NFCZ2z6ZOVnwiiA8vORWV7uCbj9MlYsipZFQYKA/sNA/EDzod66YQv8TKXl0xsCfdpv43toPc3uikCuEEEEKglShe2d9DXgeVZpC0A8UadN8L8GQRvo1rV5fC9PM57+PMg3oJL9M/9gz6BanzlsAsDhYHCwP/6FCTQESIfZwLJpfzA3p0fTTm1Bbx3FbSThiXKH1/TZn/fm73+VIg/x4AAeunDGUJvqZn0Ion+hpg/HZCUeuq6mfgqvZfeCwObg4HY/VnXwsHexEF0VRHADYsAZkIGAK65l2v/DAH0d7b88VB/88zr/c4MemPYCyIIoD9Yaps4KfXUdW9O/tJL6aUwUBjYbgyU/d8/mIquigBuKAFcNPkDDldbvl7l9yawP05qK9ibXs4P+oOl/oagP2Drj+omLaq7nu0fI1G6Kl0VBgoDhYGDh4H46iKARQD/TwSwn/DOc3gRxCFff91dNBDh899A+av+IoLe+PI/aCT15ev7wTMepdPSaWGgMFAY2L8YiK8uAlgEcCEBDFC8+OGPQIv0IXz+iyF/Fsa5QH8bsP8L+WUY9q9hKN2V7goDhYHCwMHGQPx6EcAigJMIIIPgLV//M4i/9+d/EHHuz/8V6Y1iqYzGwTYapd/Sb2GgMFAY2P8YKAJYxG9lwhaS5/+K9AKIj9f+GYQ8K+Ow/41D6bB0WBgoDBQGDi4GigAWAVyZADII81IZi4NrLEq3pdvCQGGgMHBwMBA/XlvAB5QIUvCyCTslz6w6Ap5cZ+WpewfHWGy3LoObdfG33f2p+gqrhYHCwCZhIDa4COABIoBR6vg6Bvb4ud/jPPV75wziLPlvig52auyz6i0M7xyGS7Yl28LA/sVA7GURwANEAE1I/62bN3bz8bufqFG8+/kv4Nzr89T3nZ3YkXd0kOtBlntw5+p/kPHnhVyNfavjTt3qiSy3o96t9qvK7+w8OojyDZb767rj7OvI93Xr2s1y6Wt/3c32N6GtyLYI4AEggJTJ4XGq3tL1//f+4Ac/aC9p9P/Xb5TubV5/4PlHP/rR8LOf/az9f8D9/++7CRPgSIyR/LWbt6n97USfX/7yl013eX4k+raTbQZ3MOqlIX9T8mtf+9rwrW99q+FwK/93aGTmzxD9/Oc/b/9NoZeT/D/XMJ3nOzm+qruI3nZhIHMl163Umzr22xzo+53vW5FDlf2/8zNyLQJ4QAggRfo7fZ/5zGfa3+d7/vOfP7zzne9sBIPjTfrP//zP4Utf+lL7I87yvPrVr25/28+fcjFRpJow/3fCbIdMyJYuzjrrrPb3E1/1qle1/1Hlk5/8ZPtj2wdV9hnXT3/608FY/RHxZz7zmcPjH//44W1ve1tbiMBv8q0ia2V+9atftT9H9I53vKP9kXL/ZaE/T5S/TblKfZV3Z7Bfcl0uVwsWCxcLoy9/+cvNdlssris78+I73/lOs/dsjt/r1rWb5SwI2YpvfvObg/+KdL/0ezdltNW2mrEdhqEI4D4ngFGk7TSRFf8zx4Me9KDhGte4xvDQhz50+PrXv34OseMQ/fdt/iePJz3pScNtb3vb4fa3v337L95ET5K2Cq4qP9vYky8jf+aZZw7Pfvazh1vd6lbDbW5zm+EVr3hFI4WRv+tBkaGxIL0izf525Itf/OKGvQc84AHDzW52s+GJT3xiwyhHlzR17MkvgupvUj784Q8fbnzjGw/3uc99GsHO36eUb2qdlW82dnu5RO659s827XtkkOs6409ZxAfpsTCHZf/NpgV70pS6k9cV6TPfHvawh7VggJ0hdUhT6trtPOm7+fyRj3xkeMpTntL+D/of/vCHebRn+77bstpqexFoEcB9TgABQeJk/Zdt/t/exz72scPJJ5883O1ud2tbbZ4zLt/4xjeGl7zkJc3pvulNbxpe9KIXDY973OOG973vfW37LHVtFVxVfrYTpQey+fGPfzy8/vWvH25961sP17nOdVo0zEq3TwdBhhmPhccnPvGJ4bnPfe7w1Kc+tUX9Dh8+PLzyla9sjomjsoCRVhl3X/9XvvKV4elPf/pw/etfvxFrkUXRlKRV6q28s/EbuUSmueb+pl0z/v66jgxS3nGdj33sYw2/l7nMZZp9tnBKmlJ3n9ecsMC/9KUv3ebGd7/73TxeaZ5NaXc78qRzP/nJT4bXvOY1w9WvfvXWfztWfdqOtja9jsizCOA+J4BRZK5C/i94wQuGG97whm3l973vfa89ct7P1tsjHvGI4eUvf3n73zycEzzjjDNamH2/bQFnvFOu/WSfl1+eeWnRs3llFt1HxhEikdob3ehGwzOe8Yx2ZnNWmb7v+T4rX+4lzyp97stM+Z625l1TR56LYsDcne9850YCRTmyzcPY9+dUU3bZNXXn6myh/5v6Tne6U4uqWuDMIoDJP+s6q81Z+abcU9e8lHbmPV/lfurqr4vKT803riPl3Oc0RGl+8YtfnHN2Nfn7fLk3vibPqtdxPf3vcV39s/H3Pu/42aLf43J+w7Fz1zBOLn3yfFFKfcmTRfq8CGDyTb2KnFnkiwDaGXI2dtWUPua6SvmUmXpN3ebtRz/60eEJT3hC82UHcXE8VSY7lS+yLgK4TwlgFOhqW1EExecLX/hCC53b3mVIOFgJ4XjIQx4yPPKRj2yrTOcqJADwEUFcF2ytojX/WbfNlEu/Ne9eZGFMficlv6sy8vmkfJ7Pepa6PfNJ8j1y7+97Pq8fKWt1LlJ785vfvOkLKVKXrdBFfU95/ZVfdI3j0F6fMp6MN/3ze97Y+zLzvvdt6Ke29UFflEnqv3vhCO6uda1rDS984QuHfktHv+a1Ne9+2oj89QEZQQCRTNh/y1ve0l44Sd6+P8qR8zLZpWyfXzm/k9Tr9zyZLnqWsn19vpMrefb3tRdMjZ/1cur7FXzo8zJ8RD6uaV+Z/n7qdtbY/wf+oQ99qEWzyT/5ksdVPWTskz7It+qnr5NMorvUmefjPuh/8Clv/3zcB/X6JI/v5DdL1mmPDbXA/vCHP9yO1jhG09eRfON+9LpIP+T1naxE/fIiExkmT1+3e9FT8qQ9zyRj1id1Iam9DORRn0+Sfhmv+vr7aT/5/A629Nf3tNnnSbmp15TVD7LVd/M6/Z5aT+VbPscia7r+9re//enTTz/95EOHDh066qijjj106NAw+pzl2cdHN4dznetc1/JAYZWoLKmUsFwJ68ooMnb97//+7+ZQv/rVrzby94Y3vGG4973vPdzlLndpL4OY+CYo5+i8mYP3ooSz0nb0Z1a9y+6t0q665GfYbXkjE862GCdjYbVoy4A83CefJEZNtIkDsx3ig5yoSyInzxzC9kGeGTgGyX9/541d5ywZJhFTW7lf/OIXm9zdl1fSxve///32LP3Is5ZhGNrWvBXuLW5xi+FRj3rU8IEPfKD12xlN/dd3/ZmXjN1ZQlv+XvwRzQ2pV4aMMlZ9UZ8+kJP/yzlv4KaNKTro+2KVrp5PfepTrQ/G6eB27ziSn5MUmbvEJS4xPO1pT2u6EUGKYU++VfpAZ6La5E8Gf/3Xf93qdq4QzsdbwGmDjYrebLeRHfn0OEleV/LhQD//+c+3hdNnP/vZhoGcL1SObBF484rzNi5yIG8YIifPyCfyhil1KAvDMEWm2qJX49IvOpTUJR9sWOTZNg9u+/7me48PfV6Ej/zFABjXD0dF7Ax4kcZ4ersuj/NZFpNsCdnTA332MpTPuD139pP8zJExRlfRuX5oS99EiGaNK+MnW/ObfumZ3Mz1Hp/aVqc5oV5yMF59h5HImk1xr0/K0sfb3/724dGPfnRbbNOZ8vQYPZOJ8uYJObj63csh9Sojkg0n9Ef3cOLqnvb0S/2Zx5/73OfafGK34C4pNos+1aU99yTtsJXqoxPPtes3PQVfvT5TL/nRNYyQK/16ox/O9YvctaWNKbpNHvX7bqxk6DOWUfLWdevcIvqE/yKAa6xKjxQIoziTGSFhCL39yOG97GUvG+5617u2F0Dufve7D85ZycNIPPjBDx4uf/nLN0fsLUmG0eRn2EzqdccTR2fyMyqMQz5+z7tny8RkB8BV21aOc3RI2iHnl770pY3gvvvd725nR7zgglR5w5kzlV9iIBk5Zx5FR8kL4dJ3fWBEyex5z3te2zph4BhQxpfhVp9nSPZ73/veRrAdVLatbtsdiWM8GXpnWLzgIMr32te+dhDxSz/0BWFy/tKZNWTdVo16n/WsZzXHqm/a1Lc+cfoc87ve9a7WH1urznVqL/2FDYbYm4Rvfetbm3w4Km/gkhES5i1cL05wJNIUHcjHsHNg6iEPbzJ7iUUftEXeveNQPz1d85rXHM53vvO1sSqjbcRQP7U9pQ8t0zA0TIlov+51r2tjM3byg/mrXvWq7QwVjI9lx8khD8qRb/puHB/84Acb+UpftAXHdGBc8vjAm/boGAlDMsjCSz1erjLXjCmEzbMea55J5oW+0DnsOBP6nve8p83j5zznOcNjHvOYtl0OjzCFdMkDb7b09B/hSH2RDXx48Sv60SeyGePDvA8+9M95zNNPP731wRhFbOGTXTFnzHMOWRnz67KXvWyL6Bo3WZMTW0P3SK3+vvnNb271woZ8b3zjG3/tqMNUzBkbXSJ8ZABvPvqp39pCGJKQEfo0N6Jn+eiRfvJihTEh3CKZ6jO3HZOBV3mdV/UyhjmpjX6u+P7+97+/LbZPOeWU4Za3vGVri77oFaE0T5RTF/nri7pc2W22Jcm8Yo/VSV76gWSFbNGn+8r66w5smPGxPWyd/Ag3e2pcdEEG9O9Z7I929M2CSV2wJ1quPvpB6r08SLbG0RNf9tOcJR+4NR8y943PNrNnsMCWskNTdJw85gR7bH7GRsBSiGvy1bUI4ErAOkiAYTBMcMbFxBVFsq3GCJvMttmOP/74ZpiyOvP8Cle4QnPAV77ylYf73e9+7dyZyWqCMRpJU2WV/BydVSlCyajYGuLcfXzvf7uHJPkwEsbAKRuPtKjttCcvQ6E8R8ThG5utP07TgNiftQAAIABJREFUR7SJUUauGDntSAgY4uVlhOte97pt+5UMOQ/1iuKQ4U1vetPhJje5STPanLxoGQfCyCPR17ve9YYHPvCBzUEiHcjNla50peF2t7tdM6CcHaOM2HkbW35OGGk1RglR0lcHnW0DcwwM9ZOf/OTWjjq1gej08uEUEATnB/UVsVP3fe973+YMyJZ8kFaOQjTYiyZ3vOMdm7yQB+MTJWO0OcA+zdOBPByASBan4gUjkQ8EAfbg0OIDuURY0mf5OS4H0f/gD/5guMENbtCcKsfBwcSpqn9e25GZPIgAJ4ugeNuXLJBxiyCLnKtc5Sotqiri3Tsv5eBPn+lMOU6Vs7n//e/f5ESWyINkTnCg5EXWSLz89ONgvXrMH0SQ7uAJPtSBYCBmIkjyw6FnziXSjcTZkx29IFPXvva1B29GI13mJ8yYq7azLSIsJrRJxjBvnnvphdNPIqfggyzgQhsIHlmRmTHpAwdNZve6172GK17xig3D8oRgwqR55WqxQX7KIKl3uMMdhvOf//zDJS95yVbeGMnb/EEWEQFygwVtwLWxkSM70acpOocRuDZf1AM7sI2geZPeWNWrLlE+xNN8MH/MW/1HaO55z3s27CFlbAE8i14hfua7ue2KVBlT5g5bog2EWxuwbZzmAb39yZ/8SdOVqChba/zmrX7SJTsFF5knXv5SnwVZEqz6jYCxGWRMV+yzqz6xCXTPrugfG2P8bI+332HUvGeT9RU+9A+GYJcOkXjzk25gzNjYArKFsdNOO2242tWu1uySNuBJQsKMGekj18w7+KJX+Dcu4zVuNhPZTJqn5zxXP3KprLGceuqpbV7BVPzTvDrq/uqEMHIn24oA7oMIYBRmoiAlnCqDhswgehwtUsS5XfziF29bNIybvByPScWgK2Olh6whIYyrOledROkPo2JlLgrHwTAkjBhHlo/fuceJyccpWXlzKtqWpvSB8WXEOFDO27biBS94wTZeTkidHADHxpAhhpwHY8TgIzyMMWPK+DHi7mmb8+ewGF/O18sZ5MepiI5w1he+8IWbccoKVX6G+KSTThoudalLNQfDASC+iAmnqo/KcjzZtiN7jp3hlEdekT1OgBFE0uiL3BBY/bdFRe8ILsKVSIOohogeHYtYWO3TC6eojYtd7GLDRS5ykWa4yUwUBSa0JcKwSO7Rs6vIAULN6SCA6mC09U/kggNE8DgO9/WZ7DzjiOgJ2SJ/fVMfR7yofc+SECv6pVtkWwTE2NUjEkduCEu2gEMA4YVDRgo4eITNXOHQODhjUh/HiiyoTyRCJIQe5BdVQ+DJH6HTBpyRNSdI9jCjD2RKz5y335wZp64dDlpCwjhp8/G85z1vc+xIinmJWNIbx46UcKpIFEzBGxnCG1nLn4QM6h/MI3K28+DXWDh8Y4dV2LPwon9zET5hDd7JVzva49Bh2pxlX/QZeUBG2BjjogPzi60RdSJXz73cpC9kqV/mu7Y873U6T/cZk36aN+wa3CEgFnH0htxZ3BiX+WMhiujQpbyiVPrFVmjXOCIDMoE9c1+EzlEMcxt+LAq1SQ8WcxYVbAm7mfli29Q8D4G3KMicolcyRCDZGXNTf+FNpI19gQdjCUaRNqQJaUfItceewTx9IbuXu9zlGukmR/Vb0MAefFhEWBzQObyTu/7qu/rMeX2GS8/g0pxkF+AFoXaWEf4RVmXI1m92Uz/kQRDlh0P1IGhkZDwWs/pGdtlun6ff8X123UIc2aU/iwv6Uj//JI3L1O/ViV9klvlVBHAfkD9KS+JAGAbG2YRnyBJtYSxjsDjhbMkgaIiZ/IydfH0KKFa5pjwDxiCrl/HyQQbHH87APU7OKpmDQQL6bZCp7adt21EMLCfJGTNwEgPIISBKVrlWxu4lMcYMt9U0p0xOSUgY2TF+romQITScKMPIATPmEpLDuXA4nKj6EkXynKFkHDlrEYAY/GwBczhW6upP4mjJi5PXD1EXY0NCnXFDNjg//ZYXASNPToNTRrhMbOQe2fIngU444YQme/iBF0aV05FvkdzTJ04AiRLJIgN6jAzk4Uz1M45Au/omkSGngUwg3Eh/0qK280xe35EwhBgxEmFCbpKMhXO9xz3u0SJ08BCdc1QIiCik/ovMqS+J7BEm+hPNIGeLF1E2BI1+JXKz2OLQzTMEioxhRjkO0PiQhCTb8uadt/Jhg2NM0gdRXBF7eWAic1k7xqIPcJcoNj0gfYgMQsDJS8ohLrCBtMJ88IEcI/7wAYeIgwRTysMMHOprEqJgkWNuITdk4B78qoueyQY5MQckzxHIRODJyPx2H1Hm3JGxjFGZ6Hh8zTO6MT9gh4yCOXhj18gGcdU/26qiU+aNhVDmrrrgg9z0zbwXwQo+kUTExYIQ8e5tEoxZOPizLOO39Y2JjTAnXS3QJOOFCXPEfcTKgswH9kQx6Q6p622FqDH5idjRO3shGavvMMQeIJ5JZIkMwh5baA7ExugD3VmY0Fm/TS5ybcHjmSBCf5QAYUdSLQzYIfMIlswJhNLcY0Ml9gNRNr9hTztp3/OxXuf9znjojFxgNQvw4GVe2bq/OhGMvIsA7gMCGGW5Ik22D6xYEaremXLuJg/jwfhYtTmTw0CIZnBSjHAmVOrdygQCIBOeY7MC92EsFn3k0W/949BWbT/9ZritYhEchCPE1vg4M5Eizs1qtzdwohlWsrMIoFU4GSrHeMdAc1wiQcqQv+hOklWqCIVnHG9PAMgb6eCURQg4AYnzQMrpUb1xHqkTiaNHjgJx4AgZY45I35AQhpduES+/tS/ycvjw4eaUycNigdNQRp3jtEz2yW9MnBDyxWmIBvSGXj4EhjNENkUoRcwkjkfEkGNGXEPUU/eiPiQPkmG8ogPkIvLEqSdxukg/PciDDHGckogMYiDaISoDm31SD92QLSeLcHBmxup7xqEMOSBj9BH8wgxMIEUIYIiF/IgJoqS+Mfn13By+6EUv2vLEqboPH0gMooes9GQX8eFw4V5kR4JvZOjEE09suoap4EMUxzg4bziEGQl5tXAT0bSgZFv6RN9IkWfmEzmxJ0gjHZhffZ/pMbJGHpBK81Ie9oG86GmRvj1LYluQbO0kIqSOJN+RW/phT7SF4CKtFqLa6pN5irwg3KLuFgaS+6JN9G0bNHPUM23QAwIqMsZ2JLE/bIU5TL69jnIWElbc10fRan1EylJf+qBOeCVn5ItdM3clNhLpgwW6QvL6JOpHH/QrAho7iMghvMY1JoAWc+YKokVWIfHqRYAtPuwcWDiZ5/pJDhZJfEn0nnkJj2wPPGbeqWuZrnt9s9vkyy7aGTFfejI+pa7KM40MBj9FAPcRAbQS46gYARPUJI6Ro0gREgaOERQRMjkZA2Ws9mzNiCz0BHCrE0YbnCIDxyD66IfVJyPh03/3TB4TndFmKFftQ8CbCCCjZCskxIvBNE5bIyKASEdPABn8RALGEUD9Y+gRJlGhEECG3IoUyUKkE4nQF/VxUlbgDG1vtGyPMeicBMfJ6UohgJykejmyPonscryJFHAenJOtN9FGkSPOm5NAdhhL0QvRVURMhA8R8QypUVciWX07y2SfvEg7WXGu8IdE9ARMPiRZlMZWGtJjjBIZchAicGMSNLV9Tgi5hm1jQXqzNaQNcwPRgXMEEB5gC9ZFYBB+TpeM+khI6+AwNLJkbEiVuYX4IHS26YKB5O2v8A8zMBEC2BPcRPJmEUBjt1Cj00TTMjdFimzXwo0ITUioeY6o6SMizuGqx1zimJHvMT5EQ+mOY+Xs9VcZOGUbzBFl2JM+iV4jFSJSiAl5mkfaNFZ9gDV9SrIIRVYQfv3jyEW8LBiQiORdpPfUBV/IDn2KOpNDyE3y5Oq+eY7QIEPGRTd9smhD2I499tg2JsRdP9gnEUBESYS5n78IoGcWB2MCCN/uWfSwFYnSpk39VzesmofIn4WLBaG5oIx5lQTDtk+zyEkEkNzpAgGEfxHqPtmWt8hjm3oCqG22JzjpcS8CaK6SF1ui7ST4tVCCSwSQzSITc5dsYYVeyMacpxd61pa+6a+0SMf9s7Sb8Wsb7o1/VTLZ11vf55PByNx8rDOAe5wEZjJxRKIBjCHnIGoE5JKJYvuAI3E+KatEk5STYXREZazQk7YyQVIHh8AJMLiiUCIPDIKD1YyHT/9d/+WzvcQ5MkoZw9T+pG0EkEFKBHAeAdRWTwCR0mwBM2p9NI/RFPmbSgD1WX0IIKeIpPSGFgFk0Bk0pHwWARQ9mEUARQoQEc+RNw4ciRG9YGg5ILKnUx/y4IQSwWC0OX9OQ/uceJ+myDv5RTHgiKyRGVgbE0CkmOO/0IUu1KILSIwEtwgYp8cBIitJy/qQfMgsXXE0CAl8hyzJA/9kon1yQ47dQxJteWrfOSlzoNdP6j98+HAjtwg3smpRQZ+w028lJn+uFhsWNCKM2QLuCSBSNS8CaOwhgPCjnowpZ+2QC3MmBBCpgYUQLOfclBHVFIWEDwsf0dB5+AiJIgeLkkUEEKkgT3N1TABDWkPqyIS86ZfM4dWiiEyRFxFskVPjTpql/zzTnnGwZ3DHroyjzslrXsEHHcAIwjUmgPRoLiGASIy5rn3XKQSQXejnaU8AEctE8cmAbGFKVBapZBfIRFQWwSETBLCPRocAwTe59QTQQk/01mJuTABFABFAZA7ZjH6nEEDysmjs7WNPANlupN5c1w6/Q3bGZTz0I7BgQW2RIeoYDM/S7ax70aF24ZG9FJ20cOsXebPK1r35JG+RbCLzIoB7nPxRomRScbCMia00xiOEx3PfEQzGkjOxTZT7jJPwvDM5JmjSIoAse5Y6GBvkQ1SAUWBgkcB5H+RPfxABq1DGJWNc1maep20G2FYJQsxYRh6csrqd3RGtEsXpDRzCZrXKuY0jgKsSQH0RSWDUEQZtGVOSSJm2GE1kLOQMcXOmRgSQ3HrHoizj5xmCq05RG3Kjew4eseAMOY1cjTvGVx2cEGKOAFoAbIUAhiyICCHHHFkfNdCeqC78IYBeCCFnKRFAURRRml4+0em8a6vg7K04by1rm07HDp6D0idRKYTFcwRQvaKp9IMciZD3BFT9ZCZ6iCByiCJpdIl0iM6OIzvpkyuZOwcnysUBIyH9FvBUAqh/PQE0p5ASGBgTQBFADlJkh8OUOE/OmYyRUXlgfhE+6GERAUQ6zBGLJVuxZAxriQCGAPZOmjzInQzMC/NSdFS/6A55ya6Ffs/SexvQ2edrLTS0LxqFUGaOJ0+u2oR1bdCDOaMvfYr9RADVmTm3iACar4kAziOAiBl7LBom6ePhw4dbhE202rzXNnmbE+a9hZ3o4awIIPz2W8B9BBD2kbw+eRlM/nUIIKJpEdLPZXMdHh0nsIA3f+kJntgQc8Jz8wQpN6ctyCxSsiicpdd59zIWBF3d7BWZs5FJ88rW/SKAM43IQQKGSWA8tlAYDcaUMewdKcNi0jCASGJWowyx+1bFnFN/5kSdfVpFZilnwlvFcliMg49owaIPcmZLUx85lPRjavtp29arcXGEtp1CrjgkTp/jEa3KdnjKcUxImVU4UtzLxDg4UnJEYuPM5WHsQhAYxSQEASljTEVkeidlS8fq2KqeM4yhRV5tRyJm6u0jAco7t8igi1yJ+DDKCJCxIvMiXNlqST84PIQ8Rlj0lxOXHwElkz5NkXfya4szFoFAjPRPn5LIHGklAyTV87zwgJwgLORti7yXz7I+pH6kgZMRyXS+DP77yJz+GSu9+thyTGSKfjhoZ5oQ1BDT1K2ftsHMK9E/BMciym96c3YyMk0Z/fFxH4Ggf1vIdGm8SYk+wiH9BU95biHE0VqswGUSUgkfCIQITTBKXqKD+oeMI7qSaJcIm8WQaJstw55oyRN85L6oma1y+DBOc7JPthMRYTLxjDzhVzRL27YQLUyS1E8W5lC2UZFr812U0TiRhUSolJul/9TnGTk4e+YNctFQYx8TO78RQLLW12z19zhTp3kEh7GfwadFMVKG7LKvsSPKwBU9wK7FLSKXJOLO1hqba3YS2AakXcQbOUTsk0RA2RcE0MKvX4zQiz6a8+xaiB4Z+g77cDQ+y4soyW/uedElWNUWebAjcJLdB31hCxB4C0yL4D5aSj9edHPuEqZ6PwOH5jACbZ45w6qu6DvjdJ2l21n3UgaB1q5xmI/9/J5Vru6tR/7ILakigPskAkhhJhmHwShbJYp4IA4csQgGY8P5MpiME+PlueiELQKr/d5pZwIxMD75vcpVOc6fAVn1o9w67SrDWIqucHgci606hledSCVDyJByVLYxjFs5iREXJeEonBkjR89tczK0HBsD7WA48kCOjDjSwagrw9EZL+dja8S2BSfhjJVVvWcMMUdsRUv+CDijpo/0g5hb0WtHHRyWPoga2s5j7K3O6d1ENV5bf7YnRboQMvpVTpsiAT4ckfyecbjONjH0oi8cpWdTdRxD4Ypwwxb8ifBx7Egmh0k+nJ5nnCzCQG70hNhwXscdd1wj3Ii/PkhT+pE+IBt0IBrE4Yms0AMn6op8iYSQd8gWnesjQqgMZ430kJd+k61tLPKkCw4PORdNQnbp1JiNlUNVDiaMSbvk6bc8cMipehuV7H0sCPQHudA/2DN2HxEVUd1jjjmmEVNRe/KCKQspW/3G4+xn8IaAwYeFA/zCW3QKDxw+go5QWnzAQo8PODNPtM+Zw6RFBdkgFtqHT9jVd1FRcjBHyFFbFlTILkyzO9owFvJwzg0OkHX3yVg00pzSBiJifibN03+eIx/aIz9tIk0Wl8iC+unEx5jgkzzkNR/pDOHWB5gzl5BIdsGCkSzJGoEha4SHrVR3dGS+IvdeIIJ52DC3JToRFTS/LPLMTyQLTi042GKyoxd9UJdFEvsBw6LRyKf64JSeYDGLLBgmVwsKixJYML8s/uiHnugL3vQBVs0JMjP3zEE+gc0ydvo2LmXo2qIQGUZ62T/16QsbhOAh3bAnUhrbaZ4jwuYzW2ShBxtkuNUFvXYsRPRJG+QIb/o1Dyd1fz0SmPkFD3UGcI+TwCiLsWJAOFjExwQWMhf5ECXgaDhZhpazYex95M/WAYPSJ3VygowPMEirTKq+rnW/T2kvdTNEjKkojuid/13id37nd9qWhNUzg++ZrWYG/eijj25RFG/jZuzGaovIyphhZ8xE+6xmXTkJf9yVPDk0EQ2Oy+/f+73faw6WQWYoOQski6PUFuPO4HNODJjogZciLnCBCzRy4BknYdWONHASjDoSiNwjqyIEopdWwRxOjC8jzfjrL4JqEaB+uoYDzghxCTlx/pDuz3Oe8zRjjnByxhxEdD1V3/LpN2Jt64eDdfaHHCwsOBERAQQI6aUHTopT5iRE337rt36rEReRpZD16HURBpJHZILj0o4ooEiBSBjCQW7aJk9t2aKybUnnHAiShtxx1MierS06pTvOX6QNuXBuURnbWeoV8SXrjJdjJ2964AyRCPLkYBFz7WuDAyMb+jFXbYu7Tyfmm/Gbyxz0b/7mbzZCAJOcNEzBIiLzx3/8xw2PZIpQkqf2EQh/WBvejBM2YI7+4QMh4MSdeZQ/Ry+QX45W9IsuOXH4gFH4sY1PzyJvFkn+RqEtU0TAosV4kTsk84/+6I+aXNQt+uY5XesTAgrP+k3WiCkCZY6GQC3CXnQuL6JlrrNryCqSAMv6677IujzmtQghmZOB9ugXKYIP8qADESxEHBGiZ7JW72//9m83TCGHyCy9IjcWT0cddVTDAlJMzuakxQBMmfveLDZm0VE2Q7+UQ9IjC0QWqWO3yRWBlpfOkWLYE4lEvDw3d+kI4TcWCwV/gBtxhD3jpS9z3/3f//3fbxE0NobdJ3dz4dznPnebM+pBQsmKzsyh3/3d322ygkVEE8ZgBI7hks0zXz0zn5FNhBgZtUDVRxhyNTfUo1/mc9Kiud3ng0vzAR5d6Sw2vc+3rL56vpwURjdFAPc4+euBT2kmKKPBqDCESAQHzGiZMByij+8mo7MoDB8HZjL1jl99JrZog+hDCNJenEABLMPLQXE2nC4ZMESMj1UoR8g4imwgCs5QISzkkK0nToWDYwQZGoRPHgaTgXdflIAD5FzUi2T7LT8CwZgjFaIPvjOASAQDTu7IIYOOxOmHZxwW40zmHBBnzZgqK7KFfGqbw6ZjRNZKvk/qpW990UfGV7RQu3SOIMnDSSEb7pMB/XMUDDgn0ONgir71AZEiX2PQR3XrL6LE6SKBnIW21anviC5SAIO2GjkvUVY4ntqHfvwcM6yL1NBbyICx6xM9ijYhLCJAvc45GKRPv0OMEDXkm55ETDIHjBX5trBCLJFtelc/5y7yxflyisZpbhm/LWYfBEVUGgHxHQHSLieMfCEPyAXdkQv56BtcwBTyiJgaY2SGGFpUIIp0D1O2HpGvRPXkgQ/yCdlFHuSDbwshbdMRcqFP2jA+Y1U/gopAkI02jEdZCyHjhUv1KUcm6hBdNu+MD47ZJdFNc5S8lEcc6a9P87DX5xEFQlrMabqlc+0aF/zBHJnBEyJlvooEmlNIPVzQDZ2bq/RGvxa/FktIm/pE3mxBwhd8mifGRZZsDLuK+JtfymsLxuhXRFY+MtQf81C7+msxwj5pR32wRjfmPoIscia6iryaSwii+vRfX+CETN3zMWZ56Ym+jJVM6IONoQOLAlu72nEkQB/hBNlkl5BzmDQuC7ngEv7gUL+RP3aGHYErckV45VeftsjUuNnFU089td03FywUkubpOPeTD4aNzTjMOWNmS41T3qSUq+tyojdPRpGlOVMRwH1AAjMBkBcOhDE2oW07ZEUf0mEb0NYC42D1iyQw2HmTMMp3DRHhlBmhpHnA2Qv3rdwZBYYcESQL43WPM0YQjZWhYyg5Jg6PwZeMgYFC4JBf5NBVdEU+xg5BVI58RAIYTr/Vh9TIIxKJYMjjnvY4Kk6Oc9AfjgmR0E99ZOT0kVPTFmfqufaU5ZD0HdHibJOifxNWf+TVZ46GkdS28UQG6teW+vU57eubsSequKo+OT7jNmZy52h8gjmRv9Str6IBZBA96Tfnimgl39Q+kIX2EWj1cL6ck/bpjiOFCXoybmONzpU1d8jVM5FQc8eV/M0dcomc5acnOqIbskZ85acj5ICOjdE44MA8TJ8sqPyGG+PXJ32kE7oxfkTMfXLUB7/dJ99g0LPITBvk6Rm8KWMs+hiHa4zwoV596fEBV/ABV9oJ/oIP/VS//slHltqALWOJbj2XF0n0ifzMO7ohH2RB+650r23l9U9aRefy6zOZa0u9FjJkbPxkGkyr19jIXV7t0zNyT/5kkz7AEpsHN+RJDuSmLN2qB1bZUc8yTvfp3MeYzWtyICdt0COcwRT9wY72M6+j97RF38ZH5upShsyMTR36QBfua6O3dWRKN/LnGdzzEXSkz8FQb5f0JWOGL7Kl196epRwZGReijzRagKiX3PXPM+RW1BXZ9J2ck6boOjo2FgTSx7zTRuzglHoqzzRSGN0UAdwn5C/A7hXH6DFGMWieIUcmjPyMgqiPlaRVpMmdxHgpzxAwpvJyeFLa2stXxtunT/obw+x70rz7niMI5EKOJkOflEs76u3rdH9WW7nnKk9fpu9H347v8oZMjJ8p19eT5/TMOHMgPdHxPG315dIn19S5yjXt5gpr2vaBnb6tvg/G1qfIaJW2x3WrT/tx1GPdjcfat68u2Ce7kLjx8/6372Qtr3GqO2ncL8+Tb9wneTP29K8v73ufJ224Jr/ruEyw2OeXR18QlFn4SH3junJ/jF33fcYpuO2xKx8yoW0yjgNPWW2u8km5XNVHf649tvqxyKtPdKEP8o+f+z1rXOr0GT/r84/r0l5k0cspsiCPvq8Zi+dpL23mmTbyrG8vZfpryrjOut/3fV47yuXT1+c7si0iaOtXFHOsUwtAEVIRSlvsqxJA/cuHP1M/m6avuV/X/y+jrcoi+jVHKgLYgW+rgt2N8lHe+GriWPVZIYuK2AqyarNtYRVpMiXJa6VrZWpyW8nFYe3GGLbaRsYxvqp3XurbnJdnN+6nH8vaSr7xdWq5efnG9a36e169ud/Xl3vja59n1e/juhb9Hte9KK9nq+Tv8y6rt3+ecv29fPdsnZQ6p5RP3nntLKpjWdl5deZ+yq9zTR2zrn19s57396bkTZ6+XL7nmet2pXXqWqfMov4uqk/k2zlyL2jY0hdtRPJ8RDSRQtv+toX5HgvqJPVO/aRMf51atvKtLucigCuAc68ArJ8c/XerTFu5zpz4OAflHJIQf0/+lEEAhdhtETv3Zosjq7q9Ms5F/ejH3X9Pmf5evudZrrm/7nVRPZ7NS4vKpUzyzLomz6xrn3/Wc/f6POt+X6XuWXnXbTflZtU5617y99dZ+dzr8+T7vLyz8i/K2z9bVPdWnym/KKX+efnyfFYdebZOWfX15df5PqtPuTeuL/fH13E+v2el5Fv0bFGeWeXcm9XeOvXMq2teu7k/q/3+2bznAgvOXHrhxXk/O0vOOnpr2VlmZxed2XPkwPa3SKKUsU29pi/9dWrZylcEcGXAHQTQZLIggDlY7rA6Ymdr1/ZHkvFKJqhzK96Ac1hYJNCWmnQQZFJjmG4MSlYlq8JAYWAeBvgEx2ScOfcyixdlvDjlBZ/8FQAvy/nzPM6Vqqf8yN7GU1PQ2cckagt4H0YB+8kaZYrqOdPn0LFDtA6LI4VJKeO370gf8uetL4eM99MWcMZS171taEo/pZ/CwP7GAH8hYOA8ZV6cs+XrrW6kLy+RCDQk8hcfU7rfm7oPJ6gt4H1O/voJZvKJ4jl/YTIihEnJl9+eOSvozxb4I7nOAGabOHnrujcnb+ml9FIYKAzsJgbiN/gI/sXbx95a9oKNl43iO5JvN/tWba0+F6KnIoAHiACaCLNSP0Hy3GrOKs5LIv5Om1Vc3iTt89f31SdXyaxkVhgoDBw0DMR3LLoetDEf1PFEh0X+hWrkAAAgAElEQVQADzgBHAM4ivenIfwhWH8o1R/39BJInQEspzXGS/0uTBQGCgPBQPzHrGvy1HXv4yX6KwJ4wAjglMlH+d749QdF/QV4f0jY2cFsGU+po/Ls/UleOiodFQYKA4WBwsAYA0UAN5D4BQSU77ygF0RylsO5jhzgTb66luEoDBQGCgOFgcLAwcJAEcANJoDjyYz4+Yzv1++DNelLn6XPwkBhoDBQGCgCWAQwGDjnWoahDENhoDBQGCgMFAYONgbi9OsMYBHBivwVBgoDhYHCQGGgMLAhGCgCuCGKrpXcwV7JlX5Lv4WBwkBhoDCwCgaKABYBrNVeYaAwUBgoDBQGCgMbhoEigBum8FVWB5X3YK8mM/n766bpvB97vm+CDDLWWdetjn8n6txqn6r8wbZlpd/19Ju5WmcAiwjuyuovgMt13sTN8/46L2/d39rk32QZ92PP94OOp4xz1nU7xr5T9W5H36qO9WxFye1gyi1ztQhgEcAdJ4AB26xrb2BmPe/v9Xnr++qGiSz9uR//DeBPfvKT9h+7/+hHP2q/N0me/t9Sfwj9Zz/72fCDH/xgIAP/M477B1UOmUf0/6//+q/D5z73ueGjH/3o8LWvfW3493//94EjkNYdP9nB1T/90z+1Pyr/L//yL+3/I1+3viq3+vwumZXMpmIg9qAIYBHAtY3+FLBxOP6HEX9ompPlJPwB6lkOxz3P/uu//qv9J+P+o3Hf85+NT2lvL+TJ5Nruvmyl3jh38j/zzDOHP//zPx9e+MIXDm9+85sbEdxK3ds9zp2szzh/9atfDd/97neHd73rXcOLX/zi4S1vecvwzW9+s5HCgyoH4/JfPf7whz9s/wXkM57xjOEhD3nI8OxnP3v4+Mc/3ubmOmNPmf/4j/8YPvvZzw6vfe1rh5e97GXD+9///kYG6VLaSZ1uat2R/aaOv8a9PuENdooAFgHcEeMcgIkMiDAgHf7v4fe+973D3/3d3w3/+I//OPzP//xPsrUrsue/pxOZ4JxPP/305pxEaRDDpL0+8dNP1+3q61bqTFm6EKF5xzveMdz73vcernGNawz3vOc9h8985jPJsm393a5xb1c95wxwGIaf//znDYv3ve99mwzuc5/7tP8O0SIlabvaPdL1ZDwinuYgsvvc5z53eOxjH9t0f+c733l4zWteM4jYWawlTe138v/DP/xDI9M3velNhxvd6EbDc57znOEb3/hGHh9YXE2V03bnO0ew22hjtruPVd/6BG2nZRf8FAEsArgjxrkHmK02JOPpT3/6cMtb3nLgdN761re2rajkcxUhPOOMM4ZXvOIVwwMe8IDhoQ996PBnf/ZnjRSK2iTt9OTYSv36qDxnms9W6lM2qa93lTpTHgFEfj7ykY8M97///YdLXvKSww1veMPhb//2b5NlR7CwSl93Ku85AxyGFl2GRxGwS1/60sPNbnaztjCxAEnaqX7sdr3Go03EH9F7+MMf3oiaxdVf/uVfDq9+9auHD37wgw0XWyGACOSb3vSmJssrXvGKwyMe8Yjhi1/8YsR5YHG12/oct0dn43v1e+8Sr72im0zMIoBFAHfEgARgDJTonSjeE5/4xOG85z3vcO5zn7tFoJxD6qOAvosa2EK6053uNIjQvPvd7x5++tOfnpNvr0ygWf0wZtvdtsP0WURJvqS+TO7Nuo7z5XwVIv3LX/7ynO3zWWVn3Ut9ntGHiOyrXvWq4brXvW5z2H/zN39zTrHknXI9p9CEL+qbl9LWrOeLns3KP+WeOm2Fv+1tb2vRqtvf/vbDX/3VX7Wt4Vnl04f+Oitf7sk3NfV1rvJ9Wf19H2DyS1/60vDgBz94uNvd7tainzBqvsGojzxbbV9U39ayKOCjH/3otphLP/v+5N74Oqv9cZ6pv1PXrPyLns3Kv+xe6nNdlpJ3Wb7+ecqkfnPYgpiNWdUe9HXV980lisFXEcAigCsZ/nWMBoPF4Tpv9Yd/+IfDoUOHhlNPPbU5YEYsSd3//M//3M4RcVbOqNm24qjWaTf1rnLdSjvGKcLmLNSHP/zh4ayzzvq1plP3r92c80PeJLL7yle+0iJ1HHm/HZ48y659fco7+2er7ha3uMWwDgFc1t74ed/+rGfznrs/79m4nlV+09X73ve+FpG+4x3v2EiRbdJZKX3IdVaede+lzlWvy9pTX5IztI5V3O52t2ufT37yk3n0a9dV+vBrBc/+gYy85CUvGW51q1sNj3nMY9qLJsnX9yf3xtdZ7Y/zTP29qL20M7WuZflS36I2U0fy5veU67iMs5zOsJq3X/jCF+YuXObVnfrqWgSwCGARwLXI1VTjwQjJK+Jgu+kKV7jCcOyxxw7Xuta1zokSeJ6EEL785S8fnvCEJzSnzKkkrdJmyqx7ndpW33eRtQ996EPDU57ylOFxj3tcOwj/4x//uJFCURaRvCQk7Pvf/35zkhwyQy5vHxGVl7FHgl/0ohe17TuRu7//+79vb7DaMjeBkRkvzHAKtjY/8YlPtPoQ0FlkUd7Xv/71ww1ucIO1CKB+GYv2bS2K7nqzlK78/upXv9qiP/qJEOtfxvKLX/yivXTyrW99q719i9xK5AgjZOKFDH33TFmfvLXrJQYf0VDy/t73vtfa+vKXvzz827/9W8srmuW5aPLnP//5Ji/9IKskcn3Pe97Txn+b29xmeN3rXteIuyMIZOjtWGX61OsaqdIP+elP+7ZBoz99UF5UTL68AOWsHPmQmS3nVXDWt28s8GJBoH2LDvrvt7HTd3Ly0o9F1/Wud712BpR86cI4op8pfUmdrnD0ne98p7UNc86W3ute92rtPOpRj2qy7/P7ri9w8elPf3r41Kc+NXz9619vuurH1n9XhuyCbWXID97okBzghjzpm7zhRh2e6aN7MBU9ZB4qz94o601w+KUz55DpVTt0Spfqgin9han0u5ddxmqup7/GCUvKJq982nZP33zIRfvBs+1z9/ujLymnf162edjDHtZ2S9gH8jBu/VS3hTRseMEHno1fG8Y+Rc+V52CTw2AVXr797W9/+vTTTz/50KFDh4466qhjBWhGn7M8+/jo5nCuc53rWh4orBKVJRWADjaApug3WOAUGUwRQOf/bEPd+ta3bufP3vCGN/yakeOYHv/4xzdyyAj2UZkpbcrD0DKCDDHnwbByEpyB3679b/fyW3vKT20rY+QkROme/OQntxcLbK868+ilF86RMdcn9XK8HNkrX/nKRnRFS5761Ke2M1SIhP7Kx1gz7A7ui9Rd+cpXbtvizlox7ByL50jT4cOHh5e+9KWtPue8HvnIR7azlGQYkpW+Gv+6BDB1kC3H88Y3vrG9SeqsJvLr5R3jvt/97jcgAbbw84IBGXOecIDgG4e+S+Snr85/0r/+caLu+yCW3ixVVmRYO9rjCB/4wAe2j74gF8ilZ8973vPaffKVH7bIVaILunEm1TlIL0V4OcIxBfX5jdDQm/aTlKcffdV/+iZrV+dakRDyphdnLelEn0WEkTTHG/QH7o2vJwXqXvTRB8/1XTvGCze2W8lT3drUduqVH0nztu9lLnOZ4bKXvWxboDgD6AgGoqC+pEXteyaRB8Lk7Kg2LXac+UP+rnKVq7RF3vgMICzToairF0SUIQcypxvEOOQ5fdGO/hkTXBgjWSsrgk3XSD9dWFy6b4FErhKMsjvOPtKnK2ykHXL6wAc+MLzgBS9oCyxzyJjozA6EM8jKIFLqFHHT3wc96EFtvEg1Eh5CST4IJUKuH7Fjz3zmM9tiA9HUNt34M0zqgw04pY+PfexjrT3tOqPrPh31NhBp1K5orrOWd7/73ds5aXWxBzDODsnzrGc9q/XTWVd9YIf6BeEyXdfzxfNxP8snc6wI4BKju5+VfKT7HpCJSjC0nBDjz3FyEJe73OXaKtaqNw7LStUbqpwaJ5P7U8aS9hg5q2RG8Z3vfGfban7729/eHDqn7sNA/sVf/MU595AseTnWVR2idpFIY0RuTzjhhOZovcjyp3/6p60NjshqnsPivLx5yjCLduobR+o3ueTco+gMx8OQn3zyycPxxx/fiKDf+spZMeocGIegrHNt6lcXki0aiXT1JGZdAhj5cngcGGfO6V/+8pdvkSVO9vnPf35z1LYB9dlZTkSLYxRdISP3EAU6FmWhYxhxDg/58nYy2XF+dEFunDyyc53rXKcRYXLmjDnJu9zlLq0+z5Rzj9yROef7EGfy8dKDsUscMad785vffLjmNa/ZoqsIOUKJZNz4xjduz9TFsSYhDcbzpCc9qX3kR36REzqVnyPXd9uhN7nJTdp4OHROGDG25UyHHPWURXPadhXFgWvtqcucgmd9oH99QIaQPnUbJ0KCtBx33HHDxS9+8UYu4I3+zD04S5o3z/rn5paItDGRg/bg0XjJ80pXulKTIeIkwR4MwqlzvYgaGwD38AlDZIMgZ7GC9LAFiB8sP+1pT2u49tsi0oJIfcYGNwjb1a52tWY71GMcZOUvDsAUskReomFZ5NErDFmseX7Xu9616QXO7nGPe7RdCljUZ+O18ED0tQ9TFg/sBlImmdv0YAHmLKQxwgecqwOxREDh2eLJXBGFN09g2HjYR/0UrdUnJJKOohffYYyML3zhC7djHGSnXbhk02ADubaIsigh79NOO61FuS1eklJnXQ8u0Zun22CgCGARwHOMyzywrHs/IGOIGSPOIiRLBIRxFX1xL4af42QMOQakKmlKH5JXORE25CrbsYyi9hlwV+TAx28f0SqGn/NeZZXct8nZMP6nnHJKIyqcAOfESVmZI0H+FA5ihgBxACIfyA/iqT9IjD/NwsmLFIowIDPuI1ocCZLHkdk2FhWLw+DUyZFDlweJ8eEc+q3B7SCAxmK8+nO+852vEQvOCnnVd5ENfUby3eds9QGR42gvcYlLNAJhDCGAopqcFfkhbn4jgPRBPvRz0kknDRe60IUaoRMBQ4KND6l0tEC9iJCoEtkgDJzpiSee2PQsoicxfPrqhQUEgHNHWMgbBvTZcQV6giN9R2S0R97aEx0S3fSMnuGWQ0fKEs1x1OH85z9/6wM86I/oEGetL6sQQLKwpWiBhLRy8uYL+SDkyAYChnQiZQgJLJA5bHnjGdnQD+TPNqf+T1nwBOcicsYNVyHVFmqIJsJGf9e//vVb3xBcuiVTBE6fkSdb70gTuZkPyBYd6aOFkmQ8ZKUdWLBgU8aCSD5b2fQsskrWFh/GZm7BpXbhHNFC6OHiDne4Q8NUCCAyRrd0DMPeBjc2uDF/6PgCF7hAW8yRNbLnjWnHBZyfRaaRS+MWbYQBRAvBN0ZzUZ8RXThj6xA081rb5uvVr3714Zhjjmlts4nqhw19tpC89rWv3aL7SCMbSJZ0q31zwUJI/c54Hj58uNk244ERbcAsebB5FoZscdIUm1p5DiY5DAaKABYB3HECyJhbpTLYnDrDyPmIVnCySJOtQE6EQxARsOIOEZtqhAJqxtj2EINsBYwoMH4M+LwPgsqQIir9lsuUtrUrKmYMyBonzNFpn7HXH2Pj3DgqBAdZIIMQAG0aO4POKSCucazucyyMPmKlHXUiuhwcx+E+0svxqdMWqO0h5IYsE6XQV+WMd90zgGTCsaiTA0UsOGrET5RP3xA2ZEBUhj4RVjLi9I2NsxZBQmDU5xnnhsxx7s7lcVzIiTEhMpwnGXBwoiAIDiwh1xz3Va961SY7Otc3bSEM8IWIusJFdIok0pW2RAc5R/2AO+QFERdl4UxF1NQpQqMdjt/WpDbozjjgm1MWjUIKRKLgAGGlb+QNcdaOSIwxGVv6M+8aXIs+GqfIEDKBLCAGkrKiQ+aZOQUv8EV+MIhAIVnkhyjog7L0OLUP8sGiMQWL5jaZSfQnsolI0T1swgJy4p4FDNJDBkm+I1sWCz6imeRC/sYg0qVOUUdjNBbkSuTOfEWio394pkt6kfTLGBEm9SB0yKL61QU75ox26M3RBfXRqXGJaJqrxkp+trCVsZVr0UgPZJEzgfAFu8ae6K65ZgGobdvvcGuOqEc/lScXixv1a9sHsTUekUbEHtYldsQzcwfRpm9nG9VnziHaxoI0i65LSD67q0/yGbvkWp/NlEEDwNkL4ToDWBNh2w1BAOYqyuVci60cRkriTBk2Bo6h48wYX87A4WakLURsVSOFADF02mDIGUDXfB//dl9kw1U5jmOVNjNWRlq/RRqQW86lTwiSSACDLwrTO0L5yAk5utjFLjbc9ra3bSt499WjPtENBCnbmJ5xsPrNCXBMCI4IBkcgEiQCJbolT9JWCWDqIWekDCHjRPutUn1Ehjkp5MdWdZL+IIa2JRGnJGVE5ZAF0aUQwDwXfePYOFlySOIUEV5kDhH1PYk+RVpFn+CKEwzh0ZatRH1HbEKmlFUnZ32Ri1yk9QdxQOqQwaOPPvqcLUhkE2aRbE5e1AYBpA+kxRg5flGrPvqS/i3DWfLpM/mKRIk8iaLCS5/ksa2tPeQEqYUPejK/4MHWPCI6TvP60edDTMiSvi1UyKRPFiwIMpkiQQgI3ImYIVIWNo4AjJOFEd1d9KIXbeUROvnkhxN60rZEL4gmXWgvBBcZNDbRN4SzTzBqHiBbIYB5Lkrm2AA7hFz30VDyQ7ThA1kL0bVAsIBCDOkcIYMfWPe3NclG9BKZtQ1sa5eNoxeEzbynK1jUtnHK714SMq9usrbIQg6TEE47FmRmjtGxhByzqciuiCesmEOxa8a2qm2bh4u6v7+JY7DENhQBLAK4EuGZMvkDMEbN1pptM9EvxlsSefDCA3LA+CJEDKZzMlbiDCpjL01pr8+jbhEWDoKTFAXKh2H16X/7zlnLy4iaFH19y763Tg5DI5GcHfImesT4KivpE6Jg21sEyTagtvrEUCNHok4id+QjWb2rj2Nl4BHbJPL1m4w5TY4QGUEYtYX4iGSIHiVtFwEUSRFRRTaQXluNxikhO3TJgYpEioJIdJooGqIkSpUkMsJZIyqzCCBiS7YiRZx12uKQOeG80CFfsAMHHLDolwgdmZIZvYgAkilHK1pLLkme05FoCtJuWw4RRzDOc57ztD46ViA65SOCIwIk2mkRQJccPAJI3/rQ16+dZbgKduSFSTK05S7iGpKZ/uZKDqKriAgswhhZiPrRBdKABEV2y/qRel0tkshQNNW5NouNPiG9ZKGNRMFEq0XrRCWRc3NinCz84EekVL2OBcAxu4BUIf49OSeXniwhVCL8dEk/fRvywai5MCaAZIpUmysIKjIVHXnmaIo+I4B9tNVCxQIE3jyznW4hgKxd6lKXajZNhNBRAHbNok7E2LYugu5lKPLPLohyIvjZ8SAf9gguYcfZVLJPQuAtZswT5cwbCcFDDsleneTHvrIZ7IN2g6kp2Ks8+5vkLdJfsATnRQCLAE5yRosANX4WgDHcDDKDJXrQR71EZ5ATDp3xFl2xsrXiZbCAUxrXPe932mTEbTna+rHiZowZYU4aufTpf/uOnDLYIlVZUU9tO+0y0j0BFImIo2Kc44g4IxEEBrlPSBqD7rA+meR8HIcdAoj4hACqG8kVZeBgyE7UgmNBpp2t4kCRymwhaY98trIFnD5zWBwvAsjxjgmg7T5RklkEkIMaRwCXEUAkBgFEjjm1kBj6QhI4ZO1ZPOQZIgp3yiAviQCKhJCVaCNHq+44f+ODMbJGpkSWOG44RlSQK1iBUQTHwsEniwv6IRt6oBf6poNx/fNw3N+PrM0F2ERW8vKUSNk4wZw+iwDpv/HDHoIbAmgcIcgZa99m/72vX4TZeJBiJEP0rE8IoPmWLWBkm0zISp8QQ4uZcYJhOnCGE4m2dY5QwRW9IV/9nByXDwFUv4VDHwFcRABhxDY1mYqaIYCJrntmDiGAiKPoffpgUeHYBZsVAogQwjRSZk4gx2NckE8WmOpH5BB6EUB2sCe5IYDqHEcAewJosdfbVLgjc/JjT40LuWULzIuMgQx7Pdf3g0v2Zuk2c6gIYJG/HTEEARjjZIXMYXDa46gXY2YbxPYIB8CAIicihYC7iqFKm4y4aAmDjvxp26F+ERtbcT79b985HtumnOOqRjLt9gRQJAhxCwE00USRbF9ybAz+WBYcumiJLWBO1BYaGegTA47gIJhZ8SuP/HF6nBGS4awa52KLzDjJ01bmTkQAewI4KwI4iwCSgwig6IQolohFEkK8aAs4BJAMycE4JfpCABE1DruPHocAigCKwOStY3oJAURexxFAz+EH2eHk4QnB9d2fU7G46HGSMeRKb7a3Yds2JhIaciHPLKM8617q0x/tw6koE+IwiwAiSwii+YQEIJ2OUmwHAYRvCzkv1GgfAe6TbUr4hVNzjqzNYwQGAUTmenKWsogSYi8CCLOIJcKtDPLSvySWMv3V4sY8gHX1jEmm83uztoDhBwE0FkRrFgFU5ywCCH/mqGewJ3It2m4e0sGypO1EdC0QRMvnEUD96reAQwBFpi0YjR926FkdCD8bQdbkSY6OJrB/yHZs0iy81b3NIILBZxHAIoCTndEqxiEA4wBs5yBXHK6oX58YKoTPuTh/Z5JzY8zXiZbon8QQclaMuygMR+zjez79b98ZVWREf6dGRyKPjEeboi6JKo2dnYieVTkCgRhYqfdJP0TFOHDkyNaYpB5nvpwj4kxFICQRBc5LftGtfkuOE3RQXJnxSyCIi4iFZ5y1bcOkjGnRNXnJybZ2toD7qC0yp68icsgr+UrqRUhtCdqeQm6TkFT9ErVEKDnIkDx5bHEnAsgB50yWrWj1IIDaky/lkC7EGAF0JipvmaqvJ4DK5MypepES25GcJzJD1pwwvTgX6EgDfRlPn8gWMSYb8qBP5EIfesK4SL7jZ6lfH9QDPzDWk2d5yNy2teeifWSCDPggxWSDoJBrZKfcuL3x77TvHB7d2YL2dqp5mrN58pCZt021Y1HlvK/nFoDy0zlS2s8vfYM/pB6OzR8LG3hxD3FRJ2yHuGiLfumLAwsBRDCNmy6TtGXhSQfwZuxpX336aJ5YkDiHF/uUCDECqJw+wpnENokAImDmpb76wKy5YNEpMtwn9SFnsKFdv+EHjiwQLJaCP+XYBosN/bYF7EhBkqMIcAXTCHcWhOyP6CmMw5p2YAbxExEW6USuySxprOv6XQRw/PeeDx06VH8IuibGahMjBsZWBqNuG8jKmAHsEyMlUsah/cZv/EbbXrNi5xiSVpW9Ohl5bTG6Uz4MpnzKKb9Km+mnl0s4G9u3nJcoRu9oERyOw7keEQmOMc7IeBFh5USxEKEQPfLhaJARjjXOgJPhJPx9QISSrCUOlNPgEBNdiJPw3FjTFkKQtyY9mzLu1kh3rlGUhvOz5RfngoyIXCBzDsWHACrL0RqLvomkGSeHLsLFWXGitgSVSX3KwY+3PMmXnOlJ4jiRZGNBahGAlEMARd8QEITOma+MEQHkxEUA1R1d2OrUR/WJropK0g98uK9/Po4S9CSeA3b+EMmgg5wBRC4QN+WT0ocp15ShN1FQJAcxQPb67b+cFdU3pDURQsRFv5QLAYzs1D21D2QqkogUOaYAe0imsSJ6cErXxotsI1facbVQscijA9HpJPKzOLRVSQ8hp8ikRY0XQ+BExBze6Zoc88ITXIvyihKaU8ivhYc+mf/KmDNIq/4iT1kcGHf6Bo/KhdCatzkDKMrnxaIQQHksQLI9jMjRPZwhsQgdfPZRd3NTpBDGkUz1WxCSC3mJ5I0JoDkQAtjX5XgL4kie5MzuSOYffNq6zj11mofq8SIeeayq+yn4qDyr+ccjLa/MP3O6zgBWFHCSE1gFtIyl7Ujkj1NAEDhBq9MxCWSUHB5nhDkpzioOHFBXaVferaZ120N6OEgkhcMR7XPuj9MRPTJuDs/BcI7YliSyi7CIpFnVc4KcHYcRR4W0cOgiKEidiB5n4uP8IkLkgzzZZkZYbLMi1WSqHwgSp4hsiRJoW7QVefOCAl0hGFPGzoGoRzRVPaI0HAxSyREiXdoQLXNeztYYJyQaQa8cmD6REcLGcYoSc6q2GEMOOTNlOEwO37iRZ9EM5IBcECBO3BiMhYx8Fz1FDJybc35SP5A9xFqdSAQy5c1qsuNIRaeQckRAP5yp5Extm0nGjdQ5SxqijlzoN/3przNwdMq5i5CJhtnSdw4S0SYfRHOKnJMnePYbqUP8LAiQB0TfOCw2nGM1z/QJkeL8kRV6EkVDjsiWvEWCQjjSzqJr+qB9bZIZsmNcsEau5jd52n42B8jTYgVWzGkERL/Ndb/NFRFFBMtYEPKcb9VvpCsRMrozB+CITSFz4868CpkyRnNLZMzcszXr3CLMWASQHXujfjjwwo6xWETBJDIHvwgoYkpeCJ2xIa6ijSKvsGGc6qR3zxBwY4RRclCeXOAAdkX55IFZ9WcRZv5om560rQ24069Em0Ug2Rc6Cmkmf3mQR7IkF3POYlBbzi36kznwYA44m0gXfVqk83q2v0jdKvoKBooAFvlbyRktA1mAxVjZdrLit83IgDOayA7H3CfGWLSHI/Gxku0jZ8vanPW8r3/V77PqW3Qv9XPsiJTzPA6ki37ZPkJIOA1RJOPy1jHjz1jblkH8OADyQR44qH78ohyIHUemTs6Fs+dgGXn1k68tIWcPOXhvuHJMoh5IJYepXsRIOdte8iPcSBxd9dEkYxqPOeNkNNTDsSH36tEvxAgps43OgXHeojJIEOeNlFgYkAMCwPEjbMoaP6dFLsqJriC0HDuHKNLkPJNxcrpkgehyvIgC2RkL0qscAsrJcvB0gDiLXHHKnnGE6rZdR54+IVXqQhQ8R4r7iAnSZDsSCUJ+EFj9Rzr0SURTJEyfEB394aQRM45aBEidSWMZL/qtDFyQBzwgreQGQz7kZvFgkUVH+o1wIqe24fUDcdVPEc9Vjlmkv+pEnJANESp10r/2kV8YgAmYE/VHmOmb3JArMtFn+HOFVzqwQGEHjF9y9dtigQr0sdkAAAypSURBVE1Qn77Tse8WUUgRWyIvfZIJGdC1j+/6aT7SLTtE/2yNCJm6tU2H0RHCiPBbOMABHHqORGmPbOHO3DVueoc3+CRr81x//bkiONVnRxMsWNRtIWM+q19f4FnbMGpealsb5jASLfppDts5QL7p3+KF/shcG/I5G4r0WhAaq7llXmtX/9SNOMauLMJZPTu4xC+6zXwuAlgE8P84+oBkK1eOngMW/UJSGCwGlwEUCevrZpQ4I88Yqax0+zz75Xu2nTgE0SREx8qew4nxjWNGiERukDVXDpJz7wmHcYsEImfOlCFq6kUyRAk5QHJ2XxTNMySDM+IwyFzkiVPhJMkWaaIXEUROjUNUB8cyRc7GoR5EiONWh7qMUz/pEhHWBr0jQ0gX55aopmgkJygqgUgePny49RG5ME51kocIEsJkLJyrsWhLn7XBmSpjnMqQu34Yvzb0MYQMDtXhGXySh+fKWJiQof6qG1lOhCyEpDeaSK5oDsdqu89V3+BXFMtYEUhj9/GMXowHIZoi53GetO9qbMYi8oNsi54ZPz1GxvIhUfRNT8ZPdvptrhnfuI1lv9Upj8gbuSKXSDacW7hpi/w9M15bl8EzmYvWkrH+2mIlc4uGnL1L/a5S7Ij+wze8IHq9LOXTBizAjEWUyBudao9O9EkddKLv5OIqP7lER+aUKBz9wmzwJh+cwbcFHIyQpTqDbQtAuqUDdSJtCCjiZy7AMPtgTOqnv+CDvMhO25nr7qlHG3DqWWQJY9G/Oa+fyLYXb5QhW9E/MpCP/ckRh2U6rudFAEfnAOsMYE2K1SbF/5rv+f/28pyVq3++n77PGkvuZRz57cqgZ0uwv5+8rruZ+nYXfV+3T7PGE6e2bp07XW4sh749fe8JV/9s0fdxnav87utVDn7GfUh9fd5Z35NvlWtfj/Eruyil7j6P/oo+jFPyLquzLzfOm+hnn+dIfNePsV622o/xWOfVp11Eczy3evnW99V82kGSV3BTEcCKAK4cBZgyEQKweddxHeN84+f75fd4HP3vjKG/N+978rruZurbXfR93T6lznXL73a59Le/brUPfV3rfJ/Sfupdljf5Vrkuq3P8PHWP749/J19/HeeZ9Tv5Zz07aPe2OtaUr+vmkj+6TyoCWARwRwhgGZhpBiYT0XUrMtuuerbSh1XL9n3e6vhXbXs78u+F/h/JPqzb9lbLLdJdX/eifDv9rO+H7zvdXl//kWy770d9n+YDjoScgpEigEUAd9U4HQmwV5t71xCVbko3hYHCQGFgdzFQBLCIXxG/wkBhoDBQGCgMFAY2DANFADdM4bXC2t0VVsm75F0YKAwUBgoDexEDRQCLANaqrzBQGCgMFAYKA4WBDcNAEcANU/heXIVUn2p1XBgoDBQGCgOFgd3FQBHAIoC16isMFAYKA4WBwkBhYMMwUARwwxReK6zdXWGVvEvehYHCQGGgMLAXMVAEsAhgrfoKA4WBwkBhoDBQGNgwDBQB3DCF78VVSPWpVseFgcJAYaAwUBjYXQwUASwCWKu+wkBhoDBQGCgMFAY2DANFADdM4bXC2t0VVsm75F0YKAwUBgoDexEDRQCLANaqrzBQGCgMFAYKA4WBDcNAEcANU/heXIVUn2p1XBgoDBQGCgOFgd3FQBHAIoC16isMFAYKA4WBwkBhYMMwUARwwxReK6zdXWGVvEvehYHCQGGgMLAXMVAEsAhgrfoKA4WBwkBhoDBQGNgwDBQB3DCF78VVSPWpVseFgcJAYaAwUBjYXQwUASwCWKu+wkBhoDBQGCgMFAY2DANFADdM4bXC2t0VVsm75F0YKAwUBgoDexEDRQCLANaqrzBQGCgMFAYKA4WBDcNAEcANU/heXIVUn2p1XBgoDBQGCgOFgd3FQBHAIoC16isMFAYKA4WBwkBhYMMwUARwwxReK6zdXWGVvEvehYHCQGGgMLAXMVAEsAhgrfoKA4WBwkBhoDBQGNgwDBQB3DCF78VVSPWpVseFgcJAYaAwUBjYXQwUASwCWKu+wkBhoDBQGCgMFAY2DANFADdM4bXC2t0VVsm75F0YKAwUBgoDexEDRQCLANaqrzBQGCgMFAYKA4WBDcNAEcANU/heXIVUn2p1XBgoDBQGCgOFgd3FQBHAIoC16isMFAYKA4WBwkBhYMMwUARwwxReK6zdXWGVvEvehYHCQGGgMLAXMVAEsAhgrfoKA4WBwkBhoDBQGNgwDBQB3DCF78VVSPWpVseFgcJAYaAwUBjYXQwUASwCWKu+wkBhoDBQGCgMFAY2DANFADdM4bXC2t0VVsm75F0YKAwUBgoDexEDRQCLANaqrzBQGCgMFAYKA4WBDcNAEcANU/heXIVUn2p1XBgoDBQGCgOFgd3FQBHAIoC16isMFAYKA4WBwkBhYMMwUARwwxReK6zdXWGVvEvehYHCQGGgMLAXMVAEsAhgrfoKA4WBwkBhoDBQGNgwDBQB3DCF78VVSPWpVseFgcJAYaAwUBjYXQwUASwCWKu+wkBhoDBQGCgMFAY2DANFADdM4bXC2t0VVsm75F0YKAwUBgoDexEDRQCLANaqrzBQGCgMFAYKA4WBDcNAEcANU/heXIVUn2p1XBgoDBQGCgOFgd3FQBHAIoC16isMFAYKA4WBwkBhYMMwUARwwxReK6zdXWGVvEvehYHCQGGgMLAXMVAEsAhgrfoKA4WBwkBhoDBQGNgwDBQB3DCF78VVSPWpVseFgcJAYaAwUBjYXQwUASwCWKu+wkBhoDBQGCgMFAY2DANFADdM4bXC2t0VVsm75F0YKAwUBgoDexEDRQCLANaqrzBQGCgMFAYKA4WBDcNAEcANU/heXIVUn2p1XBgoDBQGCgOFgd3FQBHAIoC16isMFAYKA4WBwkBhYMMwUARwwxReK6zdXWGVvEvehYHCQGGgMLAXMVAEsAhgrfoKA4WBwkBhoDBQGNgwDBQB3DCF78VVSPWpVseFgcJAYaAwUBjYXQwUASwCWKu+wkBhoDBQGCgMFAY2DANFADdM4bXC2t0VVsm75F0YKAwUBgoDexEDRQCLANaqrzBQGCgMFAYKA4WBDcNAEcANU/heXIVUn2p1XBgoDBQGCgOFgd3FQBHAIoC16isMFAYKA4WBwkBhYMMwUARwwxReK6zdXWGVvEvehYHCQGGgMLAXMVAEsAhgrfoKA4WBwkBhoDBQGNgwDBQB3DCF78VVSPWpVseFgcJAYaAwUBjYXQwUASwCWKu+wkBhoDBQGCgMFAY2DANFAP9fe3fPmlYYh2H8GWxrK7UvaKEQQsE0GVqspHRoXVTSQj9BS8BVfOEYXY7rGcXBiBn6CVytTp1Kh2ToouCi4FLyIaQIguWWBopxiEKTk3gFHsybYv7nR7ieE6NrdsDZYV3uDot5M28MYAADGHCjAQKQAGTXhwEMYAADGMDAmhkgANfsgLtxF8J9YneMAQxgAAMYuFwD/yUAJ5PJ2e1yyQSYABNgAkyACTABJuDSCajZ+v3+cbPZfGuMMX6/f8sYM51bv/S1H3OfnHo8nj19odVqvRsMBj9d+jNyt5gAE2ACTIAJMAEmwATmJqB2U8OtHIDtdjs6HA47ut3xeDwdjUYsZoABDGAAAxjAAAZcaECtpje1mxpupQBMpVK3Go1GpNfrHZ6enn7v9Xon3W73pNPpHLOYAQYwgAEMYAADGHCPATWaWu1vsx2q4dRyS/0J2Ov17lmW5S+VSpu1Wu3N0dHRx0ql8qlcLu+Xy+XPLGaAAQxgAAMYwAAGXGVgX62mZlO7qeHUcsFg8Pn8Q/2MMYsfA+jz+d7btn0/mUw+CYfDG6FQaCsajb6IxWKReDz+OpFI7LKYAQYwgAEMYAADGLh6A2ozNZpaTc2mdlPDqeUCgcD2UgFYrVbvZjKZR+l0+lkul9s+ODjYyefzL7PZbMSyrFcsZoABDGAAAxjAAAau3oDaTI2mVlOzqd3UcGq5ZQPwQ71ev+M4zr1isfi4UCg8tW17I5/Pb7KYAQYwgAEMYAADGHCfAbWamk3tpoZTywUCgZ1lzgDOAlBXVD3qFGKpVHqg5TiOHhs4e59L5oABDGAAAxjAAAau1sC/baZmU7up4VYKQMdxvFq6smVZOht4m8UMMIABDGAAAxjAgHsNqNnUbmcdt9QZwAWnCuefQZqPzz+rNjNhJhjAAAYwgAEMXAcDi/8LmAA895Ip1+Fgch/5pYMBDGAAAxjAwEUMzALwG8FH8GEAAxjAAAYwgIG1MTALQIcDvjYH/CK7Ar6H3SMGMIABDGDgZhv4qpeJ8xpjvhhjfhOChCAGMIABDGAAAxi40QYUfw//AEVXTBbKUQyyAAAAAElFTkSuQmCC)"
      ],
      "metadata": {
        "id": "_kqHIA3ExwT0"
      }
    },
    {
      "cell_type": "code",
      "source": [
        "Y=df['Liked']"
      ],
      "metadata": {
        "id": "-LyHu_VdjQHQ"
      },
      "execution_count": 14,
      "outputs": []
    },
    {
      "cell_type": "code",
      "source": [
        "Y.head()"
      ],
      "metadata": {
        "colab": {
          "base_uri": "https://localhost:8080/"
        },
        "id": "iC5VsIKVjQKU",
        "outputId": "b1b20e0a-4cc8-43e7-aed4-22e2c17d898c"
      },
      "execution_count": 15,
      "outputs": [
        {
          "output_type": "execute_result",
          "data": {
            "text/plain": [
              "0    1\n",
              "1    0\n",
              "2    0\n",
              "3    1\n",
              "4    1\n",
              "Name: Liked, dtype: int64"
            ]
          },
          "metadata": {},
          "execution_count": 15
        }
      ]
    },
    {
      "cell_type": "markdown",
      "source": [
        "### Apply Train test split\n"
      ],
      "metadata": {
        "id": "LohCn9w4x5G7"
      }
    },
    {
      "cell_type": "code",
      "source": [
        "from sklearn.model_selection import train_test_split\n",
        "xtrain,xtest,ytrain,ytest = train_test_split(X_pre,Y,test_size=0.2,random_state=21)"
      ],
      "metadata": {
        "id": "v-iWvEZojQNj"
      },
      "execution_count": 16,
      "outputs": []
    },
    {
      "cell_type": "code",
      "source": [
        "xtrain"
      ],
      "metadata": {
        "colab": {
          "base_uri": "https://localhost:8080/"
        },
        "id": "rcuSonUKjQQ1",
        "outputId": "c7b544ab-7254-4984-a21d-bd750efd7cb6"
      },
      "execution_count": 17,
      "outputs": [
        {
          "output_type": "execute_result",
          "data": {
            "text/plain": [
              "array([[0.        , 0.        , 0.        , ..., 0.        , 0.        ,\n",
              "        0.        ],\n",
              "       [0.        , 0.        , 0.        , ..., 0.        , 0.        ,\n",
              "        0.        ],\n",
              "       [0.        , 0.        , 0.        , ..., 0.        , 0.        ,\n",
              "        0.        ],\n",
              "       ...,\n",
              "       [0.        , 0.        , 0.        , ..., 0.        , 0.        ,\n",
              "        0.        ],\n",
              "       [0.        , 0.        , 0.        , ..., 0.        , 0.        ,\n",
              "        0.        ],\n",
              "       [0.27867055, 0.        , 0.        , ..., 0.        , 0.        ,\n",
              "        0.        ]])"
            ]
          },
          "metadata": {},
          "execution_count": 17
        }
      ]
    },
    {
      "cell_type": "code",
      "source": [
        "ytrain"
      ],
      "metadata": {
        "colab": {
          "base_uri": "https://localhost:8080/"
        },
        "id": "eB6aCxpnjQUB",
        "outputId": "97913ffa-1a7a-49da-8eb3-33faf7020514"
      },
      "execution_count": 18,
      "outputs": [
        {
          "output_type": "execute_result",
          "data": {
            "text/plain": [
              "108    1\n",
              "134    1\n",
              "585    1\n",
              "42     0\n",
              "990    0\n",
              "      ..\n",
              "48     1\n",
              "772    0\n",
              "824    0\n",
              "207    0\n",
              "969    0\n",
              "Name: Liked, Length: 800, dtype: int64"
            ]
          },
          "metadata": {},
          "execution_count": 18
        }
      ]
    },
    {
      "cell_type": "code",
      "source": [
        "xtest"
      ],
      "metadata": {
        "colab": {
          "base_uri": "https://localhost:8080/"
        },
        "id": "GpdFuRe7jQXI",
        "outputId": "e1aff8fe-917a-4d66-fbfc-d6b5c23300b3"
      },
      "execution_count": 19,
      "outputs": [
        {
          "output_type": "execute_result",
          "data": {
            "text/plain": [
              "array([[0., 0., 0., ..., 0., 0., 0.],\n",
              "       [0., 0., 0., ..., 0., 0., 0.],\n",
              "       [0., 0., 0., ..., 0., 0., 0.],\n",
              "       ...,\n",
              "       [0., 0., 0., ..., 0., 0., 0.],\n",
              "       [0., 0., 0., ..., 0., 0., 0.],\n",
              "       [0., 0., 0., ..., 0., 0., 0.]])"
            ]
          },
          "metadata": {},
          "execution_count": 19
        }
      ]
    },
    {
      "cell_type": "code",
      "source": [
        "ytest"
      ],
      "metadata": {
        "colab": {
          "base_uri": "https://localhost:8080/"
        },
        "id": "YNIogXOYjQaQ",
        "outputId": "4bb80f4b-b6a3-4e4e-c873-f5e79654fecd"
      },
      "execution_count": 20,
      "outputs": [
        {
          "output_type": "execute_result",
          "data": {
            "text/plain": [
              "492    0\n",
              "383    0\n",
              "856    1\n",
              "834    1\n",
              "603    1\n",
              "      ..\n",
              "72     0\n",
              "400    0\n",
              "813    0\n",
              "195    1\n",
              "45     1\n",
              "Name: Liked, Length: 200, dtype: int64"
            ]
          },
          "metadata": {},
          "execution_count": 20
        }
      ]
    },
    {
      "cell_type": "code",
      "source": [
        "xtrain.shape"
      ],
      "metadata": {
        "colab": {
          "base_uri": "https://localhost:8080/"
        },
        "id": "SrkXsGfPjQdr",
        "outputId": "4dc959ab-e481-4978-bc3f-0428e051fefb"
      },
      "execution_count": 21,
      "outputs": [
        {
          "output_type": "execute_result",
          "data": {
            "text/plain": [
              "(800, 2046)"
            ]
          },
          "metadata": {},
          "execution_count": 21
        }
      ]
    },
    {
      "cell_type": "code",
      "source": [
        "xtest.shape"
      ],
      "metadata": {
        "colab": {
          "base_uri": "https://localhost:8080/"
        },
        "id": "NHquikHTjQgx",
        "outputId": "92595ca8-ba82-4cf7-a6ae-2ea227df0f27"
      },
      "execution_count": 22,
      "outputs": [
        {
          "output_type": "execute_result",
          "data": {
            "text/plain": [
              "(200, 2046)"
            ]
          },
          "metadata": {},
          "execution_count": 22
        }
      ]
    },
    {
      "cell_type": "markdown",
      "source": [
        "### Build The Neural Net\n"
      ],
      "metadata": {
        "id": "blamrGJVycca"
      }
    },
    {
      "cell_type": "code",
      "source": [
        "from keras.models import Sequential\n",
        "from keras.layers import Dense,Dropout,Input\n",
        "from keras.callbacks import EarlyStopping"
      ],
      "metadata": {
        "id": "u6giPNdRjQj3"
      },
      "execution_count": 23,
      "outputs": []
    },
    {
      "cell_type": "code",
      "source": [
        "model = Sequential()\n",
        "\n",
        "# Input layer\n",
        "model.add(Input(shape=(xtrain.shape[1],)))\n",
        "\n",
        "# Hidden layer 1\n",
        "model.add(Dense(256,activation='relu'))\n",
        "# Dropout layer 1\n",
        "model.add(Dropout(0.6))\n",
        "\n",
        "# Hidden layer 2\n",
        "model.add(Dense(128,activation='relu'))\n",
        "# Dropout layer 2\n",
        "model.add(Dropout(0.6))\n",
        "\n",
        "# Output layer\n",
        "model.add(Dense(1,activation='sigmoid'))\n"
      ],
      "metadata": {
        "id": "F3b3OSaijQm_"
      },
      "execution_count": 24,
      "outputs": []
    },
    {
      "cell_type": "code",
      "source": [
        "model.summary()"
      ],
      "metadata": {
        "colab": {
          "base_uri": "https://localhost:8080/"
        },
        "id": "gptv4PqhjQqH",
        "outputId": "7ae13997-79a6-4585-a23d-51ee79a911bc"
      },
      "execution_count": 25,
      "outputs": [
        {
          "output_type": "stream",
          "name": "stdout",
          "text": [
            "Model: \"sequential\"\n",
            "_________________________________________________________________\n",
            " Layer (type)                Output Shape              Param #   \n",
            "=================================================================\n",
            " dense (Dense)               (None, 256)               524032    \n",
            "                                                                 \n",
            " dropout (Dropout)           (None, 256)               0         \n",
            "                                                                 \n",
            " dense_1 (Dense)             (None, 128)               32896     \n",
            "                                                                 \n",
            " dropout_1 (Dropout)         (None, 128)               0         \n",
            "                                                                 \n",
            " dense_2 (Dense)             (None, 1)                 129       \n",
            "                                                                 \n",
            "=================================================================\n",
            "Total params: 557057 (2.13 MB)\n",
            "Trainable params: 557057 (2.13 MB)\n",
            "Non-trainable params: 0 (0.00 Byte)\n",
            "_________________________________________________________________\n"
          ]
        }
      ]
    },
    {
      "cell_type": "code",
      "source": [
        "model.compile(optimizer='adam',loss='binary_crossentropy',metrics=['accuracy'])"
      ],
      "metadata": {
        "id": "fG8qfoZ3jQtL"
      },
      "execution_count": 26,
      "outputs": []
    },
    {
      "cell_type": "code",
      "source": [
        "es = EarlyStopping(patience=100)"
      ],
      "metadata": {
        "id": "YSdnVtLKjQwP"
      },
      "execution_count": 27,
      "outputs": []
    },
    {
      "cell_type": "code",
      "source": [
        "hist = model.fit(xtrain,ytrain,validation_split=0.2,epochs=100,callbacks=[es])"
      ],
      "metadata": {
        "colab": {
          "base_uri": "https://localhost:8080/"
        },
        "id": "b1QMuRk3jQzd",
        "outputId": "1a2b6b13-9258-40df-cc5d-edf9617eeea3"
      },
      "execution_count": 28,
      "outputs": [
        {
          "output_type": "stream",
          "name": "stdout",
          "text": [
            "Epoch 1/100\n",
            "20/20 [==============================] - 4s 19ms/step - loss: 0.6939 - accuracy: 0.4828 - val_loss: 0.6886 - val_accuracy: 0.6500\n",
            "Epoch 2/100\n",
            "20/20 [==============================] - 0s 6ms/step - loss: 0.6814 - accuracy: 0.6047 - val_loss: 0.6848 - val_accuracy: 0.5312\n",
            "Epoch 3/100\n",
            "20/20 [==============================] - 0s 7ms/step - loss: 0.6568 - accuracy: 0.7312 - val_loss: 0.6661 - val_accuracy: 0.6313\n",
            "Epoch 4/100\n",
            "20/20 [==============================] - 0s 7ms/step - loss: 0.5839 - accuracy: 0.8594 - val_loss: 0.6098 - val_accuracy: 0.7812\n",
            "Epoch 5/100\n",
            "20/20 [==============================] - 0s 6ms/step - loss: 0.4584 - accuracy: 0.9016 - val_loss: 0.5179 - val_accuracy: 0.7875\n",
            "Epoch 6/100\n",
            "20/20 [==============================] - 0s 6ms/step - loss: 0.2740 - accuracy: 0.9438 - val_loss: 0.4462 - val_accuracy: 0.7812\n",
            "Epoch 7/100\n",
            "20/20 [==============================] - 0s 9ms/step - loss: 0.1562 - accuracy: 0.9625 - val_loss: 0.4305 - val_accuracy: 0.7937\n",
            "Epoch 8/100\n",
            "20/20 [==============================] - 0s 7ms/step - loss: 0.0875 - accuracy: 0.9859 - val_loss: 0.4406 - val_accuracy: 0.8000\n",
            "Epoch 9/100\n",
            "20/20 [==============================] - 0s 7ms/step - loss: 0.0514 - accuracy: 0.9859 - val_loss: 0.4644 - val_accuracy: 0.7812\n",
            "Epoch 10/100\n",
            "20/20 [==============================] - 0s 5ms/step - loss: 0.0308 - accuracy: 0.9969 - val_loss: 0.4877 - val_accuracy: 0.7812\n",
            "Epoch 11/100\n",
            "20/20 [==============================] - 0s 4ms/step - loss: 0.0213 - accuracy: 0.9969 - val_loss: 0.5191 - val_accuracy: 0.7812\n",
            "Epoch 12/100\n",
            "20/20 [==============================] - 0s 4ms/step - loss: 0.0120 - accuracy: 1.0000 - val_loss: 0.5434 - val_accuracy: 0.7500\n",
            "Epoch 13/100\n",
            "20/20 [==============================] - 0s 4ms/step - loss: 0.0098 - accuracy: 1.0000 - val_loss: 0.5300 - val_accuracy: 0.8000\n",
            "Epoch 14/100\n",
            "20/20 [==============================] - 0s 5ms/step - loss: 0.0089 - accuracy: 1.0000 - val_loss: 0.5538 - val_accuracy: 0.8000\n",
            "Epoch 15/100\n",
            "20/20 [==============================] - 0s 4ms/step - loss: 0.0068 - accuracy: 1.0000 - val_loss: 0.5975 - val_accuracy: 0.7750\n",
            "Epoch 16/100\n",
            "20/20 [==============================] - 0s 5ms/step - loss: 0.0068 - accuracy: 1.0000 - val_loss: 0.6166 - val_accuracy: 0.7750\n",
            "Epoch 17/100\n",
            "20/20 [==============================] - 0s 5ms/step - loss: 0.0041 - accuracy: 1.0000 - val_loss: 0.6130 - val_accuracy: 0.7875\n",
            "Epoch 18/100\n",
            "20/20 [==============================] - 0s 5ms/step - loss: 0.0053 - accuracy: 0.9984 - val_loss: 0.6638 - val_accuracy: 0.7563\n",
            "Epoch 19/100\n",
            "20/20 [==============================] - 0s 5ms/step - loss: 0.0028 - accuracy: 1.0000 - val_loss: 0.6509 - val_accuracy: 0.7812\n",
            "Epoch 20/100\n",
            "20/20 [==============================] - 0s 5ms/step - loss: 0.0028 - accuracy: 1.0000 - val_loss: 0.6321 - val_accuracy: 0.7937\n",
            "Epoch 21/100\n",
            "20/20 [==============================] - 0s 4ms/step - loss: 0.0030 - accuracy: 1.0000 - val_loss: 0.6542 - val_accuracy: 0.7937\n",
            "Epoch 22/100\n",
            "20/20 [==============================] - 0s 4ms/step - loss: 0.0022 - accuracy: 1.0000 - val_loss: 0.6570 - val_accuracy: 0.8000\n",
            "Epoch 23/100\n",
            "20/20 [==============================] - 0s 5ms/step - loss: 0.0033 - accuracy: 1.0000 - val_loss: 0.6623 - val_accuracy: 0.7937\n",
            "Epoch 24/100\n",
            "20/20 [==============================] - 0s 4ms/step - loss: 0.0023 - accuracy: 1.0000 - val_loss: 0.6645 - val_accuracy: 0.7875\n",
            "Epoch 25/100\n",
            "20/20 [==============================] - 0s 4ms/step - loss: 0.0016 - accuracy: 1.0000 - val_loss: 0.7053 - val_accuracy: 0.7812\n",
            "Epoch 26/100\n",
            "20/20 [==============================] - 0s 6ms/step - loss: 0.0016 - accuracy: 1.0000 - val_loss: 0.7332 - val_accuracy: 0.7688\n",
            "Epoch 27/100\n",
            "20/20 [==============================] - 0s 6ms/step - loss: 0.0019 - accuracy: 1.0000 - val_loss: 0.7329 - val_accuracy: 0.7750\n",
            "Epoch 28/100\n",
            "20/20 [==============================] - 0s 5ms/step - loss: 0.0011 - accuracy: 1.0000 - val_loss: 0.7472 - val_accuracy: 0.7688\n",
            "Epoch 29/100\n",
            "20/20 [==============================] - 0s 5ms/step - loss: 0.0019 - accuracy: 1.0000 - val_loss: 0.7506 - val_accuracy: 0.7688\n",
            "Epoch 30/100\n",
            "20/20 [==============================] - 0s 4ms/step - loss: 9.1988e-04 - accuracy: 1.0000 - val_loss: 0.7921 - val_accuracy: 0.7625\n",
            "Epoch 31/100\n",
            "20/20 [==============================] - 0s 5ms/step - loss: 0.0012 - accuracy: 1.0000 - val_loss: 0.7531 - val_accuracy: 0.7750\n",
            "Epoch 32/100\n",
            "20/20 [==============================] - 0s 4ms/step - loss: 8.6679e-04 - accuracy: 1.0000 - val_loss: 0.7650 - val_accuracy: 0.7688\n",
            "Epoch 33/100\n",
            "20/20 [==============================] - 0s 5ms/step - loss: 9.8500e-04 - accuracy: 1.0000 - val_loss: 0.7573 - val_accuracy: 0.7688\n",
            "Epoch 34/100\n",
            "20/20 [==============================] - 0s 5ms/step - loss: 5.8936e-04 - accuracy: 1.0000 - val_loss: 0.7691 - val_accuracy: 0.7625\n",
            "Epoch 35/100\n",
            "20/20 [==============================] - 0s 4ms/step - loss: 8.0931e-04 - accuracy: 1.0000 - val_loss: 0.7792 - val_accuracy: 0.7563\n",
            "Epoch 36/100\n",
            "20/20 [==============================] - 0s 6ms/step - loss: 6.9857e-04 - accuracy: 1.0000 - val_loss: 0.8004 - val_accuracy: 0.7688\n",
            "Epoch 37/100\n",
            "20/20 [==============================] - 0s 5ms/step - loss: 6.1186e-04 - accuracy: 1.0000 - val_loss: 0.8157 - val_accuracy: 0.7750\n",
            "Epoch 38/100\n",
            "20/20 [==============================] - 0s 4ms/step - loss: 7.2614e-04 - accuracy: 1.0000 - val_loss: 0.8020 - val_accuracy: 0.7563\n",
            "Epoch 39/100\n",
            "20/20 [==============================] - 0s 5ms/step - loss: 6.4092e-04 - accuracy: 1.0000 - val_loss: 0.8013 - val_accuracy: 0.7688\n",
            "Epoch 40/100\n",
            "20/20 [==============================] - 0s 4ms/step - loss: 4.1818e-04 - accuracy: 1.0000 - val_loss: 0.8027 - val_accuracy: 0.7625\n",
            "Epoch 41/100\n",
            "20/20 [==============================] - 0s 5ms/step - loss: 4.4756e-04 - accuracy: 1.0000 - val_loss: 0.8112 - val_accuracy: 0.7563\n",
            "Epoch 42/100\n",
            "20/20 [==============================] - 0s 4ms/step - loss: 6.0035e-04 - accuracy: 1.0000 - val_loss: 0.8326 - val_accuracy: 0.7625\n",
            "Epoch 43/100\n",
            "20/20 [==============================] - 0s 5ms/step - loss: 3.3507e-04 - accuracy: 1.0000 - val_loss: 0.8430 - val_accuracy: 0.7625\n",
            "Epoch 44/100\n",
            "20/20 [==============================] - 0s 4ms/step - loss: 4.1618e-04 - accuracy: 1.0000 - val_loss: 0.8475 - val_accuracy: 0.7625\n",
            "Epoch 45/100\n",
            "20/20 [==============================] - 0s 4ms/step - loss: 3.0561e-04 - accuracy: 1.0000 - val_loss: 0.8500 - val_accuracy: 0.7625\n",
            "Epoch 46/100\n",
            "20/20 [==============================] - 0s 6ms/step - loss: 4.5593e-04 - accuracy: 1.0000 - val_loss: 0.8483 - val_accuracy: 0.7625\n",
            "Epoch 47/100\n",
            "20/20 [==============================] - 0s 5ms/step - loss: 3.8015e-04 - accuracy: 1.0000 - val_loss: 0.8318 - val_accuracy: 0.7625\n",
            "Epoch 48/100\n",
            "20/20 [==============================] - 0s 5ms/step - loss: 2.5276e-04 - accuracy: 1.0000 - val_loss: 0.8324 - val_accuracy: 0.7563\n",
            "Epoch 49/100\n",
            "20/20 [==============================] - 0s 5ms/step - loss: 2.3665e-04 - accuracy: 1.0000 - val_loss: 0.8377 - val_accuracy: 0.7625\n",
            "Epoch 50/100\n",
            "20/20 [==============================] - 0s 4ms/step - loss: 4.5096e-04 - accuracy: 1.0000 - val_loss: 0.8626 - val_accuracy: 0.7563\n",
            "Epoch 51/100\n",
            "20/20 [==============================] - 0s 5ms/step - loss: 0.0011 - accuracy: 1.0000 - val_loss: 0.8726 - val_accuracy: 0.7688\n",
            "Epoch 52/100\n",
            "20/20 [==============================] - 0s 5ms/step - loss: 2.6165e-04 - accuracy: 1.0000 - val_loss: 0.9527 - val_accuracy: 0.7375\n",
            "Epoch 53/100\n",
            "20/20 [==============================] - 0s 4ms/step - loss: 2.0710e-04 - accuracy: 1.0000 - val_loss: 0.9578 - val_accuracy: 0.7437\n",
            "Epoch 54/100\n",
            "20/20 [==============================] - 0s 5ms/step - loss: 4.4400e-04 - accuracy: 1.0000 - val_loss: 0.9193 - val_accuracy: 0.7563\n",
            "Epoch 55/100\n",
            "20/20 [==============================] - 0s 4ms/step - loss: 2.4764e-04 - accuracy: 1.0000 - val_loss: 0.9090 - val_accuracy: 0.7625\n",
            "Epoch 56/100\n",
            "20/20 [==============================] - 0s 6ms/step - loss: 4.6477e-04 - accuracy: 1.0000 - val_loss: 0.9314 - val_accuracy: 0.7563\n",
            "Epoch 57/100\n",
            "20/20 [==============================] - 0s 5ms/step - loss: 2.7564e-04 - accuracy: 1.0000 - val_loss: 0.9237 - val_accuracy: 0.7563\n",
            "Epoch 58/100\n",
            "20/20 [==============================] - 0s 5ms/step - loss: 2.0238e-04 - accuracy: 1.0000 - val_loss: 0.9231 - val_accuracy: 0.7625\n",
            "Epoch 59/100\n",
            "20/20 [==============================] - 0s 4ms/step - loss: 2.1994e-04 - accuracy: 1.0000 - val_loss: 0.9273 - val_accuracy: 0.7625\n",
            "Epoch 60/100\n",
            "20/20 [==============================] - 0s 4ms/step - loss: 1.8175e-04 - accuracy: 1.0000 - val_loss: 0.9307 - val_accuracy: 0.7625\n",
            "Epoch 61/100\n",
            "20/20 [==============================] - 0s 5ms/step - loss: 3.8412e-04 - accuracy: 1.0000 - val_loss: 0.9541 - val_accuracy: 0.7563\n",
            "Epoch 62/100\n",
            "20/20 [==============================] - 0s 4ms/step - loss: 2.0729e-04 - accuracy: 1.0000 - val_loss: 0.9665 - val_accuracy: 0.7563\n",
            "Epoch 63/100\n",
            "20/20 [==============================] - 0s 5ms/step - loss: 3.1191e-04 - accuracy: 1.0000 - val_loss: 0.9648 - val_accuracy: 0.7563\n",
            "Epoch 64/100\n",
            "20/20 [==============================] - 0s 5ms/step - loss: 1.6638e-04 - accuracy: 1.0000 - val_loss: 0.9486 - val_accuracy: 0.7563\n",
            "Epoch 65/100\n",
            "20/20 [==============================] - 0s 5ms/step - loss: 1.5419e-04 - accuracy: 1.0000 - val_loss: 0.9453 - val_accuracy: 0.7563\n",
            "Epoch 66/100\n",
            "20/20 [==============================] - 0s 5ms/step - loss: 2.4051e-04 - accuracy: 1.0000 - val_loss: 0.9363 - val_accuracy: 0.7688\n",
            "Epoch 67/100\n",
            "20/20 [==============================] - 0s 5ms/step - loss: 1.2612e-04 - accuracy: 1.0000 - val_loss: 0.9363 - val_accuracy: 0.7625\n",
            "Epoch 68/100\n",
            "20/20 [==============================] - 0s 5ms/step - loss: 1.3781e-04 - accuracy: 1.0000 - val_loss: 0.9430 - val_accuracy: 0.7625\n",
            "Epoch 69/100\n",
            "20/20 [==============================] - 0s 4ms/step - loss: 1.9418e-04 - accuracy: 1.0000 - val_loss: 0.9562 - val_accuracy: 0.7625\n",
            "Epoch 70/100\n",
            "20/20 [==============================] - 0s 4ms/step - loss: 1.6458e-04 - accuracy: 1.0000 - val_loss: 0.9708 - val_accuracy: 0.7563\n",
            "Epoch 71/100\n",
            "20/20 [==============================] - 0s 4ms/step - loss: 1.9539e-04 - accuracy: 1.0000 - val_loss: 0.9647 - val_accuracy: 0.7563\n",
            "Epoch 72/100\n",
            "20/20 [==============================] - 0s 5ms/step - loss: 1.2539e-04 - accuracy: 1.0000 - val_loss: 0.9682 - val_accuracy: 0.7563\n",
            "Epoch 73/100\n",
            "20/20 [==============================] - 0s 4ms/step - loss: 1.4755e-04 - accuracy: 1.0000 - val_loss: 0.9783 - val_accuracy: 0.7625\n",
            "Epoch 74/100\n",
            "20/20 [==============================] - 0s 5ms/step - loss: 2.5446e-04 - accuracy: 1.0000 - val_loss: 1.0320 - val_accuracy: 0.7563\n",
            "Epoch 75/100\n",
            "20/20 [==============================] - 0s 5ms/step - loss: 2.1263e-04 - accuracy: 1.0000 - val_loss: 1.0460 - val_accuracy: 0.7500\n",
            "Epoch 76/100\n",
            "20/20 [==============================] - 0s 5ms/step - loss: 1.2065e-04 - accuracy: 1.0000 - val_loss: 1.0505 - val_accuracy: 0.7500\n",
            "Epoch 77/100\n",
            "20/20 [==============================] - 0s 5ms/step - loss: 2.3663e-04 - accuracy: 1.0000 - val_loss: 1.0113 - val_accuracy: 0.7625\n",
            "Epoch 78/100\n",
            "20/20 [==============================] - 0s 5ms/step - loss: 1.3715e-04 - accuracy: 1.0000 - val_loss: 1.0021 - val_accuracy: 0.7563\n",
            "Epoch 79/100\n",
            "20/20 [==============================] - 0s 5ms/step - loss: 0.0016 - accuracy: 0.9984 - val_loss: 0.9344 - val_accuracy: 0.7563\n",
            "Epoch 80/100\n",
            "20/20 [==============================] - 0s 6ms/step - loss: 2.1489e-04 - accuracy: 1.0000 - val_loss: 0.9334 - val_accuracy: 0.7688\n",
            "Epoch 81/100\n",
            "20/20 [==============================] - 0s 6ms/step - loss: 3.0829e-04 - accuracy: 1.0000 - val_loss: 0.9484 - val_accuracy: 0.7688\n",
            "Epoch 82/100\n",
            "20/20 [==============================] - 0s 5ms/step - loss: 2.0146e-04 - accuracy: 1.0000 - val_loss: 0.9691 - val_accuracy: 0.7688\n",
            "Epoch 83/100\n",
            "20/20 [==============================] - 0s 5ms/step - loss: 9.2850e-05 - accuracy: 1.0000 - val_loss: 0.9760 - val_accuracy: 0.7688\n",
            "Epoch 84/100\n",
            "20/20 [==============================] - 0s 4ms/step - loss: 1.1241e-04 - accuracy: 1.0000 - val_loss: 0.9845 - val_accuracy: 0.7688\n",
            "Epoch 85/100\n",
            "20/20 [==============================] - 0s 6ms/step - loss: 1.7992e-04 - accuracy: 1.0000 - val_loss: 1.0031 - val_accuracy: 0.7688\n",
            "Epoch 86/100\n",
            "20/20 [==============================] - 0s 5ms/step - loss: 1.2055e-04 - accuracy: 1.0000 - val_loss: 1.0108 - val_accuracy: 0.7625\n",
            "Epoch 87/100\n",
            "20/20 [==============================] - 0s 5ms/step - loss: 2.0527e-04 - accuracy: 1.0000 - val_loss: 1.0382 - val_accuracy: 0.7563\n",
            "Epoch 88/100\n",
            "20/20 [==============================] - 0s 5ms/step - loss: 7.7819e-05 - accuracy: 1.0000 - val_loss: 1.0424 - val_accuracy: 0.7563\n",
            "Epoch 89/100\n",
            "20/20 [==============================] - 0s 5ms/step - loss: 1.8233e-04 - accuracy: 1.0000 - val_loss: 1.0220 - val_accuracy: 0.7625\n",
            "Epoch 90/100\n",
            "20/20 [==============================] - 0s 4ms/step - loss: 1.1955e-04 - accuracy: 1.0000 - val_loss: 1.0218 - val_accuracy: 0.7688\n",
            "Epoch 91/100\n",
            "20/20 [==============================] - 0s 5ms/step - loss: 9.6603e-05 - accuracy: 1.0000 - val_loss: 1.0308 - val_accuracy: 0.7625\n",
            "Epoch 92/100\n",
            "20/20 [==============================] - 0s 4ms/step - loss: 8.9482e-05 - accuracy: 1.0000 - val_loss: 1.0387 - val_accuracy: 0.7563\n",
            "Epoch 93/100\n",
            "20/20 [==============================] - 0s 4ms/step - loss: 7.5336e-05 - accuracy: 1.0000 - val_loss: 1.0470 - val_accuracy: 0.7563\n",
            "Epoch 94/100\n",
            "20/20 [==============================] - 0s 5ms/step - loss: 6.8156e-05 - accuracy: 1.0000 - val_loss: 1.0508 - val_accuracy: 0.7625\n",
            "Epoch 95/100\n",
            "20/20 [==============================] - 0s 6ms/step - loss: 6.3660e-05 - accuracy: 1.0000 - val_loss: 1.0566 - val_accuracy: 0.7625\n",
            "Epoch 96/100\n",
            "20/20 [==============================] - 0s 5ms/step - loss: 7.0206e-05 - accuracy: 1.0000 - val_loss: 1.0594 - val_accuracy: 0.7625\n",
            "Epoch 97/100\n",
            "20/20 [==============================] - 0s 5ms/step - loss: 2.1986e-04 - accuracy: 1.0000 - val_loss: 1.1011 - val_accuracy: 0.7500\n",
            "Epoch 98/100\n",
            "20/20 [==============================] - 0s 5ms/step - loss: 1.1849e-04 - accuracy: 1.0000 - val_loss: 1.1005 - val_accuracy: 0.7500\n",
            "Epoch 99/100\n",
            "20/20 [==============================] - 0s 4ms/step - loss: 0.0011 - accuracy: 1.0000 - val_loss: 0.9632 - val_accuracy: 0.7875\n",
            "Epoch 100/100\n",
            "20/20 [==============================] - 0s 5ms/step - loss: 3.1213e-04 - accuracy: 1.0000 - val_loss: 0.9624 - val_accuracy: 0.7812\n"
          ]
        }
      ]
    },
    {
      "cell_type": "markdown",
      "source": [
        "### Learning curve\n"
      ],
      "metadata": {
        "id": "eWN7XykbcwZ1"
      }
    },
    {
      "cell_type": "code",
      "source": [
        "import matplotlib.pyplot as plt\n",
        "plt.figure(figsize=(10, 5))\n",
        "plt.plot(hist.history['loss'], label='Train Loss')\n",
        "plt.plot(hist.history['val_loss'], label='Validation Loss')\n",
        "plt.xlabel('epochs')\n",
        "plt.ylabel('Binary Crossentropy loss')\n",
        "plt.legend()\n",
        "plt.show()"
      ],
      "metadata": {
        "colab": {
          "base_uri": "https://localhost:8080/",
          "height": 465
        },
        "id": "TdVsM9mmjQ2h",
        "outputId": "3497392c-81d4-4c92-8c2e-30961621cbec"
      },
      "execution_count": 31,
      "outputs": [
        {
          "output_type": "display_data",
          "data": {
            "text/plain": [
              "<Figure size 1000x500 with 1 Axes>"
            ],
            "image/png": "[encoded data removed]"
          },
          "metadata": {}
        }
      ]
    },
    {
      "cell_type": "markdown",
      "source": [
        "### Evaluate the model\n"
      ],
      "metadata": {
        "id": "6kj1mpbcdRiO"
      }
    },
    {
      "cell_type": "code",
      "source": [
        "model.evaluate(xtrain, ytrain)\n"
      ],
      "metadata": {
        "colab": {
          "base_uri": "https://localhost:8080/"
        },
        "id": "cX9jylWhjQ5p",
        "outputId": "52ae14c6-c74f-45f0-b5e0-d979693f7d47"
      },
      "execution_count": 32,
      "outputs": [
        {
          "output_type": "stream",
          "name": "stdout",
          "text": [
            "25/25 [==============================] - 0s 4ms/step - loss: 0.1925 - accuracy: 0.9563\n"
          ]
        },
        {
          "output_type": "execute_result",
          "data": {
            "text/plain": [
              "[0.19249869883060455, 0.956250011920929]"
            ]
          },
          "metadata": {},
          "execution_count": 32
        }
      ]
    },
    {
      "cell_type": "code",
      "source": [
        "model.evaluate(xtest, ytest)\n"
      ],
      "metadata": {
        "colab": {
          "base_uri": "https://localhost:8080/"
        },
        "id": "-Y3D4c07jQ8m",
        "outputId": "db117e75-2727-46aa-cb96-da46f301d4a0"
      },
      "execution_count": 33,
      "outputs": [
        {
          "output_type": "stream",
          "name": "stdout",
          "text": [
            "7/7 [==============================] - 0s 11ms/step - loss: 0.7988 - accuracy: 0.8000\n"
          ]
        },
        {
          "output_type": "execute_result",
          "data": {
            "text/plain": [
              "[0.7987727522850037, 0.800000011920929]"
            ]
          },
          "metadata": {},
          "execution_count": 33
        }
      ]
    },
    {
      "cell_type": "markdown",
      "source": [
        "### Predict results for train and test\n"
      ],
      "metadata": {
        "id": "bWBOKCLSfmBJ"
      }
    },
    {
      "cell_type": "code",
      "source": [
        "yprob_train = model.predict(xtrain)\n",
        "yprob_test = model.predict(xtest)"
      ],
      "metadata": {
        "colab": {
          "base_uri": "https://localhost:8080/"
        },
        "id": "zwv5wf5ojQ_d",
        "outputId": "cf2792b1-4c1b-4978-cd2a-2a135416e1ac"
      },
      "execution_count": 34,
      "outputs": [
        {
          "output_type": "stream",
          "name": "stdout",
          "text": [
            "25/25 [==============================] - 0s 3ms/step\n",
            "7/7 [==============================] - 0s 3ms/step\n"
          ]
        }
      ]
    },
    {
      "cell_type": "code",
      "source": [
        "yprob_train[0:5]\n"
      ],
      "metadata": {
        "colab": {
          "base_uri": "https://localhost:8080/"
        },
        "id": "tKNa9XCJjRCY",
        "outputId": "c3d58a0d-f241-4490-ae5d-c416a7f78ebe"
      },
      "execution_count": 35,
      "outputs": [
        {
          "output_type": "execute_result",
          "data": {
            "text/plain": [
              "array([[9.9996769e-01],\n",
              "       [9.9999964e-01],\n",
              "       [1.0000000e+00],\n",
              "       [2.1345885e-08],\n",
              "       [1.1361493e-07]], dtype=float32)"
            ]
          },
          "metadata": {},
          "execution_count": 35
        }
      ]
    },
    {
      "cell_type": "code",
      "source": [
        "ypred_train = [1 if prob>=0.5 else 0 for prob in yprob_train]\n",
        "ypred_test = [1 if prob>=0.5 else 0 for prob in yprob_test]"
      ],
      "metadata": {
        "id": "uCuaMdNFjRFc"
      },
      "execution_count": 36,
      "outputs": []
    },
    {
      "cell_type": "code",
      "source": [
        "from sklearn.metrics import ConfusionMatrixDisplay\n",
        "ConfusionMatrixDisplay.from_predictions(ytest, ypred_test)"
      ],
      "metadata": {
        "colab": {
          "base_uri": "https://localhost:8080/",
          "height": 466
        },
        "id": "6aynguNIjRIg",
        "outputId": "09244636-f717-4f93-f5e0-fd182aeeba30"
      },
      "execution_count": 37,
      "outputs": [
        {
          "output_type": "execute_result",
          "data": {
            "text/plain": [
              "<sklearn.metrics._plot.confusion_matrix.ConfusionMatrixDisplay at 0x79495c171720>"
            ]
          },
          "metadata": {},
          "execution_count": 37
        },
        {
          "output_type": "display_data",
          "data": {
            "text/plain": [
              "<Figure size 640x480 with 2 Axes>"
            ],
            "image/png": "[encoded data removed]"
          },
          "metadata": {}
        }
      ]
    },
    {
      "cell_type": "code",
      "source": [
        "from sklearn.metrics import classification_report\n",
        "print(classification_report(ytest, ypred_test))"
      ],
      "metadata": {
        "colab": {
          "base_uri": "https://localhost:8080/"
        },
        "id": "x8M6bcy2jRLa",
        "outputId": "9a3de9ea-4cf6-4a1b-bff7-ae4b3bb3415e"
      },
      "execution_count": 38,
      "outputs": [
        {
          "output_type": "stream",
          "name": "stdout",
          "text": [
            "              precision    recall  f1-score   support\n",
            "\n",
            "           0       0.81      0.79      0.80       102\n",
            "           1       0.79      0.81      0.80        98\n",
            "\n",
            "    accuracy                           0.80       200\n",
            "   macro avg       0.80      0.80      0.80       200\n",
            "weighted avg       0.80      0.80      0.80       200\n",
            "\n"
          ]
        }
      ]
    },
    {
      "cell_type": "markdown",
      "source": [
        "### Save the model for future use\n"
      ],
      "metadata": {
        "id": "FsoMISZVf0-r"
      }
    },
    {
      "cell_type": "code",
      "source": [
        "model.save(\"SentimentModel.keras\")\n"
      ],
      "metadata": {
        "id": "n3fzf2DwjROS"
      },
      "execution_count": 39,
      "outputs": []
    },
    {
      "cell_type": "markdown",
      "source": [
        "### Load the model\n"
      ],
      "metadata": {
        "id": "C0jWsSp5f5PK"
      }
    },
    {
      "cell_type": "code",
      "source": [
        "from keras.models import load_model\n"
      ],
      "metadata": {
        "id": "4V5ghWscjRRY"
      },
      "execution_count": 40,
      "outputs": []
    },
    {
      "cell_type": "code",
      "source": [
        "nn = load_model(\"/content/SentimentModel.keras\")\n",
        "nn.summary()"
      ],
      "metadata": {
        "colab": {
          "base_uri": "https://localhost:8080/"
        },
        "id": "hBt0z-GljRU0",
        "outputId": "557b3d0a-a24b-4052-e86d-f98e618222d5"
      },
      "execution_count": 41,
      "outputs": [
        {
          "output_type": "stream",
          "name": "stdout",
          "text": [
            "Model: \"sequential\"\n",
            "_________________________________________________________________\n",
            " Layer (type)                Output Shape              Param #   \n",
            "=================================================================\n",
            " dense (Dense)               (None, 256)               524032    \n",
            "                                                                 \n",
            " dropout (Dropout)           (None, 256)               0         \n",
            "                                                                 \n",
            " dense_1 (Dense)             (None, 128)               32896     \n",
            "                                                                 \n",
            " dropout_1 (Dropout)         (None, 128)               0         \n",
            "                                                                 \n",
            " dense_2 (Dense)             (None, 1)                 129       \n",
            "                                                                 \n",
            "=================================================================\n",
            "Total params: 557057 (2.13 MB)\n",
            "Trainable params: 557057 (2.13 MB)\n",
            "Non-trainable params: 0 (0.00 Byte)\n",
            "_________________________________________________________________\n"
          ]
        }
      ]
    },
    {
      "cell_type": "markdown",
      "source": [
        "### Out of sample prediction\n"
      ],
      "metadata": {
        "id": "dzK-7_BggGcn"
      }
    },
    {
      "cell_type": "code",
      "source": [
        "\n",
        "s = \"Very tasty food\"\n",
        "t = tfidf.transform([s]).toarray()\n",
        "t"
      ],
      "metadata": {
        "colab": {
          "base_uri": "https://localhost:8080/"
        },
        "id": "dGKRZcnGgD0G",
        "outputId": "c95b87ef-564f-4234-b92c-371885a7bd37"
      },
      "execution_count": 42,
      "outputs": [
        {
          "output_type": "execute_result",
          "data": {
            "text/plain": [
              "array([[0., 0., 0., ..., 0., 0., 0.]])"
            ]
          },
          "metadata": {},
          "execution_count": 42
        }
      ]
    },
    {
      "cell_type": "code",
      "source": [
        "model.predict(t)\n"
      ],
      "metadata": {
        "colab": {
          "base_uri": "https://localhost:8080/"
        },
        "id": "WAlYBDyDgIwF",
        "outputId": "49f9d802-8b10-4f37-86dc-fa7b14cf8d0d"
      },
      "execution_count": 43,
      "outputs": [
        {
          "output_type": "stream",
          "name": "stdout",
          "text": [
            "1/1 [==============================] - 0s 30ms/step\n"
          ]
        },
        {
          "output_type": "execute_result",
          "data": {
            "text/plain": [
              "array([[0.9996025]], dtype=float32)"
            ]
          },
          "metadata": {},
          "execution_count": 43
        }
      ]
    },
    {
      "cell_type": "code",
      "source": [
        "def predict_sentiment():\n",
        "  text = input(\"Please enter restuaraunt review : \")\n",
        "  text = preprocess_text(text)\n",
        "  text_pre = tfidf.transform([text]).toarray()\n",
        "  prob = model.predict(text_pre)\n",
        "  if prob>=0.5:\n",
        "    print(\"Positive Review\")\n",
        "  else:\n",
        "    print(\"Negative Review\")\n",
        "  return prob"
      ],
      "metadata": {
        "id": "pU0dkU-rgKhM"
      },
      "execution_count": 44,
      "outputs": []
    },
    {
      "cell_type": "code",
      "source": [
        "predict_sentiment()\n"
      ],
      "metadata": {
        "colab": {
          "base_uri": "https://localhost:8080/"
        },
        "id": "Lb2goQpPgNtz",
        "outputId": "9e04862a-80f7-4a6c-b631-15d505b05706"
      },
      "execution_count": 45,
      "outputs": [
        {
          "output_type": "stream",
          "name": "stdout",
          "text": [
            "Please enter restuaraunt review : Very good ambience , i liked it\n",
            "1/1 [==============================] - 0s 18ms/step\n",
            "Positive Review\n"
          ]
        },
        {
          "output_type": "execute_result",
          "data": {
            "text/plain": [
              "array([[0.99997413]], dtype=float32)"
            ]
          },
          "metadata": {},
          "execution_count": 45
        }
      ]
    },
    {
      "cell_type": "code",
      "source": [
        "predict_sentiment()\n"
      ],
      "metadata": {
        "colab": {
          "base_uri": "https://localhost:8080/"
        },
        "id": "zPaY5e86gP1Z",
        "outputId": "4a1a99e9-1915-4446-8aa3-10933717d649"
      },
      "execution_count": 46,
      "outputs": [
        {
          "output_type": "stream",
          "name": "stdout",
          "text": [
            "Please enter restuaraunt review :  Bad Taste, I did not like the taste of Pizza here\n",
            "1/1 [==============================] - 0s 17ms/step\n",
            "Negative Review\n"
          ]
        },
        {
          "output_type": "execute_result",
          "data": {
            "text/plain": [
              "array([[3.0102374e-06]], dtype=float32)"
            ]
          },
          "metadata": {},
          "execution_count": 46
        }
      ]
    },
    {
      "cell_type": "code",
      "source": [],
      "metadata": {
        "id": "tYm9CxbHgVzG"
      },
      "execution_count": 46,
      "outputs": []
    }
  ]
}